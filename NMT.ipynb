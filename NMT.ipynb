{
 "cells": [
  {
   "cell_type": "markdown",
   "metadata": {},
   "source": [
    "<h1 style=\"text-align:center;\">Machine Translation (MT)</h1>"
   ]
  },
  {
   "cell_type": "markdown",
   "metadata": {},
   "source": [
    "<br>\n",
    "\n",
    "## 1. Initial Deployment\n",
    "\n",
    "---"
   ]
  },
  {
   "cell_type": "code",
   "execution_count": 2,
   "metadata": {},
   "outputs": [],
   "source": [
    "# Import the libraries\n",
    "import nltk, re, tqdm, typing\n",
    "from datasets import load_dataset\n",
    "import numpy as np\n",
    "import pandas as pd\n",
    "import tensorflow as tf\n",
    "import matplotlib.pyplot as plt\n",
    "from typing import Any, Tuple\n",
    "%matplotlib inline"
   ]
  },
  {
   "cell_type": "markdown",
   "metadata": {},
   "source": [
    "<br>\n",
    "\n",
    "## 2. Load Dataset\n",
    "\n",
    "---"
   ]
  },
  {
   "cell_type": "code",
   "execution_count": null,
   "metadata": {},
   "outputs": [],
   "source": [
    "# # Load datasets using HuggingFace\n",
    "# opus_books = load_dataset(\"opus_books\", \"en-fr\")    # OPUS Books\n",
    "# wmt14 = load_dataset(\"wmt14\", 'fr-en')              # WMT-14\n",
    "\n",
    "# # Initialize a dictionary\n",
    "# dataset = {\"en\": [], \"fr\": []}\n",
    "\n",
    "# # Loop over the datasets\n",
    "# for i_dataset in [\"opus_books\", \"wmt14\"]:\n",
    "\n",
    "#     # Retrive the dataset\n",
    "#     i_dataset = globals()[i_dataset]\n",
    "\n",
    "#     # Loop over the rows of dataset\n",
    "#     for i in i_dataset.data[\"train\"][\"translation\"].to_numpy():\n",
    "\n",
    "#         # Append to dictionary\n",
    "#         dataset[\"en\"].append(i[\"en\"])\n",
    "#         dataset[\"fr\"].append(i[\"fr\"])\n",
    "    \n",
    "# # Convert to dataframe\n",
    "# pd.DataFrame(dataset)"
   ]
  },
  {
   "cell_type": "code",
   "execution_count": 4,
   "metadata": {},
   "outputs": [
    {
     "name": "stdout",
     "output_type": "stream",
     "text": [
      "English: \n",
      " ['new jersey is sometimes quiet during autumn , and it is snowy in april .', 'the united states is usually chilly during july , and it is usually freezing in november .']\n",
      "\n",
      "French: \n",
      " [\"new jersey est parfois calme pendant l' automne , et il est neigeux en avril .\", 'les Ã©tats-unis est gÃ©nÃ©ralement froid en juillet , et il gÃ¨le habituellement en novembre .']\n"
     ]
    }
   ],
   "source": [
    "# Load the english dataset\n",
    "with open(\"./dataset/en.txt\", ) as f:\n",
    "    en = f.read().split(\"\\n\")\n",
    "\n",
    "# Load the french dataset\n",
    "with open(\"./dataset/fr.txt\") as f:\n",
    "    fr = f.read().split(\"\\n\")\n",
    "\n",
    "# Report\n",
    "print(\"English: \\n\", en[:2])\n",
    "print(\"\\nFrench: \\n\", fr[:2])"
   ]
  },
  {
   "cell_type": "markdown",
   "metadata": {},
   "source": [
    "<br>\n",
    "\n",
    "## 3. Text Preprocessing\n",
    "\n",
    "---"
   ]
  },
  {
   "cell_type": "code",
   "execution_count": 5,
   "metadata": {},
   "outputs": [],
   "source": [
    "# Function for preprocessing the texts\n",
    "def text_preprocessing(text):\n",
    "\n",
    "    # Lowercase\n",
    "    text = text.lower()\n",
    "\n",
    "    # Remove unnecessary characters\n",
    "    text = re.sub(r\"[/.,|?><;:±!@#$%^&*()_+=-]\", \" \", text)\n",
    "\n",
    "    # Remove extra empty spaces\n",
    "    text = \" \".join(text.split())\n",
    "\n",
    "    return text"
   ]
  },
  {
   "cell_type": "code",
   "execution_count": 7,
   "metadata": {},
   "outputs": [
    {
     "name": "stderr",
     "output_type": "stream",
     "text": [
      "100%|\u001b[34m███████████████████████████████████████████████████\u001b[0m| 137861/137861 [00:00<00:00, 417745.01it/s]\u001b[0m\n",
      "100%|\u001b[34m███████████████████████████████████████████████████\u001b[0m| 137861/137861 [00:00<00:00, 334696.83it/s]\u001b[0m"
     ]
    },
    {
     "name": "stdout",
     "output_type": "stream",
     "text": [
      "English: \n",
      " ['new jersey is sometimes quiet during autumn and it is snowy in april'\n",
      " 'the united states is usually chilly during july and it is usually freezing in november']\n",
      "\n",
      "French: \n",
      " [\"new jersey est parfois calme pendant l' automne et il est neigeux en avril\"\n",
      " 'les ã©tats unis est gã©nã©ralement froid en juillet et il gã¨le habituellement en novembre']\n"
     ]
    },
    {
     "name": "stderr",
     "output_type": "stream",
     "text": [
      "\n"
     ]
    }
   ],
   "source": [
    "# Preprocess the texts\n",
    "en = np.array([text_preprocessing(i) for i in tqdm.tqdm(en, ncols=100, colour=\"blue\")])\n",
    "fr = np.array([text_preprocessing(i) for i in tqdm.tqdm(fr, ncols=100, colour=\"blue\")])\n",
    "\n",
    "# Report\n",
    "print(\"English: \\n\", en[:2])\n",
    "print(\"\\nFrench: \\n\", fr[:2])"
   ]
  },
  {
   "cell_type": "markdown",
   "metadata": {},
   "source": [
    "<br>\n",
    "\n",
    "## 4. Feature Extraction\n",
    "\n",
    "---"
   ]
  },
  {
   "cell_type": "code",
   "execution_count": 8,
   "metadata": {},
   "outputs": [],
   "source": [
    "# Function for creating Word2Int and Int2Word\n",
    "def prepare_word_dictionay(list_of_texts, language):\n",
    "\n",
    "    # Unique tokens\n",
    "    text = \" \".join(list_of_texts.ravel()).lower()                  # Convert list of strings into one string\n",
    "    tokens = nltk.tokenize.word_tokenize(text, language=language)   # Tokenize\n",
    "    unique_tokens = np.unique(tokens)                               # Unique tokens\n",
    "\n",
    "    # Initialize Word2Int\n",
    "    word2int = {}\n",
    "\n",
    "    # Add necessary tags  \n",
    "    word2int[\"<SOS>\"] = 1        # Start-of-sequence <SOS> tag\n",
    "    word2int[\"<EOS>\"] = 2        # End-of-sequence <EOS> tag\n",
    "    word2int[\"<UNK>\"] = 3        # Unknown <UNK> tag\n",
    "\n",
    "    # Loop over unique tokens\n",
    "    for i_token in tqdm.tqdm(unique_tokens, ncols=100, colour=\"blue\"):\n",
    "\n",
    "        # Add to Word2Int\n",
    "        word2int[i_token] = max(word2int.values())+1\n",
    "\n",
    "    # Make Int2Word\n",
    "    int2word = {idx: word for word, idx in word2int.items()}\n",
    "\n",
    "    return word2int, int2word"
   ]
  },
  {
   "cell_type": "code",
   "execution_count": 9,
   "metadata": {},
   "outputs": [
    {
     "name": "stderr",
     "output_type": "stream",
     "text": [
      "100%|\u001b[34m█████████████████████████████████████████████████████████\u001b[0m| 197/197 [00:00<00:00, 194647.32it/s]\u001b[0m\n",
      "100%|\u001b[34m█████████████████████████████████████████████████████████\u001b[0m| 346/346 [00:00<00:00, 344056.23it/s]\u001b[0m\n"
     ]
    }
   ],
   "source": [
    "# Create word2int and int2word\n",
    "word2int_en, int2word_en = prepare_word_dictionay(list_of_texts=en, language=\"english\")\n",
    "word2int_fr, int2word_fr = prepare_word_dictionay(list_of_texts=fr, language=\"french\")"
   ]
  },
  {
   "cell_type": "code",
   "execution_count": 10,
   "metadata": {},
   "outputs": [],
   "source": [
    "# Label encoding function; For converting words to numerical values\n",
    "def label_encoding(text, word2int, language):\n",
    "\n",
    "    # Tokenize\n",
    "    tokens = nltk.tokenize.word_tokenize(text, language=language)\n",
    "\n",
    "    # Add staring/ending tag\n",
    "    tokens.insert(0, \"<SOS>\")\n",
    "    tokens.insert(len(tokens), \"<EOS>\")\n",
    "\n",
    "    # Initialize a list\n",
    "    encoded_tokens = []\n",
    "\n",
    "    # Loop over tokens\n",
    "    for i in tokens:\n",
    "\n",
    "        # Append idx if it exist\n",
    "        try: encoded_tokens.append(word2int[i])\n",
    "\n",
    "        # Append <UNK> if it doesn't exist\n",
    "        except: encoded_tokens.append(word2int[\"<UNK>\"])\n",
    "\n",
    "    return encoded_tokens\n",
    "\n",
    "\n",
    "# Label decoding function; For converting numerical values to words\n",
    "def label_decoding(tokens, int2word):\n",
    "\n",
    "    # Initialize a list\n",
    "    decoded_tokens = []\n",
    "\n",
    "    # Loop over tokens\n",
    "    for i in tokens:\n",
    "\n",
    "        # Append word if it exist\n",
    "        try: decoded_tokens.append(int2word[i])\n",
    "\n",
    "        # Append <UNK> if it doesn't exist\n",
    "        except: decoded_tokens.append(\"<UNK>\")\n",
    "\n",
    "    return decoded_tokens"
   ]
  },
  {
   "cell_type": "code",
   "execution_count": 11,
   "metadata": {},
   "outputs": [
    {
     "name": "stderr",
     "output_type": "stream",
     "text": [
      "100%|\u001b[34m████████████████████████████████████████████████████\u001b[0m| 137861/137861 [00:10<00:00, 13534.07it/s]\u001b[0m\n",
      "100%|\u001b[34m████████████████████████████████████████████████████\u001b[0m| 137861/137861 [00:10<00:00, 12871.79it/s]\u001b[0m"
     ]
    },
    {
     "name": "stdout",
     "output_type": "stream",
     "text": [
      "English: \n",
      " [[1, 123, 92, 89, 158, 141, 53, 16, 7, 90, 89, 157, 87, 12, 2]]\n",
      "\n",
      "French: \n",
      " [[1, 206, 154, 109, 226, 53, 229, 157, 4, 32, 110, 145, 109, 205, 101, 37, 2]]\n"
     ]
    },
    {
     "name": "stderr",
     "output_type": "stream",
     "text": [
      "\n"
     ]
    }
   ],
   "source": [
    "# Label encode the texts\n",
    "en_label_encoded = [label_encoding(i, language=\"english\", word2int=word2int_en) for i in tqdm.tqdm(en, ncols=100, colour=\"blue\", total=en.shape[0])]\n",
    "fr_label_encoded = [label_encoding(i, language=\"french\", word2int=word2int_fr) for i in tqdm.tqdm(fr, ncols=100, colour=\"blue\", total=fr.shape[0])]\n",
    "\n",
    "# Report\n",
    "print(\"English: \\n\", en_label_encoded[:1])\n",
    "print(\"\\nFrench: \\n\", fr_label_encoded[:1])"
   ]
  },
  {
   "cell_type": "code",
   "execution_count": 12,
   "metadata": {},
   "outputs": [],
   "source": [
    "# Function for padding the sequence\n",
    "def padding(label_encoded_seq, max_len):\n",
    "\n",
    "    # Pad the sequences\n",
    "    padded_seq = tf.keras.preprocessing.sequence.pad_sequences(sequences=label_encoded_seq, maxlen=max_len, \n",
    "                                                               padding=\"post\", truncating=\"post\")\n",
    "\n",
    "    return padded_seq"
   ]
  },
  {
   "cell_type": "code",
   "execution_count": 13,
   "metadata": {},
   "outputs": [
    {
     "name": "stdout",
     "output_type": "stream",
     "text": [
      "Shape of int tokens EN:  (137861, 26)\n",
      "Shape of int tokens FR:  (137861, 26)\n"
     ]
    }
   ],
   "source": [
    "# Maximum length for padding\n",
    "max_len = max(max([len(i) for i in en_label_encoded]), max([len(i) for i in fr_label_encoded]))\n",
    "\n",
    "# Pad the sequences\n",
    "en_label_encoded = padding(en_label_encoded, max_len) \n",
    "fr_label_encoded = padding(fr_label_encoded, max_len) \n",
    "\n",
    "# Report\n",
    "print(\"Shape of int tokens EN: \", en_label_encoded.shape)\n",
    "print(\"Shape of int tokens FR: \", fr_label_encoded.shape)"
   ]
  },
  {
   "cell_type": "code",
   "execution_count": 14,
   "metadata": {},
   "outputs": [],
   "source": [
    "# One-hot encoding; Function for converting numerical values to binary vectors\n",
    "def one_hot_encoding(label_encoded_seq, length):\n",
    "\n",
    "    # Initialize a list for one hot encoded\n",
    "    one_hot_encoded = []\n",
    "    \n",
    "    # Loop over each token in the sequence\n",
    "    for i_token in label_encoded_seq:\n",
    "\n",
    "        # Initialize zero vector\n",
    "        #token = np.zeros(shape=length)\n",
    "        token = [0 for _ in range(length)]\n",
    "        \n",
    "        # Set one\n",
    "        token[i_token] = 1\n",
    "\n",
    "        # Append to the list\n",
    "        one_hot_encoded.append(token)\n",
    "\n",
    "    #return np.array(one_hot_encoded)\n",
    "    return one_hot_encoded\n",
    "\n",
    "\n",
    "# Function for one hot decoding\n",
    "def one_hot_decoding(tokens):\n",
    "\n",
    "    # Initialize a list for one hot decoded\n",
    "    one_hot_decoded = []\n",
    "        \n",
    "    # Loop over each token in the sequence\n",
    "    for i_token in tokens:\n",
    "\n",
    "        # Append to the list\n",
    "        one_hot_decoded.append(np.argmax(i_token))\n",
    "\n",
    "    #return np.array(one_hot_decoded)\n",
    "    return one_hot_decoded"
   ]
  },
  {
   "cell_type": "code",
   "execution_count": 15,
   "metadata": {},
   "outputs": [
    {
     "name": "stderr",
     "output_type": "stream",
     "text": [
      "100%|\u001b[34m█████████████████████████████████████████████████████\u001b[0m| 137861/137861 [00:32<00:00, 4242.91it/s]\u001b[0m\n",
      "100%|\u001b[34m█████████████████████████████████████████████████████\u001b[0m| 137861/137861 [00:57<00:00, 2417.49it/s]\u001b[0m\n"
     ]
    }
   ],
   "source": [
    "# One-hot encoding\n",
    "#en_one_hot_encoded = np.array([one_hot_encoding(i, length=len(word2int_en)+1) for i in tqdm.tqdm(en_label_encoded, ncols=100, colour=\"blue\")])\n",
    "#fr_one_hot_encoded = np.array([one_hot_encoding(i, length=len(word2int_fr)+1) for i in tqdm.tqdm(fr_label_encoded, ncols=100, colour=\"blue\")])\n",
    "en_one_hot_encoded = [one_hot_encoding(i, length=len(word2int_en)+1) for i in tqdm.tqdm(en_label_encoded, ncols=100, colour=\"blue\")]\n",
    "fr_one_hot_encoded = [one_hot_encoding(i, length=len(word2int_fr)+1) for i in tqdm.tqdm(fr_label_encoded, ncols=100, colour=\"blue\")]\n",
    "\n",
    "# Report\n",
    "#print(\"Shape of int tokens EN: \", en_one_hot_encoded.shape)\n",
    "#print(\"Shape of int tokens FR: \", fr_one_hot_encoded.shape)"
   ]
  },
  {
   "cell_type": "code",
   "execution_count": 16,
   "metadata": {},
   "outputs": [],
   "source": [
    "# Function for splitting the dataset into training/testing set\n",
    "def split_train_test(x, y, train_ratio=0.95):\n",
    "\n",
    "    # Find the dividing index\n",
    "    #div_idx = int(x.shape[0]*train_ratio)\n",
    "    div_idx = int(len(x)*train_ratio)\n",
    "\n",
    "    # Training set\n",
    "    x_train, y_train = x[:div_idx], y[:div_idx]\n",
    "\n",
    "    # Testing set\n",
    "    x_test, y_test = x[div_idx:], y[div_idx:]\n",
    "\n",
    "    return x_train, y_train, x_test, y_test"
   ]
  },
  {
   "cell_type": "code",
   "execution_count": 17,
   "metadata": {},
   "outputs": [],
   "source": [
    "# Split the dataset into training and testing set\n",
    "x_train, y_train, x_test, y_test = split_train_test(x=en_one_hot_encoded, y=fr_one_hot_encoded, train_ratio=0.95)\n",
    "\n",
    "# Report\n",
    "# print(\"x-train shape: \", x_train.shape) \n",
    "# print(\"y-train Shape: \", y_train.shape)\n",
    "# print(\"x-test Shape:  \", x_test.shape)\n",
    "# print(\"y-test Shape:  \", y_test.shape)"
   ]
  },
  {
   "cell_type": "code",
   "execution_count": 18,
   "metadata": {},
   "outputs": [],
   "source": [
    "x_train, y_train, x_test, y_test = tf.constant(x_train), tf.constant(y_train), tf.constant(x_test), tf.constant(y_test)"
   ]
  },
  {
   "cell_type": "markdown",
   "metadata": {},
   "source": [
    "<br>\n",
    "\n",
    "## 4. Model Construction\n",
    "\n",
    "---"
   ]
  },
  {
   "cell_type": "code",
   "execution_count": 19,
   "metadata": {},
   "outputs": [],
   "source": [
    "# Import libraries\n",
    "import tensorflow as tf\n",
    "from tensorflow import keras\n",
    "from keras.utils.vis_utils import plot_model"
   ]
  },
  {
   "cell_type": "markdown",
   "metadata": {},
   "source": [
    "<br>\n",
    "\n",
    "### 4.1. SIMPLE RNN MODEL"
   ]
  },
  {
   "cell_type": "code",
   "execution_count": 22,
   "metadata": {},
   "outputs": [
    {
     "name": "stdout",
     "output_type": "stream",
     "text": [
      "Input Data - (137861, 25, 203): \n",
      "[[0 1 0 ... 0 0 0]\n",
      " [0 0 0 ... 0 0 0]\n",
      " [0 0 0 ... 0 0 0]\n",
      " ...\n",
      " [1 0 0 ... 0 0 0]\n",
      " [1 0 0 ... 0 0 0]\n",
      " [1 0 0 ... 0 0 0]]\n"
     ]
    }
   ],
   "source": [
    "# Input data\n",
    "input_data  = en_tokens_one_hot\n",
    "print(f\"Input Data - {input_data.shape}: \")\n",
    "print(input_data[0])"
   ]
  },
  {
   "cell_type": "code",
   "execution_count": 23,
   "metadata": {},
   "outputs": [
    {
     "name": "stdout",
     "output_type": "stream",
     "text": [
      "\n",
      "Output Data - (137861, 25, 348): \n",
      "[[0 1 0 ... 0 0 0]\n",
      " [0 0 0 ... 0 0 0]\n",
      " [0 0 0 ... 0 0 0]\n",
      " ...\n",
      " [1 0 0 ... 0 0 0]\n",
      " [1 0 0 ... 0 0 0]\n",
      " [1 0 0 ... 0 0 0]]\n"
     ]
    }
   ],
   "source": [
    "# Output data\n",
    "output_data  = fr_tokens_one_hot\n",
    "print(f\"\\nOutput Data - {output_data.shape}: \")\n",
    "print(output_data[0])"
   ]
  },
  {
   "cell_type": "code",
   "execution_count": 24,
   "metadata": {},
   "outputs": [],
   "source": [
    "# Get input/output shape\n",
    "input_tokens_num  = input_data.shape[-1]\n",
    "output_tokens_num = output_data.shape[-1]"
   ]
  },
  {
   "cell_type": "code",
   "execution_count": 25,
   "metadata": {},
   "outputs": [
    {
     "name": "stdout",
     "output_type": "stream",
     "text": [
      "Model: \"model\"\n",
      "_________________________________________________________________\n",
      " Layer (type)                Output Shape              Param #   \n",
      "=================================================================\n",
      " input (InputLayer)          [(None, None, 203)]       0         \n",
      "                                                                 \n",
      " bidirectional (Bidirectiona  (None, None, 1024)       2932736   \n",
      " l)                                                              \n",
      "                                                                 \n",
      " output (Dense)              (None, None, 348)         356700    \n",
      "                                                                 \n",
      "=================================================================\n",
      "Total params: 3,289,436\n",
      "Trainable params: 3,289,436\n",
      "Non-trainable params: 0\n",
      "_________________________________________________________________\n",
      "None\n"
     ]
    },
    {
     "data": {
      "image/png": "[encoded data removed]",
      "text/plain": [
       "<IPython.core.display.Image object>"
      ]
     },
     "execution_count": 25,
     "metadata": {},
     "output_type": "execute_result"
    }
   ],
   "source": [
    "# Input \n",
    "input = tf.keras.layers.Input(shape = (None, input_tokens_num), name=\"input\")\n",
    "\n",
    "# LSTM\n",
    "lstm_bi = tf.keras.layers.Bidirectional(tf.keras.layers.LSTM(512, return_sequences=True))(input)\n",
    "\n",
    "# Output\n",
    "output = tf.keras.layers.Dense(output_tokens_num, activation='softmax', name=\"output\")(lstm_bi)    \n",
    "\n",
    "# Model construction\n",
    "model = tf.keras.Model(input, output)\n",
    "\n",
    "# Compile the model\n",
    "model.compile(loss=\"categorical_crossentropy\",    \n",
    "              optimizer='adam', \n",
    "              metrics=['accuracy'])\n",
    "\n",
    "# Model summary\n",
    "print(model.summary())\n",
    "plot_model(model)"
   ]
  },
  {
   "cell_type": "code",
   "execution_count": 26,
   "metadata": {},
   "outputs": [
    {
     "name": "stdout",
     "output_type": "stream",
     "text": [
      "Epoch 1/10\n",
      "3447/3447 [==============================] - 41s 10ms/step - loss: 0.5247 - accuracy: 0.8511 - val_loss: 0.2110 - val_accuracy: 0.9317\n",
      "Epoch 2/10\n",
      "3447/3447 [==============================] - 36s 10ms/step - loss: 0.1546 - accuracy: 0.9498 - val_loss: 0.1310 - val_accuracy: 0.9574\n",
      "Epoch 3/10\n",
      "3447/3447 [==============================] - 36s 10ms/step - loss: 0.1032 - accuracy: 0.9663 - val_loss: 0.0975 - val_accuracy: 0.9687\n",
      "Epoch 4/10\n",
      "3447/3447 [==============================] - 36s 10ms/step - loss: 0.0798 - accuracy: 0.9739 - val_loss: 0.0849 - val_accuracy: 0.9726\n",
      "Epoch 5/10\n",
      "3447/3447 [==============================] - 36s 10ms/step - loss: 0.0651 - accuracy: 0.9786 - val_loss: 0.0734 - val_accuracy: 0.9764\n",
      "Epoch 6/10\n",
      "3447/3447 [==============================] - 36s 11ms/step - loss: 0.0546 - accuracy: 0.9819 - val_loss: 0.0693 - val_accuracy: 0.9787\n",
      "Epoch 7/10\n",
      "3447/3447 [==============================] - 36s 10ms/step - loss: 0.0479 - accuracy: 0.9842 - val_loss: 0.0628 - val_accuracy: 0.9808\n",
      "Epoch 8/10\n",
      "3447/3447 [==============================] - 36s 10ms/step - loss: 0.0410 - accuracy: 0.9863 - val_loss: 0.0601 - val_accuracy: 0.9816\n",
      "Epoch 9/10\n",
      "3447/3447 [==============================] - 35s 10ms/step - loss: 0.0362 - accuracy: 0.9879 - val_loss: 0.0596 - val_accuracy: 0.9822\n",
      "Epoch 10/10\n",
      "3447/3447 [==============================] - 35s 10ms/step - loss: 0.0327 - accuracy: 0.9892 - val_loss: 0.0577 - val_accuracy: 0.9831\n"
     ]
    },
    {
     "data": {
      "text/plain": [
       "<keras.callbacks.History at 0x1fee06669d0>"
      ]
     },
     "execution_count": 26,
     "metadata": {},
     "output_type": "execute_result"
    }
   ],
   "source": [
    "# Train the model\n",
    "model.fit(input_data,\n",
    "           output_data,\n",
    "           batch_size=32,\n",
    "           epochs=10,\n",
    "           validation_split=0.2)"
   ]
  },
  {
   "cell_type": "code",
   "execution_count": 27,
   "metadata": {},
   "outputs": [
    {
     "name": "stdout",
     "output_type": "stream",
     "text": [
      "4309/4309 [==============================] - 21s 5ms/step - loss: 0.0316 - accuracy: 0.9902\n"
     ]
    },
    {
     "data": {
      "text/plain": [
       "[0.03159509226679802, 0.9901622533798218]"
      ]
     },
     "execution_count": 27,
     "metadata": {},
     "output_type": "execute_result"
    }
   ],
   "source": [
    "# Model evaluation\n",
    "model.evaluate(input_data, output_data)"
   ]
  },
  {
   "cell_type": "code",
   "execution_count": 48,
   "metadata": {},
   "outputs": [],
   "source": [
    "# Function fro making inference\n",
    "def inference(sent):\n",
    "\n",
    "    # Preprocess the sentence\n",
    "    sent = text_preprocessing(sent)\n",
    "\n",
    "    # Encode the sentence\n",
    "    sent = encode(sent, language=\"english\", word2int=word2int_en)\n",
    "\n",
    "    # Pad the sequence\n",
    "    sent_int = tf.keras.preprocessing.sequence.pad_sequences(sequences=[sent], maxlen=max_pad, padding=\"post\", truncating=\"post\")\n",
    "\n",
    "    # One-hot encoding\n",
    "    sent_one_hot = one_hot_encode(sequences=sent_int, tokens_num=len(word2int_en))\n",
    "\n",
    "    # Predict the model\n",
    "    prediction = model.predict(sent_one_hot)\n",
    "\n",
    "    # One-hot decoding\n",
    "    pred_sent = one_hot_decode(prediction)\n",
    "\n",
    "    # Decode the sentence\n",
    "    pred_sent = decode(pred_sent[0], int2word=int2word_fr, word2int=word2int_fr)\n",
    "\n",
    "    return pred_sent"
   ]
  },
  {
   "cell_type": "code",
   "execution_count": 53,
   "metadata": {},
   "outputs": [
    {
     "name": "stdout",
     "output_type": "stream",
     "text": [
      "INPUT:       new jersey is sometimes quiet during autumn   and it is snowy in april  \n"
     ]
    },
    {
     "name": "stderr",
     "output_type": "stream",
     "text": [
      "100%|\u001b[34m█████████████████████████████████████████████████████████████████████████\u001b[0m| 1/1 [00:00<?, ?it/s]\u001b[0m\n",
      "100%|\u001b[34m█████████████████████████████████████████████████████████████████████████\u001b[0m| 1/1 [00:00<?, ?it/s]\u001b[0m"
     ]
    },
    {
     "name": "stdout",
     "output_type": "stream",
     "text": [
      "PREDICTION:  new jersey est parfois calme pendant <UNK> <UNK> automne et il est neigeux en avril\n",
      "OUTPUT:      new jersey est parfois calme pendant l' automne   et il est neigeux en avril  \n"
     ]
    },
    {
     "name": "stderr",
     "output_type": "stream",
     "text": [
      "\n"
     ]
    }
   ],
   "source": [
    "print(\"INPUT:      \", en[0])\n",
    "print(\"PREDICTION: \", inference(sent=en[0]))\n",
    "print(\"OUTPUT:     \", fr[0])"
   ]
  },
  {
   "cell_type": "markdown",
   "metadata": {},
   "source": [
    "<br>\n",
    "\n",
    "### 4.2. ENCODER-DECODER (VANILLA)"
   ]
  },
  {
   "cell_type": "code",
   "execution_count": 54,
   "metadata": {},
   "outputs": [
    {
     "name": "stdout",
     "output_type": "stream",
     "text": [
      "Encoder Input Data - (137861, 25, 203): \n",
      "[[0 1 0 ... 0 0 0]\n",
      " [0 0 0 ... 0 0 0]\n",
      " [0 0 0 ... 0 0 0]\n",
      " ...\n",
      " [1 0 0 ... 0 0 0]\n",
      " [1 0 0 ... 0 0 0]\n",
      " [1 0 0 ... 0 0 0]]\n"
     ]
    }
   ],
   "source": [
    "# Encoder data\n",
    "encoder_data  = en_tokens_one_hot\n",
    "print(f\"Encoder Input Data - {encoder_data.shape}: \")\n",
    "print(encoder_data[0])"
   ]
  },
  {
   "cell_type": "code",
   "execution_count": 55,
   "metadata": {},
   "outputs": [
    {
     "name": "stdout",
     "output_type": "stream",
     "text": [
      "\n",
      "Decoder Input Data - (137861, 25, 348): \n",
      "[[0 1 0 ... 0 0 0]\n",
      " [0 0 0 ... 0 0 0]\n",
      " [0 0 0 ... 0 0 0]\n",
      " ...\n",
      " [1 0 0 ... 0 0 0]\n",
      " [1 0 0 ... 0 0 0]\n",
      " [1 0 0 ... 0 0 0]]\n"
     ]
    }
   ],
   "source": [
    "# Decoder data\n",
    "decoder_data  = fr_tokens_one_hot\n",
    "print(f\"\\nDecoder Input Data - {decoder_data.shape}: \")\n",
    "print(decoder_data[0])"
   ]
  },
  {
   "cell_type": "code",
   "execution_count": 56,
   "metadata": {},
   "outputs": [],
   "source": [
    "num_encoder_tokens = 203 #len(word2int_en)\n",
    "num_decoder_tokens = 348 #len(word2int_fr)\n",
    "n_repeat_vector = max_pad\n",
    "latent_dim = 512"
   ]
  },
  {
   "cell_type": "code",
   "execution_count": 57,
   "metadata": {},
   "outputs": [
    {
     "name": "stdout",
     "output_type": "stream",
     "text": [
      "Model: \"model_1\"\n",
      "_________________________________________________________________\n",
      " Layer (type)                Output Shape              Param #   \n",
      "=================================================================\n",
      " input (InputLayer)          [(None, None, 203)]       0         \n",
      "                                                                 \n",
      " encoder (LSTM)              (None, 512)               1466368   \n",
      "                                                                 \n",
      " decoder_1 (RepeatVector)    (None, 25, 512)           0         \n",
      "                                                                 \n",
      " decoder_2 (LSTM)            (None, 25, 512)           2099200   \n",
      "                                                                 \n",
      " FCL (Dense)                 (None, 25, 512)           262656    \n",
      "                                                                 \n",
      " output (Dense)              (None, 25, 348)           178524    \n",
      "                                                                 \n",
      "=================================================================\n",
      "Total params: 4,006,748\n",
      "Trainable params: 4,006,748\n",
      "Non-trainable params: 0\n",
      "_________________________________________________________________\n",
      "None\n"
     ]
    },
    {
     "data": {
      "image/png": "[encoded data removed]",
      "text/plain": [
       "<IPython.core.display.Image object>"
      ]
     },
     "execution_count": 57,
     "metadata": {},
     "output_type": "execute_result"
    }
   ],
   "source": [
    "# Input sequence\n",
    "input_sequence = tf.keras.layers.Input(shape = (None, num_encoder_tokens), name=\"input\")\n",
    "\n",
    "# Encoder - LSTM layer\n",
    "encoder = tf.keras.layers.LSTM(units = latent_dim, return_sequences = False, name=\"encoder\")(input_sequence)\n",
    "\n",
    "# Decoder - Repeat vector for N times\n",
    "repeat_vector = tf.keras.layers.RepeatVector(n_repeat_vector, name=\"decoder_1\")(encoder)\n",
    "\n",
    "# Decoder - LSTM layer\n",
    "decoder = tf.keras.layers.LSTM(units = latent_dim, return_sequences = True, name=\"decoder_2\")(repeat_vector)\n",
    "\n",
    "# Fully Connected Layer\n",
    "fully_connected_layer = tf.keras.layers.Dense(units = latent_dim, activation = 'relu', name=\"FCL\")(decoder)\n",
    "\n",
    "# Output\n",
    "logits = tf.keras.layers.Dense(units = num_decoder_tokens, activation = \"softmax\", name=\"output\")(fully_connected_layer)\n",
    "\n",
    "# Model\n",
    "model = tf.keras.Model(inputs = input_sequence, outputs = logits)\n",
    "\n",
    "# Compile the model\n",
    "model.compile(loss = \"categorical_crossentropy\",\n",
    "                optimizer = \"adam\",\n",
    "                metrics = ['accuracy'])\n",
    "\n",
    "# Summary\n",
    "print(model.summary())\n",
    "\n",
    "# Plot the model\n",
    "plot_model(model)"
   ]
  },
  {
   "cell_type": "code",
   "execution_count": 58,
   "metadata": {},
   "outputs": [
    {
     "name": "stdout",
     "output_type": "stream",
     "text": [
      "Epoch 1/10\n",
      "431/431 [==============================] - 19s 39ms/step - loss: 1.7876 - accuracy: 0.5784 - val_loss: 1.1338 - val_accuracy: 0.6764\n",
      "Epoch 2/10\n",
      "431/431 [==============================] - 17s 38ms/step - loss: 1.0187 - accuracy: 0.7040 - val_loss: 0.9298 - val_accuracy: 0.7228\n",
      "Epoch 3/10\n",
      "431/431 [==============================] - 16s 38ms/step - loss: 0.8028 - accuracy: 0.7555 - val_loss: 0.7181 - val_accuracy: 0.7771\n",
      "Epoch 4/10\n",
      "431/431 [==============================] - 17s 38ms/step - loss: 0.6678 - accuracy: 0.7889 - val_loss: 0.6035 - val_accuracy: 0.8075\n",
      "Epoch 5/10\n",
      "431/431 [==============================] - 17s 38ms/step - loss: 0.5363 - accuracy: 0.8281 - val_loss: 0.4887 - val_accuracy: 0.8432\n",
      "Epoch 6/10\n",
      "431/431 [==============================] - 17s 39ms/step - loss: 0.4114 - accuracy: 0.8689 - val_loss: 0.3628 - val_accuracy: 0.8847\n",
      "Epoch 7/10\n",
      "431/431 [==============================] - 17s 39ms/step - loss: 0.3064 - accuracy: 0.9046 - val_loss: 0.2488 - val_accuracy: 0.9244\n",
      "Epoch 8/10\n",
      "431/431 [==============================] - 17s 39ms/step - loss: 0.2246 - accuracy: 0.9299 - val_loss: 0.1912 - val_accuracy: 0.9406\n",
      "Epoch 9/10\n",
      "431/431 [==============================] - 17s 39ms/step - loss: 0.1990 - accuracy: 0.9377 - val_loss: 0.1744 - val_accuracy: 0.9454\n",
      "Epoch 10/10\n",
      "431/431 [==============================] - 17s 39ms/step - loss: 0.1485 - accuracy: 0.9528 - val_loss: 0.1413 - val_accuracy: 0.9554\n"
     ]
    },
    {
     "data": {
      "text/plain": [
       "<keras.callbacks.History at 0x1fee1127a90>"
      ]
     },
     "execution_count": 58,
     "metadata": {},
     "output_type": "execute_result"
    }
   ],
   "source": [
    "# Train the model\n",
    "model.fit(encoder_data,\n",
    "          decoder_data,\n",
    "          epochs=10,\n",
    "          batch_size=256,\n",
    "          validation_split=0.2)"
   ]
  },
  {
   "cell_type": "code",
   "execution_count": 59,
   "metadata": {},
   "outputs": [
    {
     "name": "stdout",
     "output_type": "stream",
     "text": [
      "4309/4309 [==============================] - 22s 5ms/step - loss: 0.1284 - accuracy: 0.9589\n"
     ]
    },
    {
     "data": {
      "text/plain": [
       "[0.12842249870300293, 0.9588800072669983]"
      ]
     },
     "execution_count": 59,
     "metadata": {},
     "output_type": "execute_result"
    }
   ],
   "source": [
    "# Model evaluation\n",
    "model.evaluate(input_data, output_data)"
   ]
  },
  {
   "cell_type": "code",
   "execution_count": 60,
   "metadata": {},
   "outputs": [],
   "source": [
    "# Function fro making inference\n",
    "def inference(sent):\n",
    "\n",
    "    # Preprocess the sentence\n",
    "    sent = text_preprocessing(sent)\n",
    "\n",
    "    # Encode the sentence\n",
    "    sent = encode(sent, language=\"english\", word2int=word2int_en)\n",
    "\n",
    "    # Pad the sequence\n",
    "    sent_int = tf.keras.preprocessing.sequence.pad_sequences(sequences=[sent], maxlen=max_pad, padding=\"post\", truncating=\"post\")\n",
    "\n",
    "    # One-hot encoding\n",
    "    sent_one_hot = one_hot_encode(sequences=sent_int, tokens_num=len(word2int_en))\n",
    "\n",
    "    # Predict the model\n",
    "    prediction = model.predict(sent_one_hot)\n",
    "\n",
    "    # One-hot decoding\n",
    "    pred_sent = one_hot_decode(prediction)\n",
    "\n",
    "    # Decode the sentence\n",
    "    pred_sent = decode(pred_sent[0], int2word=int2word_fr, word2int=word2int_fr)\n",
    "\n",
    "    return pred_sent\n",
    "\n",
    "print(\"INPUT:      \", en[0])\n",
    "print(\"PREDICTION: \", inference(sent=en[0]))\n",
    "print(\"OUTPUT:     \", fr[0])"
   ]
  },
  {
   "cell_type": "code",
   "execution_count": 61,
   "metadata": {},
   "outputs": [
    {
     "name": "stdout",
     "output_type": "stream",
     "text": [
      "INPUT:       new jersey is sometimes quiet during autumn   and it is snowy in april  \n"
     ]
    },
    {
     "name": "stderr",
     "output_type": "stream",
     "text": [
      "100%|\u001b[34m█████████████████████████████████████████████████████████████████████████\u001b[0m| 1/1 [00:00<?, ?it/s]\u001b[0m\n",
      "100%|\u001b[34m█████████████████████████████████████████████████████████████████████████\u001b[0m| 1/1 [00:00<?, ?it/s]\u001b[0m"
     ]
    },
    {
     "name": "stdout",
     "output_type": "stream",
     "text": [
      "PREDICTION:  new jersey est parfois calme pendant <UNK> <UNK> automne et il est avril en avril\n",
      "OUTPUT:      new jersey est parfois calme pendant l' automne   et il est neigeux en avril  \n"
     ]
    },
    {
     "name": "stderr",
     "output_type": "stream",
     "text": [
      "\n"
     ]
    }
   ],
   "source": [
    "print(\"INPUT:      \", en[0])\n",
    "print(\"PREDICTION: \", inference(sent=en[0]))\n",
    "print(\"OUTPUT:     \", fr[0])"
   ]
  },
  {
   "cell_type": "code",
   "execution_count": null,
   "metadata": {},
   "outputs": [],
   "source": [
    "# TODO: Bleu score\n",
    "def evaluate_model(model, tokenizer, sources, raw_dataset):\n",
    "    actual, predicted = list(), list()\n",
    "    for i, source in enumerate(sources):\n",
    "        # translate encoded source text\n",
    "        source = source.reshape((1, source.shape[0]))\n",
    "        translation = predict_sequence(model, eng_tokenizer, source)\n",
    "        raw_target, raw_src = raw_dataset[i]\n",
    "        if i < 10:\n",
    "            print('src=[%s], target=[%s], predicted=[%s]' % (raw_src, raw_target, translation))\n",
    "        actual.append(raw_target.split())\n",
    "        predicted.append(translation.split())\n",
    "    # calculate BLEU score\n",
    "    print('BLEU-1: %f' % corpus_bleu(actual, predicted, weights=(1.0, 0, 0, 0)))\n",
    "    print('BLEU-2: %f' % corpus_bleu(actual, predicted, weights=(0.5, 0.5, 0, 0)))\n",
    "    print('BLEU-3: %f' % corpus_bleu(actual, predicted, weights=(0.3, 0.3, 0.3, 0)))\n",
    "    print('BLEU-4: %f' % corpus_bleu(actual, predicted, weights=(0.25, 0.25, 0.25, 0.25)))"
   ]
  },
  {
   "cell_type": "markdown",
   "metadata": {},
   "source": [
    "<br>\n",
    "\n",
    "### 4.3. ENCODER-DECODER (WITH TEACHER FORCING)"
   ]
  },
  {
   "cell_type": "code",
   "execution_count": 22,
   "metadata": {},
   "outputs": [
    {
     "name": "stdout",
     "output_type": "stream",
     "text": [
      "Encoder Input Data - (137861, 25, 203): \n",
      "[[0 1 0 ... 0 0 0]\n",
      " [0 0 0 ... 0 0 0]\n",
      " [0 0 0 ... 0 0 0]\n",
      " ...\n",
      " [1 0 0 ... 0 0 0]\n",
      " [1 0 0 ... 0 0 0]\n",
      " [1 0 0 ... 0 0 0]]\n"
     ]
    }
   ],
   "source": [
    "# Encoder input data\n",
    "encoder_input_data  = en_tokens_one_hot\n",
    "print(f\"Encoder Input Data - {encoder_input_data.shape}: \")\n",
    "print(encoder_input_data[0])"
   ]
  },
  {
   "cell_type": "code",
   "execution_count": 23,
   "metadata": {},
   "outputs": [
    {
     "name": "stdout",
     "output_type": "stream",
     "text": [
      "\n",
      "Decoder Input Data - (137861, 25, 348): \n",
      "[[0 1 0 ... 0 0 0]\n",
      " [0 0 0 ... 0 0 0]\n",
      " [0 0 0 ... 0 0 0]\n",
      " ...\n",
      " [1 0 0 ... 0 0 0]\n",
      " [1 0 0 ... 0 0 0]\n",
      " [1 0 0 ... 0 0 0]]\n"
     ]
    }
   ],
   "source": [
    "# Decoder input data\n",
    "decoder_input_data  = fr_tokens_one_hot\n",
    "print(f\"\\nDecoder Input Data - {decoder_input_data.shape}: \")\n",
    "print(decoder_input_data[0])"
   ]
  },
  {
   "cell_type": "code",
   "execution_count": 24,
   "metadata": {},
   "outputs": [
    {
     "name": "stderr",
     "output_type": "stream",
     "text": [
      "100%|\u001b[34m█████████████████████████████████████████████████████\u001b[0m| 137861/137861 [01:49<00:00, 1264.55it/s]\u001b[0m\n"
     ]
    },
    {
     "name": "stdout",
     "output_type": "stream",
     "text": [
      "\n",
      "Decoder Output Data - (137861, 25, 348): \n",
      "[[0 0 0 ... 0 0 0]\n",
      " [0 0 0 ... 0 0 0]\n",
      " [0 0 0 ... 0 0 0]\n",
      " ...\n",
      " [1 0 0 ... 0 0 0]\n",
      " [1 0 0 ... 0 0 0]\n",
      " [1 0 0 ... 0 0 0]]\n"
     ]
    }
   ],
   "source": [
    "# Decoder output data\n",
    "decoder_output_data = np.array([np.append(i[1:], [0]) for i in fr_tokens_int])      # Shift tokens by 1\n",
    "decoder_output_data = one_hot_encode(sequences=decoder_output_data, tokens_num=len(word2int_fr))\n",
    "print(f\"\\nDecoder Output Data - {decoder_output_data.shape}: \")\n",
    "print(decoder_output_data[0])"
   ]
  },
  {
   "cell_type": "code",
   "execution_count": 25,
   "metadata": {},
   "outputs": [],
   "source": [
    "# # Reshape\n",
    "# encoder_input_data = encoder_input_data.reshape(encoder_input_data.shape[0], 1, encoder_input_data.shape[1])\n",
    "# decoder_input_data = decoder_input_data.reshape(decoder_input_data.shape[0], 1, decoder_input_data.shape[1])\n",
    "# decoder_output_data = decoder_output_data.reshape(decoder_output_data.shape[0], decoder_output_data.shape[1], 1)\n",
    "\n",
    "# # Report\n",
    "# print(f\"Encoder Input Data: {encoder_input_data.shape}\")\n",
    "# print(f\"Decoder Input Data: {decoder_input_data.shape}\")\n",
    "# print(f\"Decoder Output Data: {decoder_output_data.shape}\")"
   ]
  },
  {
   "cell_type": "code",
   "execution_count": 46,
   "metadata": {},
   "outputs": [],
   "source": [
    "num_encoder_tokens = 203 #len(word2int_en)\n",
    "num_decoder_tokens = 348 #len(word2int_fr)\n",
    "latent_dim = 512"
   ]
  },
  {
   "cell_type": "code",
   "execution_count": 47,
   "metadata": {},
   "outputs": [],
   "source": [
    "# Encoder input\n",
    "encoder_inputs = tf.keras.layers.Input(shape=(None, num_encoder_tokens), \n",
    "                                       name=\"encoder input\")\n",
    "\n",
    "# Encoder LSTM\n",
    "encoder = tf.keras.layers.LSTM(latent_dim,                 # latent_dim represents the dimensionality of context vector\n",
    "                               return_sequences=False, \n",
    "                               return_state=True, \n",
    "                               name=\"encoder_LSTM\") \n",
    "\n",
    "# Feed input to LSTM\n",
    "encoder_outputs, state_h, state_c = encoder(encoder_inputs)\n",
    "\n",
    "# Context Vector (i.e. last hidden states and cell states of encoder)\n",
    "context_vector = [state_h, state_c]"
   ]
  },
  {
   "cell_type": "code",
   "execution_count": 48,
   "metadata": {},
   "outputs": [],
   "source": [
    "# Decoder input\n",
    "decoder_inputs = tf.keras.layers.Input(shape=(None, num_decoder_tokens), \n",
    "                                       name=\"decoder input\")\n",
    "\n",
    "# Decoder LSTM\n",
    "decoder_lstm = tf.keras.layers.LSTM(latent_dim, \n",
    "                                    return_sequences=True, \n",
    "                                    return_state=True, \n",
    "                                    name=\"decoder_LSTM\")\n",
    "\n",
    "# Feed input to LSTM\n",
    "decoder_outputs, _, _ = decoder_lstm(decoder_inputs,\n",
    "                                     initial_state=context_vector)    # Initialize states with Context Vecotr"
   ]
  },
  {
   "cell_type": "code",
   "execution_count": 49,
   "metadata": {},
   "outputs": [],
   "source": [
    "# Output\n",
    "decoder_dense = tf.keras.layers.Dense(num_decoder_tokens,         #num_decoder_tokens,   # TODO: The problem should be here\n",
    "                                      activation='softmax', \n",
    "                                      name=\"output\")\n",
    "\n",
    "# Feed decoder to output\n",
    "decoder_outputs = decoder_dense(decoder_outputs)"
   ]
  },
  {
   "cell_type": "code",
   "execution_count": 50,
   "metadata": {},
   "outputs": [
    {
     "name": "stdout",
     "output_type": "stream",
     "text": [
      "Model: \"model_8\"\n",
      "__________________________________________________________________________________________________\n",
      " Layer (type)                   Output Shape         Param #     Connected to                     \n",
      "==================================================================================================\n",
      " encoder input (InputLayer)     [(None, None, 203)]  0           []                               \n",
      "                                                                                                  \n",
      " decoder input (InputLayer)     [(None, None, 348)]  0           []                               \n",
      "                                                                                                  \n",
      " encoder_LSTM (LSTM)            [(None, 512),        1466368     ['encoder input[0][0]']          \n",
      "                                 (None, 512),                                                     \n",
      "                                 (None, 512)]                                                     \n",
      "                                                                                                  \n",
      " decoder_LSTM (LSTM)            [(None, None, 512),  1763328     ['decoder input[0][0]',          \n",
      "                                 (None, 512),                     'encoder_LSTM[0][1]',           \n",
      "                                 (None, 512)]                     'encoder_LSTM[0][2]']           \n",
      "                                                                                                  \n",
      " output (Dense)                 (None, None, 348)    178524      ['decoder_LSTM[0][0]']           \n",
      "                                                                                                  \n",
      "==================================================================================================\n",
      "Total params: 3,408,220\n",
      "Trainable params: 3,408,220\n",
      "Non-trainable params: 0\n",
      "__________________________________________________________________________________________________\n",
      "None\n"
     ]
    },
    {
     "data": {
      "image/png": "[encoded data removed]",
      "text/plain": [
       "<IPython.core.display.Image object>"
      ]
     },
     "execution_count": 50,
     "metadata": {},
     "output_type": "execute_result"
    }
   ],
   "source": [
    "# Model\n",
    "model = tf.keras.Model([encoder_inputs, decoder_inputs], decoder_outputs)\n",
    "\n",
    "# Compile the model\n",
    "model.compile(optimizer='adam', loss='categorical_crossentropy', metrics=[\"accuracy\"])\n",
    "\n",
    "# Summary\n",
    "print(model.summary())\n",
    "\n",
    "# Plot the model\n",
    "plot_model(model)"
   ]
  },
  {
   "cell_type": "code",
   "execution_count": 31,
   "metadata": {},
   "outputs": [
    {
     "name": "stdout",
     "output_type": "stream",
     "text": [
      "Epoch 1/15\n",
      "862/862 [==============================] - 26s 23ms/step - loss: 0.8768 - accuracy: 0.7586 - val_loss: 0.4525 - val_accuracy: 0.8406\n",
      "Epoch 2/15\n",
      "862/862 [==============================] - 19s 22ms/step - loss: 0.3681 - accuracy: 0.8710 - val_loss: 0.3001 - val_accuracy: 0.8964\n",
      "Epoch 3/15\n",
      "862/862 [==============================] - 19s 22ms/step - loss: 0.2329 - accuracy: 0.9225 - val_loss: 0.1512 - val_accuracy: 0.9491\n",
      "Epoch 4/15\n",
      "862/862 [==============================] - 19s 22ms/step - loss: 0.0738 - accuracy: 0.9764 - val_loss: 0.0378 - val_accuracy: 0.9884\n",
      "Epoch 5/15\n",
      "862/862 [==============================] - 19s 22ms/step - loss: 0.0327 - accuracy: 0.9897 - val_loss: 0.0294 - val_accuracy: 0.9905\n",
      "Epoch 6/15\n",
      "862/862 [==============================] - 19s 22ms/step - loss: 0.0228 - accuracy: 0.9928 - val_loss: 0.0208 - val_accuracy: 0.9935\n",
      "Epoch 7/15\n",
      "862/862 [==============================] - 19s 22ms/step - loss: 0.0183 - accuracy: 0.9941 - val_loss: 0.0169 - val_accuracy: 0.9947\n",
      "Epoch 8/15\n",
      "862/862 [==============================] - 19s 22ms/step - loss: 0.0144 - accuracy: 0.9954 - val_loss: 0.0141 - val_accuracy: 0.9956\n",
      "Epoch 9/15\n",
      "862/862 [==============================] - 19s 22ms/step - loss: 0.0125 - accuracy: 0.9960 - val_loss: 0.0184 - val_accuracy: 0.9940\n",
      "Epoch 10/15\n",
      "862/862 [==============================] - 19s 22ms/step - loss: 0.0115 - accuracy: 0.9962 - val_loss: 0.0115 - val_accuracy: 0.9964\n",
      "Epoch 11/15\n",
      "862/862 [==============================] - 19s 22ms/step - loss: 0.0098 - accuracy: 0.9968 - val_loss: 0.0110 - val_accuracy: 0.9966\n",
      "Epoch 12/15\n",
      "862/862 [==============================] - 19s 22ms/step - loss: 0.0089 - accuracy: 0.9971 - val_loss: 0.0103 - val_accuracy: 0.9969\n",
      "Epoch 13/15\n",
      "862/862 [==============================] - 19s 22ms/step - loss: 0.0080 - accuracy: 0.9973 - val_loss: 0.0111 - val_accuracy: 0.9966\n",
      "Epoch 14/15\n",
      "862/862 [==============================] - 19s 22ms/step - loss: 0.0069 - accuracy: 0.9977 - val_loss: 0.0105 - val_accuracy: 0.9968\n",
      "Epoch 15/15\n",
      "862/862 [==============================] - 19s 22ms/step - loss: 0.0063 - accuracy: 0.9980 - val_loss: 0.0111 - val_accuracy: 0.9966\n"
     ]
    },
    {
     "data": {
      "text/plain": [
       "<keras.callbacks.History at 0x2754ed3f7f0>"
      ]
     },
     "execution_count": 31,
     "metadata": {},
     "output_type": "execute_result"
    }
   ],
   "source": [
    "# Train the model\n",
    "model.fit([encoder_input_data, decoder_input_data],\n",
    "           decoder_output_data,\n",
    "           epochs=15,\n",
    "           batch_size=128,\n",
    "           validation_split=0.2)"
   ]
  },
  {
   "cell_type": "code",
   "execution_count": 32,
   "metadata": {},
   "outputs": [],
   "source": [
    "# Save the model\n",
    "model.save(\"./saved models/model_1_3.h5\")"
   ]
  },
  {
   "cell_type": "code",
   "execution_count": 51,
   "metadata": {},
   "outputs": [
    {
     "name": "stdout",
     "output_type": "stream",
     "text": [
      "Model got loaded.\n"
     ]
    }
   ],
   "source": [
    "# Load the model\n",
    "model = tf.keras.models.load_model(\"./saved models/model_1_3.h5\")\n",
    "print(\"Model got loaded.\")"
   ]
  },
  {
   "cell_type": "markdown",
   "metadata": {},
   "source": [
    "###### INFERENCE"
   ]
  },
  {
   "cell_type": "code",
   "execution_count": 56,
   "metadata": {},
   "outputs": [
    {
     "name": "stdout",
     "output_type": "stream",
     "text": [
      "Model: \"model_11\"\n",
      "_________________________________________________________________\n",
      " Layer (type)                Output Shape              Param #   \n",
      "=================================================================\n",
      " encoder input (InputLayer)  [(None, None, 203)]       0         \n",
      "                                                                 \n",
      " encoder_LSTM (LSTM)         [(None, 512),             1466368   \n",
      "                              (None, 512),                       \n",
      "                              (None, 512)]                       \n",
      "                                                                 \n",
      "=================================================================\n",
      "Total params: 1,466,368\n",
      "Trainable params: 1,466,368\n",
      "Non-trainable params: 0\n",
      "_________________________________________________________________\n"
     ]
    },
    {
     "data": {
      "image/png": "[encoded data removed]",
      "text/plain": [
       "<IPython.core.display.Image object>"
      ]
     },
     "execution_count": 56,
     "metadata": {},
     "output_type": "execute_result"
    }
   ],
   "source": [
    "# Encoder input\n",
    "encoder_inputs = tf.keras.layers.Input(shape=(None, num_encoder_tokens), \n",
    "                                       name=\"encoder input\")\n",
    "\n",
    "# Feed input to LSTM\n",
    "encoder_outputs, state_h, state_c = encoder(encoder_inputs)\n",
    "\n",
    "# Context Vector (i.e. last hidden states and cell states of encoder)\n",
    "context_vector = [state_h, state_c]\n",
    "\n",
    "# Encoder model\n",
    "encoder_model = tf.keras.Model(encoder_inputs, context_vector)\n",
    "\n",
    "# Report\n",
    "encoder_model.summary()\n",
    "plot_model(encoder_model)"
   ]
  },
  {
   "cell_type": "code",
   "execution_count": 57,
   "metadata": {},
   "outputs": [],
   "source": [
    "# Input - hidden state\n",
    "decoder_state_input_h = keras.layers.Input(shape=(latent_dim,), name=\"hidden state input\")\n",
    "\n",
    "# Input - cell state\n",
    "decoder_state_input_c = keras.layers.Input(shape=(latent_dim,), name=\"cell state input\")\n",
    "\n",
    "# Save the inputs\n",
    "decoder_states_inputs = [decoder_state_input_h, decoder_state_input_c]\n",
    "\n",
    "# Decoder LSTM\n",
    "decoder_outputs, state_h, state_c = decoder_lstm(decoder_inputs, initial_state=decoder_states_inputs)\n",
    "\n",
    "# Save the states\n",
    "decoder_states = [state_h, state_c]"
   ]
  },
  {
   "cell_type": "code",
   "execution_count": 58,
   "metadata": {},
   "outputs": [
    {
     "name": "stdout",
     "output_type": "stream",
     "text": [
      "Model: \"model_12\"\n",
      "__________________________________________________________________________________________________\n",
      " Layer (type)                   Output Shape         Param #     Connected to                     \n",
      "==================================================================================================\n",
      " decoder input (InputLayer)     [(None, None, 348)]  0           []                               \n",
      "                                                                                                  \n",
      " hidden state input (InputLayer  [(None, 512)]       0           []                               \n",
      " )                                                                                                \n",
      "                                                                                                  \n",
      " cell state input (InputLayer)  [(None, 512)]        0           []                               \n",
      "                                                                                                  \n",
      " decoder_LSTM (LSTM)            [(None, None, 512),  1763328     ['decoder input[0][0]',          \n",
      "                                 (None, 512),                     'hidden state input[0][0]',     \n",
      "                                 (None, 512)]                     'cell state input[0][0]']       \n",
      "                                                                                                  \n",
      " output (Dense)                 (None, None, 348)    178524      ['decoder_LSTM[3][0]']           \n",
      "                                                                                                  \n",
      "==================================================================================================\n",
      "Total params: 1,941,852\n",
      "Trainable params: 1,941,852\n",
      "Non-trainable params: 0\n",
      "__________________________________________________________________________________________________\n"
     ]
    },
    {
     "data": {
      "image/png": "[encoded data removed]",
      "text/plain": [
       "<IPython.core.display.Image object>"
      ]
     },
     "execution_count": 58,
     "metadata": {},
     "output_type": "execute_result"
    }
   ],
   "source": [
    "# Output dense\n",
    "decoder_outputs = decoder_dense(decoder_outputs)\n",
    "\n",
    "# Construct model\n",
    "decoder_model = tf.keras.Model([decoder_inputs] + decoder_states_inputs, [decoder_outputs] + decoder_states)\n",
    "\n",
    "# Report\n",
    "decoder_model.summary()\n",
    "plot_model(decoder_model)"
   ]
  },
  {
   "cell_type": "code",
   "execution_count": 61,
   "metadata": {},
   "outputs": [],
   "source": [
    "def decode_sequence(input_seq):\n",
    "    \n",
    "    # Encoder prediction (get context vector)\n",
    "    states_value = encoder_model.predict(input_seq)\n",
    "\n",
    "    # Initialize the target sequence with zeros - shape of (1, 1, NUM_DECODER_TOKEN)\n",
    "    target_seq = np.zeros(shape=(1, 1, num_decoder_tokens))\n",
    "\n",
    "    # Populate the first character of target sequence with the start character.\n",
    "    target_seq[0, 0, 0] = word2int_en[\"<SOS>\"]\n",
    "\n",
    "    # Initialize the maximum decoder length\n",
    "    max_decoder_length = decoder_output_data.shape[-1]\n",
    "\n",
    "    # Initialize the stop condition\n",
    "    stop_condition = False\n",
    "\n",
    "    # Initialize the decoded sentence\n",
    "    decoded_sentence = []\n",
    "\n",
    "    # While stop condition is false\n",
    "    while not stop_condition:\n",
    "\n",
    "        # Decoder prediction\n",
    "        output_tokens, h, c = decoder_model.predict([target_seq] + states_value)\n",
    "\n",
    "        # Find the maximum index value\n",
    "        sampled_token_index = np.argmax(output_tokens[0, -1, :])\n",
    "\n",
    "        # Add the predicted int to output sequence\n",
    "        decoded_sentence.append(sampled_token_index) \n",
    "\n",
    "        # Exit condition\n",
    "        #   1. Hitting maximum length\n",
    "        #   2. Finding stop character\n",
    "        if (sampled_token_index==word2int_en[\"<EOS>\"]) or (len(decoded_sentence)==max_decoder_length):\n",
    "\n",
    "            # Set stop condition to true\n",
    "            stop_condition = True\n",
    "\n",
    "        # Update the target sequence (of length 1).\n",
    "        target_seq = np.zeros(shape=(1, 1, num_decoder_tokens))\n",
    "        target_seq[0, 0, sampled_token_index] = 1.\n",
    "\n",
    "        # Update states (context vector) \n",
    "        states_value = [h, c]\n",
    "\n",
    "    return decoded_sentence, target_seq"
   ]
  },
  {
   "cell_type": "code",
   "execution_count": 59,
   "metadata": {},
   "outputs": [
    {
     "name": "stderr",
     "output_type": "stream",
     "text": [
      "100%|\u001b[34m█████████████████████████████████████████████████████████████████████████\u001b[0m| 1/1 [00:00<?, ?it/s]\u001b[0m\n"
     ]
    }
   ],
   "source": [
    "# Initialize the sentence\n",
    "sent = en[0]\n",
    "\n",
    "# Preprocess the sentence\n",
    "sent = text_preprocessing(sent)\n",
    "\n",
    "# Encode the sentence\n",
    "sent = encode(sent, language=\"english\", word2int=word2int_en)\n",
    "\n",
    "# Pad the sequence\n",
    "sent_int = tf.keras.preprocessing.sequence.pad_sequences(sequences=[sent], maxlen=max_pad, padding=\"post\", truncating=\"post\")\n",
    "\n",
    "# One-hot encoding\n",
    "sent_one_hot = one_hot_encode(sequences=sent_int, tokens_num=len(word2int_en))"
   ]
  },
  {
   "cell_type": "code",
   "execution_count": 62,
   "metadata": {},
   "outputs": [],
   "source": [
    "decoded_sentence, target_seq = decode_sequence(sent_one_hot)"
   ]
  },
  {
   "cell_type": "code",
   "execution_count": 63,
   "metadata": {},
   "outputs": [
    {
     "data": {
      "text/plain": [
       "array([266, 266, 344, 344,  20,  20, 201,  71,  34,  51,  20, 302, 294,\n",
       "       245, 142, 245, 142, 245, 331, 149, 340, 179, 179, 269, 102, 269,\n",
       "        34, 130, 130, 169, 236, 130, 169, 236, 236, 170, 236, 170, 153,\n",
       "       169, 236, 170, 236, 170, 153, 169, 236, 170, 236, 170, 153, 169,\n",
       "       236, 170, 236, 170, 153, 169, 236, 170, 236, 170, 153, 169, 236,\n",
       "       170, 236, 170, 153, 169, 236, 170, 236, 170, 153, 169, 236, 170,\n",
       "       236, 170, 153, 169, 236, 170, 236, 170, 153, 169, 236, 170, 236,\n",
       "       170, 153, 169, 236, 170, 236, 170, 153, 169, 236, 170, 236, 170,\n",
       "       153, 169, 236, 170, 236, 170, 153, 169, 236, 170, 236, 170, 153,\n",
       "       169, 236, 170, 236, 170, 153, 169, 236, 170, 236, 170, 153, 169,\n",
       "       236, 170, 236, 170, 153, 169, 236, 170, 236, 170, 153, 169, 236,\n",
       "       170, 236, 170, 153, 169, 236, 170, 236, 170, 153, 169, 236, 170,\n",
       "       236, 170, 153, 169, 236, 170, 236, 170, 153, 169, 236, 170, 236,\n",
       "       170, 153, 169, 236, 170, 236, 170, 153, 169, 236, 170, 236, 170,\n",
       "       153, 169, 236, 170, 236, 170, 153, 169, 236, 170, 236, 170, 153,\n",
       "       169, 236, 170, 236, 170, 153, 169, 236, 170, 236, 170, 153, 169,\n",
       "       236, 170, 236, 170, 153, 169, 236, 170, 236, 170, 153, 169, 236,\n",
       "       170, 236, 170, 153, 169, 236, 170, 236, 170, 153, 169, 236, 170,\n",
       "       236, 170, 153, 169, 236, 170, 236, 170, 153, 169, 236, 170, 236,\n",
       "       170, 153, 169, 236, 170, 236, 170, 153, 169, 236, 170, 236, 170,\n",
       "       153, 169, 236, 170, 236, 170, 153, 169, 236, 170, 236, 170, 153,\n",
       "       169, 236, 170, 236, 170, 153, 169, 236, 170, 236, 170, 153, 169,\n",
       "       236, 170, 236, 170, 153, 169, 236, 170, 236, 170, 153, 169, 236,\n",
       "       170, 236, 170, 153, 169, 236, 170, 236, 170, 153, 169, 236, 170,\n",
       "       236, 170, 153, 169, 236, 170, 236, 170, 153, 169, 236, 170, 236,\n",
       "       170, 153, 169, 236, 170, 236, 170, 153, 169, 236, 170, 236, 170,\n",
       "       153, 169, 236, 170, 236, 170, 153, 169, 236, 170], dtype=int64)"
      ]
     },
     "execution_count": 63,
     "metadata": {},
     "output_type": "execute_result"
    }
   ],
   "source": [
    "np.array(decoded_sentence)"
   ]
  },
  {
   "cell_type": "code",
   "execution_count": 68,
   "metadata": {},
   "outputs": [
    {
     "data": {
      "text/plain": [
       "\"pêche pêche était était allée allée n'aimez clémentes avez californie allée temps singes poire humide poire humide poire vont jamais à magnifique magnifique qu'il enneigée qu'il avez glaciales glaciales lapins petites glaciales lapins petites petites le petites le jersey lapins petites le petites le jersey lapins petites le petites le jersey lapins petites le petites le jersey lapins petites le petites le jersey lapins petites le petites le jersey lapins petites le petites le jersey lapins petites le petites le jersey lapins petites le petites le jersey lapins petites le petites le jersey lapins petites le petites le jersey lapins petites le petites le jersey lapins petites le petites le jersey lapins petites le petites le jersey lapins petites le petites le jersey lapins petites le petites le jersey lapins petites le petites le jersey lapins petites le petites le jersey lapins petites le petites le jersey lapins petites le petites le jersey lapins petites le petites le jersey lapins petites le petites le jersey lapins petites le petites le jersey lapins petites le petites le jersey lapins petites le petites le jersey lapins petites le petites le jersey lapins petites le petites le jersey lapins petites le petites le jersey lapins petites le petites le jersey lapins petites le petites le jersey lapins petites le petites le jersey lapins petites le petites le jersey lapins petites le petites le jersey lapins petites le petites le jersey lapins petites le petites le jersey lapins petites le petites le jersey lapins petites le petites le jersey lapins petites le petites le jersey lapins petites le petites le jersey lapins petites le petites le jersey lapins petites le petites le jersey lapins petites le petites le jersey lapins petites le petites le jersey lapins petites le petites le jersey lapins petites le petites le jersey lapins petites le petites le jersey lapins petites le petites le jersey lapins petites le petites le jersey lapins petites le petites le jersey lapins petites le petites le jersey lapins petites le petites le jersey lapins petites le petites le jersey lapins petites le\""
      ]
     },
     "execution_count": 68,
     "metadata": {},
     "output_type": "execute_result"
    }
   ],
   "source": [
    "# Decode the sentence\n",
    "pred_sent = decode(decoded_sentence, int2word=int2word_fr, word2int=word2int_fr)\n",
    "pred_sent"
   ]
  },
  {
   "cell_type": "code",
   "execution_count": 69,
   "metadata": {},
   "outputs": [
    {
     "data": {
      "text/plain": [
       "\"new jersey est parfois calme pendant l' automne   et il est neigeux en avril  \""
      ]
     },
     "execution_count": 69,
     "metadata": {},
     "output_type": "execute_result"
    }
   ],
   "source": [
    "fr[0]"
   ]
  },
  {
   "cell_type": "markdown",
   "metadata": {},
   "source": [
    "<br>\n",
    "\n",
    "### 4.4. BAHDANAU (ADDITIVE) ATTENTION MECHANISM\n"
   ]
  },
  {
   "cell_type": "code",
   "execution_count": 20,
   "metadata": {},
   "outputs": [
    {
     "name": "stdout",
     "output_type": "stream",
     "text": [
      "Encoder Input Data - (130967, 26, 201): \n",
      "tf.Tensor(\n",
      "[[0 1 0 ... 0 0 0]\n",
      " [0 0 0 ... 0 0 0]\n",
      " [0 0 0 ... 0 0 0]\n",
      " ...\n",
      " [1 0 0 ... 0 0 0]\n",
      " [1 0 0 ... 0 0 0]\n",
      " [1 0 0 ... 0 0 0]], shape=(26, 201), dtype=int32)\n"
     ]
    }
   ],
   "source": [
    "# Encoder data\n",
    "encoder_data  = x_train\n",
    "print(f\"Encoder Input Data - {encoder_data.shape}: \")\n",
    "print(encoder_data[0])"
   ]
  },
  {
   "cell_type": "code",
   "execution_count": 21,
   "metadata": {},
   "outputs": [
    {
     "name": "stdout",
     "output_type": "stream",
     "text": [
      "\n",
      "Decoder Input Data - (130967, 26, 350): \n",
      "tf.Tensor(\n",
      "[[0 1 0 ... 0 0 0]\n",
      " [0 0 0 ... 0 0 0]\n",
      " [0 0 0 ... 0 0 0]\n",
      " ...\n",
      " [1 0 0 ... 0 0 0]\n",
      " [1 0 0 ... 0 0 0]\n",
      " [1 0 0 ... 0 0 0]], shape=(26, 350), dtype=int32)\n"
     ]
    }
   ],
   "source": [
    "# Decoder data\n",
    "decoder_data  = y_train\n",
    "print(f\"\\nDecoder Input Data - {decoder_data.shape}: \")\n",
    "print(decoder_data[0])"
   ]
  },
  {
   "cell_type": "code",
   "execution_count": 22,
   "metadata": {},
   "outputs": [],
   "source": [
    "# Hyperparameters\n",
    "embedding_dim = 256\n",
    "units = 1024\n",
    "num_encoder_tokens = x_train.shape[-1]    # 203 \n",
    "num_decoder_tokens = y_train.shape[-1]    # 348 \n",
    "n_repeat_vector = max_len\n",
    "latent_dim = 512"
   ]
  },
  {
   "cell_type": "code",
   "execution_count": 114,
   "metadata": {},
   "outputs": [
    {
     "name": "stdout",
     "output_type": "stream",
     "text": [
      "Model: \"model_14\"\n",
      "__________________________________________________________________________________________________\n",
      " Layer (type)                   Output Shape         Param #     Connected to                     \n",
      "==================================================================================================\n",
      " encoder_input (InputLayer)     [(None, None, 201)]  0           []                               \n",
      "                                                                                                  \n",
      " encoder_LSTM (LSTM)            [(None, None, 512),  1462272     ['encoder_input[0][0]']          \n",
      "                                 (None, 512),                                                     \n",
      "                                 (None, 512)]                                                     \n",
      "                                                                                                  \n",
      " decoder_LSTM (LSTM)            (None, None, 512)    2099200     ['encoder_LSTM[0][0]',           \n",
      "                                                                  'encoder_LSTM[0][1]',           \n",
      "                                                                  'encoder_LSTM[0][2]']           \n",
      "                                                                                                  \n",
      " attention_layer (AdditiveAtten  ((None, None, 512),  512        ['encoder_LSTM[0][0]',           \n",
      " tion)                           (None, None, None)               'decoder_LSTM[0][0]']           \n",
      "                                )                                                                 \n",
      "                                                                                                  \n",
      " concat_layer (Concatenate)     (None, None, 1024)   0           ['decoder_LSTM[0][0]',           \n",
      "                                                                  'attention_layer[0][0]']        \n",
      "                                                                                                  \n",
      " output (TimeDistributed)       (None, None, 350)    358750      ['concat_layer[0][0]']           \n",
      "                                                                                                  \n",
      "==================================================================================================\n",
      "Total params: 3,920,734\n",
      "Trainable params: 3,920,734\n",
      "Non-trainable params: 0\n",
      "__________________________________________________________________________________________________\n"
     ]
    },
    {
     "data": {
      "image/png": "[encoded data removed]",
      "text/plain": [
       "<IPython.core.display.Image object>"
      ]
     },
     "execution_count": 114,
     "metadata": {},
     "output_type": "execute_result"
    }
   ],
   "source": [
    "###########\n",
    "# ENCODER #\n",
    "###########\n",
    "\n",
    "# Encoder input\n",
    "encoder_inputs = keras.layers.Input(shape=(None, num_encoder_tokens), name=\"encoder_input\")\n",
    "\n",
    "# Squeeze a dimension\n",
    "#encoder_inputs = tf.squeeze(encoder_inputs, axis=1, name=\"encoder_input_squeezed\")\n",
    "\n",
    "# Embedding layer (i.e. convert tokens into vectors) \n",
    "#encoder_embedding = tf.keras.layers.Embedding(num_encoder_tokens, embedding_dim)(encoder_inputs)\n",
    "\n",
    "# LSTM layer\n",
    "all_hidden_states_enc, state_h_enc, state_c_enc = keras.layers.LSTM(latent_dim, \n",
    "                                                                    return_sequences=True, \n",
    "                                                                    return_state=True, \n",
    "                                                                    name=\"encoder_LSTM\")(encoder_inputs, initial_state=None)\n",
    "\n",
    "\n",
    "###########\n",
    "# DECODER #\n",
    "###########\n",
    "\n",
    "# Decoder - LSTM layer\n",
    "all_hidden_states_decoder = tf.keras.layers.LSTM(units=latent_dim, \n",
    "                                                 return_sequences=True, \n",
    "                                                 return_state=False,\n",
    "                                                 name=\"decoder_LSTM\")(all_hidden_states_enc, initial_state=[state_h_enc, state_c_enc])\n",
    "\n",
    "\n",
    "############################\n",
    "# ADDITIVE ATTENTION LAYER #\n",
    "############################\n",
    "\n",
    "# Additive attention layer\n",
    "# The input for AdditiveAttention: query, key. It returns a tensor of shape as query\n",
    "attn_out, attn_states = keras.layers.AdditiveAttention(name='attention_layer')([all_hidden_states_enc, all_hidden_states_decoder], return_attention_scores=True)\n",
    "\n",
    "# Concatenate attention input and decoder output\n",
    "decoder_concat_input = keras.layers.Concatenate(axis=-1, name='concat_layer')([all_hidden_states_decoder, attn_out])\n",
    "\n",
    "\n",
    "##########\n",
    "# OUTPUT #\n",
    "##########\n",
    "\n",
    "# Dense layer\n",
    "dense = keras.layers.Dense(num_decoder_tokens, activation='softmax', name='softmax_layer')\n",
    "\n",
    "# Time-distributed layer\n",
    "dense_time = keras.layers.TimeDistributed(dense, name='output')\n",
    "\n",
    "# Feed data\n",
    "out = dense_time(decoder_concat_input)\n",
    "\n",
    "\n",
    "#########\n",
    "# MODEL #\n",
    "#########\n",
    "\n",
    "# Define the model\n",
    "model = keras.Model(inputs=encoder_inputs, outputs=out)\n",
    "\n",
    "# Compile the model\n",
    "model.compile(optimizer='adam', loss='categorical_crossentropy', metrics=[\"accuracy\"])\n",
    "\n",
    "# Report\n",
    "model.summary()\n",
    "plot_model(model)"
   ]
  },
  {
   "cell_type": "code",
   "execution_count": 30,
   "metadata": {},
   "outputs": [
    {
     "name": "stdout",
     "output_type": "stream",
     "text": [
      "Epoch 1/15\n",
      "819/819 [==============================] - 40s 39ms/step - loss: 1.0850 - accuracy: 0.7167 - val_loss: 0.5294 - val_accuracy: 0.8457\n",
      "Epoch 2/15\n",
      "819/819 [==============================] - 31s 38ms/step - loss: 0.3157 - accuracy: 0.9062 - val_loss: 0.2084 - val_accuracy: 0.9356\n",
      "Epoch 3/15\n",
      "819/819 [==============================] - 31s 37ms/step - loss: 0.1682 - accuracy: 0.9467 - val_loss: 0.1432 - val_accuracy: 0.9546\n",
      "Epoch 4/15\n",
      "819/819 [==============================] - 30s 37ms/step - loss: 0.1212 - accuracy: 0.9611 - val_loss: 0.1125 - val_accuracy: 0.9640\n",
      "Epoch 5/15\n",
      "819/819 [==============================] - 31s 37ms/step - loss: 0.0954 - accuracy: 0.9693 - val_loss: 0.1019 - val_accuracy: 0.9685\n",
      "Epoch 6/15\n",
      "819/819 [==============================] - 30s 37ms/step - loss: 0.0782 - accuracy: 0.9747 - val_loss: 0.0843 - val_accuracy: 0.9731\n",
      "Epoch 7/15\n",
      "819/819 [==============================] - 31s 37ms/step - loss: 0.0675 - accuracy: 0.9781 - val_loss: 0.0712 - val_accuracy: 0.9778\n",
      "Epoch 8/15\n",
      "819/819 [==============================] - 31s 38ms/step - loss: 0.0572 - accuracy: 0.9814 - val_loss: 0.0664 - val_accuracy: 0.9796\n",
      "Epoch 9/15\n",
      "819/819 [==============================] - 31s 38ms/step - loss: 0.0530 - accuracy: 0.9828 - val_loss: 0.0669 - val_accuracy: 0.9795\n",
      "Epoch 10/15\n",
      "819/819 [==============================] - 32s 38ms/step - loss: 0.0431 - accuracy: 0.9859 - val_loss: 0.0632 - val_accuracy: 0.9809\n",
      "Epoch 11/15\n",
      "819/819 [==============================] - 31s 38ms/step - loss: 0.0379 - accuracy: 0.9876 - val_loss: 0.0580 - val_accuracy: 0.9825\n",
      "Epoch 12/15\n",
      "819/819 [==============================] - 31s 38ms/step - loss: 0.0370 - accuracy: 0.9879 - val_loss: 0.0597 - val_accuracy: 0.9829\n",
      "Epoch 13/15\n",
      "819/819 [==============================] - 31s 38ms/step - loss: 0.0301 - accuracy: 0.9902 - val_loss: 0.0622 - val_accuracy: 0.9820\n",
      "Epoch 14/15\n",
      "819/819 [==============================] - 31s 38ms/step - loss: 0.0311 - accuracy: 0.9899 - val_loss: 0.0541 - val_accuracy: 0.9848\n",
      "Epoch 15/15\n",
      "819/819 [==============================] - 29s 36ms/step - loss: 0.0265 - accuracy: 0.9914 - val_loss: 0.0756 - val_accuracy: 0.9796\n"
     ]
    },
    {
     "data": {
      "text/plain": [
       "<keras.callbacks.History at 0x1d0e3163280>"
      ]
     },
     "execution_count": 30,
     "metadata": {},
     "output_type": "execute_result"
    }
   ],
   "source": [
    "# Train the model\n",
    "model.fit(encoder_data,\n",
    "          decoder_data,\n",
    "           epochs=15,\n",
    "           batch_size=128,\n",
    "           validation_split=0.2)"
   ]
  },
  {
   "cell_type": "code",
   "execution_count": 78,
   "metadata": {},
   "outputs": [],
   "source": [
    "# Function for inference\n",
    "def inference(text):\n",
    "\n",
    "    # Label encode\n",
    "    encoded = label_encoding(text, word2int_en, \"english\")\n",
    "\n",
    "    # Padding\n",
    "    encoded = padding([encoded], max_len)[0]\n",
    "\n",
    "    # One hot encoding\n",
    "    encoded = one_hot_encoding(encoded, length=len(word2int_en)+1)\n",
    "\n",
    "    # Expand first dimension\n",
    "    encoded = np.expand_dims(encoded, 0)\n",
    "\n",
    "    # Predict\n",
    "    prediction = model.predict(encoded)[0]\n",
    "\n",
    "    # One-hot decoding\n",
    "    decoded = one_hot_decoding(prediction)\n",
    "\n",
    "    # Label decoding\n",
    "    decoded = \" \".join(label_decoding(decoded, int2word_fr))\n",
    "\n",
    "    # Remove tags\n",
    "    for i_token in [\"<SOS>\", \"<EOS>\", \"<UNK>\"]: decoded = decoded.replace(i_token, \"\").strip()\n",
    "\n",
    "    return decoded"
   ]
  },
  {
   "cell_type": "code",
   "execution_count": 80,
   "metadata": {},
   "outputs": [
    {
     "name": "stdout",
     "output_type": "stream",
     "text": [
      "Input text:  new jersey is sometimes quiet during autumn and it is snowy in april\n",
      "Prediction:  new jersey est parfois calme pendant l ' automne et il est neigeux en avril\n",
      "True label:  new jersey est parfois calme pendant l' automne et il est neigeux en avril\n"
     ]
    }
   ],
   "source": [
    "# Input/Output text \n",
    "input_text = \"new jersey is sometimes quiet during autumn and it is snowy in april\"\n",
    "output_text = \"new jersey est parfois calme pendant l' automne et il est neigeux en avril\"\n",
    "\n",
    "# Predict the sentence\n",
    "prediction = inference(input_text)\n",
    "\n",
    "# Report\n",
    "print(\"Input text: \", input_text)\n",
    "print(\"Prediction: \", prediction)\n",
    "print(\"True label: \", output_text)"
   ]
  },
  {
   "cell_type": "code",
   "execution_count": null,
   "metadata": {},
   "outputs": [],
   "source": []
  },
  {
   "cell_type": "markdown",
   "metadata": {},
   "source": [
    "https://levelup.gitconnected.com/building-seq2seq-lstm-with-luong-attention-in-keras-for-time-series-forecasting-1ee00958decb"
   ]
  },
  {
   "cell_type": "markdown",
   "metadata": {},
   "source": [
    "<br>\n",
    "\n",
    "### 4.5. LUONG ATTENTION MECHANISM"
   ]
  },
  {
   "cell_type": "code",
   "execution_count": 91,
   "metadata": {},
   "outputs": [
    {
     "name": "stdout",
     "output_type": "stream",
     "text": [
      "Encoder Input Data - (130967, 26, 201): \n",
      "tf.Tensor(\n",
      "[[0 1 0 ... 0 0 0]\n",
      " [0 0 0 ... 0 0 0]\n",
      " [0 0 0 ... 0 0 0]\n",
      " ...\n",
      " [1 0 0 ... 0 0 0]\n",
      " [1 0 0 ... 0 0 0]\n",
      " [1 0 0 ... 0 0 0]], shape=(26, 201), dtype=int32)\n"
     ]
    }
   ],
   "source": [
    "# Encoder data\n",
    "encoder_data  = x_train\n",
    "print(f\"Encoder Input Data - {encoder_data.shape}: \")\n",
    "print(encoder_data[0])"
   ]
  },
  {
   "cell_type": "code",
   "execution_count": 92,
   "metadata": {},
   "outputs": [
    {
     "name": "stdout",
     "output_type": "stream",
     "text": [
      "\n",
      "Decoder Input Data - (130967, 26, 350): \n",
      "tf.Tensor(\n",
      "[[0 1 0 ... 0 0 0]\n",
      " [0 0 0 ... 0 0 0]\n",
      " [0 0 0 ... 0 0 0]\n",
      " ...\n",
      " [1 0 0 ... 0 0 0]\n",
      " [1 0 0 ... 0 0 0]\n",
      " [1 0 0 ... 0 0 0]], shape=(26, 350), dtype=int32)\n"
     ]
    }
   ],
   "source": [
    "# Decoder data\n",
    "decoder_data  = y_train\n",
    "print(f\"\\nDecoder Input Data - {decoder_data.shape}: \")\n",
    "print(decoder_data[0])"
   ]
  },
  {
   "cell_type": "code",
   "execution_count": 93,
   "metadata": {},
   "outputs": [],
   "source": [
    "# Hyperparameters\n",
    "embedding_dim = 256\n",
    "units = 1024\n",
    "num_encoder_tokens = x_train.shape[-1]    # 203 \n",
    "num_decoder_tokens = y_train.shape[-1]    # 348 \n",
    "n_repeat_vector = max_len\n",
    "latent_dim = 512"
   ]
  },
  {
   "cell_type": "code",
   "execution_count": 94,
   "metadata": {},
   "outputs": [
    {
     "name": "stdout",
     "output_type": "stream",
     "text": [
      "Model: \"model_8\"\n",
      "__________________________________________________________________________________________________\n",
      " Layer (type)                   Output Shape         Param #     Connected to                     \n",
      "==================================================================================================\n",
      " encoder_input (InputLayer)     [(None, None, 201)]  0           []                               \n",
      "                                                                                                  \n",
      " encoder_LSTM (LSTM)            [(None, None, 512),  1462272     ['encoder_input[0][0]']          \n",
      "                                 (None, 512),                                                     \n",
      "                                 (None, 512)]                                                     \n",
      "                                                                                                  \n",
      " decoder_LSTM (LSTM)            (None, None, 512)    2099200     ['encoder_LSTM[0][0]',           \n",
      "                                                                  'encoder_LSTM[0][1]',           \n",
      "                                                                  'encoder_LSTM[0][2]']           \n",
      "                                                                                                  \n",
      " attention_layer (Attention)    ((None, None, 512),  0           ['encoder_LSTM[0][0]',           \n",
      "                                 (None, None, None)               'decoder_LSTM[0][0]']           \n",
      "                                )                                                                 \n",
      "                                                                                                  \n",
      " concat_layer (Concatenate)     (None, None, 1024)   0           ['decoder_LSTM[0][0]',           \n",
      "                                                                  'attention_layer[0][0]']        \n",
      "                                                                                                  \n",
      " output (TimeDistributed)       (None, None, 350)    358750      ['concat_layer[0][0]']           \n",
      "                                                                                                  \n",
      "==================================================================================================\n",
      "Total params: 3,920,222\n",
      "Trainable params: 3,920,222\n",
      "Non-trainable params: 0\n",
      "__________________________________________________________________________________________________\n"
     ]
    },
    {
     "data": {
      "image/png": "[encoded data removed]",
      "text/plain": [
       "<IPython.core.display.Image object>"
      ]
     },
     "execution_count": 94,
     "metadata": {},
     "output_type": "execute_result"
    }
   ],
   "source": [
    "###########\n",
    "# ENCODER #\n",
    "###########\n",
    "\n",
    "# Encoder input\n",
    "encoder_inputs = keras.layers.Input(shape=(None, num_encoder_tokens), name=\"encoder_input\")\n",
    "\n",
    "# Squeeze a dimension\n",
    "#encoder_inputs = tf.squeeze(encoder_inputs, axis=1, name=\"encoder_input_squeezed\")\n",
    "\n",
    "# Embedding layer (i.e. convert tokens into vectors) \n",
    "#encoder_embedding = tf.keras.layers.Embedding(num_encoder_tokens, embedding_dim)(encoder_inputs)\n",
    "\n",
    "# LSTM layer\n",
    "all_hidden_states_enc, state_h_enc, state_c_enc = keras.layers.LSTM(latent_dim, \n",
    "                                                                    return_sequences=True, \n",
    "                                                                    return_state=True, \n",
    "                                                                    name=\"encoder_LSTM\")(encoder_inputs, initial_state=None)\n",
    "\n",
    "\n",
    "###########\n",
    "# DECODER #\n",
    "###########\n",
    "\n",
    "# Decoder - LSTM layer\n",
    "all_hidden_states_decoder = tf.keras.layers.LSTM(units=latent_dim, \n",
    "                                                 return_sequences=True, \n",
    "                                                 return_state=False,\n",
    "                                                 name=\"decoder_LSTM\")(all_hidden_states_enc, initial_state=[state_h_enc, state_c_enc])\n",
    "\n",
    "\n",
    "############################\n",
    "# ADDITIVE ATTENTION LAYER #\n",
    "############################\n",
    "\n",
    "# Dot-product attention layer\n",
    "attn_out, attn_states = keras.layers.Attention(name='attention_layer')([all_hidden_states_enc, all_hidden_states_decoder], return_attention_scores=True)\n",
    "\n",
    "# Concatenate attention input and decoder output\n",
    "decoder_concat_input = keras.layers.Concatenate(axis=-1, name='concat_layer')([all_hidden_states_decoder, attn_out])\n",
    "\n",
    "\n",
    "##########\n",
    "# OUTPUT #\n",
    "##########\n",
    "\n",
    "# Dense layer\n",
    "dense = keras.layers.Dense(num_decoder_tokens, activation='softmax', name='softmax_layer')\n",
    "\n",
    "# Time-distributed layer\n",
    "dense_time = keras.layers.TimeDistributed(dense, name='output')\n",
    "\n",
    "# Feed data\n",
    "out = dense_time(decoder_concat_input)\n",
    "\n",
    "\n",
    "#########\n",
    "# MODEL #\n",
    "#########\n",
    "\n",
    "# Define the model\n",
    "model = keras.Model(inputs=encoder_inputs, outputs=out)\n",
    "\n",
    "# Compile the model\n",
    "model.compile(optimizer='adam', loss='categorical_crossentropy', metrics=[\"accuracy\"])\n",
    "\n",
    "# Report\n",
    "model.summary()\n",
    "plot_model(model)"
   ]
  },
  {
   "cell_type": "code",
   "execution_count": 95,
   "metadata": {},
   "outputs": [
    {
     "name": "stdout",
     "output_type": "stream",
     "text": [
      "Epoch 1/15\n",
      "819/819 [==============================] - 22s 24ms/step - loss: 1.0261 - accuracy: 0.7388 - val_loss: 0.5228 - val_accuracy: 0.8483\n",
      "Epoch 2/15\n",
      "819/819 [==============================] - 19s 23ms/step - loss: 0.3519 - accuracy: 0.8959 - val_loss: 0.2435 - val_accuracy: 0.9255\n",
      "Epoch 3/15\n",
      "819/819 [==============================] - 18s 23ms/step - loss: 0.1956 - accuracy: 0.9374 - val_loss: 0.1616 - val_accuracy: 0.9474\n",
      "Epoch 4/15\n",
      "819/819 [==============================] - 19s 23ms/step - loss: 0.1382 - accuracy: 0.9549 - val_loss: 0.1278 - val_accuracy: 0.9577\n",
      "Epoch 5/15\n",
      "819/819 [==============================] - 19s 23ms/step - loss: 0.1094 - accuracy: 0.9642 - val_loss: 0.1113 - val_accuracy: 0.9639\n",
      "Epoch 6/15\n",
      "819/819 [==============================] - 19s 23ms/step - loss: 0.0867 - accuracy: 0.9715 - val_loss: 0.0910 - val_accuracy: 0.9702\n",
      "Epoch 7/15\n",
      "819/819 [==============================] - 19s 23ms/step - loss: 0.0759 - accuracy: 0.9750 - val_loss: 0.0762 - val_accuracy: 0.9756\n",
      "Epoch 8/15\n",
      "819/819 [==============================] - 19s 23ms/step - loss: 0.0635 - accuracy: 0.9790 - val_loss: 0.0737 - val_accuracy: 0.9765\n",
      "Epoch 9/15\n",
      "819/819 [==============================] - 19s 23ms/step - loss: 0.0562 - accuracy: 0.9813 - val_loss: 0.0765 - val_accuracy: 0.9754\n",
      "Epoch 10/15\n",
      "819/819 [==============================] - 19s 23ms/step - loss: 0.0521 - accuracy: 0.9826 - val_loss: 0.0621 - val_accuracy: 0.9802\n",
      "Epoch 11/15\n",
      "819/819 [==============================] - 19s 23ms/step - loss: 0.0435 - accuracy: 0.9855 - val_loss: 0.0555 - val_accuracy: 0.9826\n",
      "Epoch 12/15\n",
      "819/819 [==============================] - 19s 23ms/step - loss: 0.0422 - accuracy: 0.9862 - val_loss: 0.0573 - val_accuracy: 0.9827\n",
      "Epoch 13/15\n",
      "819/819 [==============================] - 19s 23ms/step - loss: 0.0348 - accuracy: 0.9884 - val_loss: 0.0585 - val_accuracy: 0.9821\n",
      "Epoch 14/15\n",
      "819/819 [==============================] - 19s 23ms/step - loss: 0.0312 - accuracy: 0.9896 - val_loss: 0.0586 - val_accuracy: 0.9821\n",
      "Epoch 15/15\n",
      "819/819 [==============================] - 19s 23ms/step - loss: 0.0307 - accuracy: 0.9898 - val_loss: 0.0572 - val_accuracy: 0.9833\n"
     ]
    },
    {
     "data": {
      "text/plain": [
       "<keras.callbacks.History at 0x1d5855c9640>"
      ]
     },
     "execution_count": 95,
     "metadata": {},
     "output_type": "execute_result"
    }
   ],
   "source": [
    "# Train the model\n",
    "model.fit(encoder_data,\n",
    "          decoder_data,\n",
    "           epochs=15,\n",
    "           batch_size=128,\n",
    "           validation_split=0.2)"
   ]
  },
  {
   "cell_type": "code",
   "execution_count": 96,
   "metadata": {},
   "outputs": [],
   "source": [
    "# Function for inference\n",
    "def inference(text):\n",
    "\n",
    "    # Label encode\n",
    "    encoded = label_encoding(text, word2int_en, \"english\")\n",
    "\n",
    "    # Padding\n",
    "    encoded = padding([encoded], max_len)[0]\n",
    "\n",
    "    # One hot encoding\n",
    "    encoded = one_hot_encoding(encoded, length=len(word2int_en)+1)\n",
    "\n",
    "    # Expand first dimension\n",
    "    encoded = np.expand_dims(encoded, 0)\n",
    "\n",
    "    # Predict\n",
    "    prediction = model.predict(encoded)[0]\n",
    "\n",
    "    # One-hot decoding\n",
    "    decoded = one_hot_decoding(prediction)\n",
    "\n",
    "    # Label decoding\n",
    "    decoded = \" \".join(label_decoding(decoded, int2word_fr))\n",
    "\n",
    "    # Remove tags\n",
    "    for i_token in [\"<SOS>\", \"<EOS>\", \"<UNK>\"]: decoded = decoded.replace(i_token, \"\").strip()\n",
    "\n",
    "    return decoded"
   ]
  },
  {
   "cell_type": "code",
   "execution_count": 105,
   "metadata": {},
   "outputs": [
    {
     "name": "stdout",
     "output_type": "stream",
     "text": [
      "Input text:  new jersey is sometimes quiet during autumn and it is snowy in april\n",
      "Prediction:  new jersey est parfois calme pendant l ' automne et il est neigeux en avril\n",
      "True label:  new jersey est parfois calme pendant l' automne et il est neigeux en avril\n"
     ]
    }
   ],
   "source": [
    "# Input/Output text \n",
    "input_text = en[0]\n",
    "output_text = fr[0]\n",
    "\n",
    "# Predict the sentence\n",
    "prediction = inference(input_text)\n",
    "\n",
    "# Report\n",
    "print(\"Input text: \", input_text)\n",
    "print(\"Prediction: \", prediction)\n",
    "print(\"True label: \", output_text)"
   ]
  },
  {
   "cell_type": "code",
   "execution_count": null,
   "metadata": {},
   "outputs": [],
   "source": []
  },
  {
   "cell_type": "code",
   "execution_count": null,
   "metadata": {},
   "outputs": [],
   "source": []
  },
  {
   "cell_type": "code",
   "execution_count": null,
   "metadata": {},
   "outputs": [],
   "source": []
  }
 ],
 "metadata": {
  "interpreter": {
   "hash": "4bf5a16b79f3cb90985e3628257d567fbd7649cb1685a1c31906a530b639e1e3"
  },
  "kernelspec": {
   "display_name": "Python 3.8.13 ('prime')",
   "language": "python",
   "name": "python3"
  },
  "language_info": {
   "codemirror_mode": {
    "name": "ipython",
    "version": 3
   },
   "file_extension": ".py",
   "mimetype": "text/x-python",
   "name": "python",
   "nbconvert_exporter": "python",
   "pygments_lexer": "ipython3",
   "version": "3.8.13"
  },
  "orig_nbformat": 4
 },
 "nbformat": 4,
 "nbformat_minor": 2
}
