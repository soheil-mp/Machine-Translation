{
 "cells": [
  {
   "cell_type": "markdown",
   "metadata": {
    "collapsed": true
   },
   "source": [
    "# Machine Translation \n",
    "## Introduction\n",
    "In this notebook, we will build a deep neural network that functions as part of an end-to-end machine translation pipeline. Your completed pipeline will accept English text as input and return the French translation.\n",
    "\n",
    "- **Preprocess** - we'll convert text to sequence of integers.\n",
    "- **Models** Create models which accepts a sequence of integers as input and returns a probability distribution over possible translations. After learning about the basic types of neural networks that are often used for machine translation, you will engage in your own investigations, to design your own model!\n",
    "- **Prediction** Run the model on English text."
   ]
  },
  {
   "cell_type": "code",
   "execution_count": 1,
   "metadata": {},
   "outputs": [],
   "source": [
    "%load_ext autoreload\n",
    "%aimport helper, tests\n",
    "%autoreload 1"
   ]
  },
  {
   "cell_type": "code",
   "execution_count": 2,
   "metadata": {},
   "outputs": [
    {
     "name": "stderr",
     "output_type": "stream",
     "text": [
      "Using TensorFlow backend.\n"
     ]
    }
   ],
   "source": [
    "import collections\n",
    "\n",
    "import helper\n",
    "import numpy as np\n",
    "import project_tests as tests\n",
    "\n",
    "from keras.preprocessing.text import Tokenizer\n",
    "from keras.preprocessing.sequence import pad_sequences\n",
    "from keras.models import Model\n",
    "from keras.layers import GRU, LSTM, Input, Dense, TimeDistributed, Activation, RepeatVector, Bidirectional\n",
    "from keras.layers.embeddings import Embedding\n",
    "from keras.optimizers import Adam\n",
    "from keras.losses import sparse_categorical_crossentropy"
   ]
  },
  {
   "cell_type": "markdown",
   "metadata": {},
   "source": [
    "### Verify access to the GPU\n",
    "The following test applies only if you expect to be using a GPU, e.g., while running in a Udacity Workspace or using an AWS instance with GPU support. Run the next cell, and verify that the device_type is \"GPU\".\n",
    "- If the device is not GPU & you are running from a Udacity Workspace, then save your workspace with the icon at the top, then click \"enable\" at the bottom of the workspace.\n",
    "- If the device is not GPU & you are running from an AWS instance, then refer to the cloud computing instructions in the classroom to verify your setup steps."
   ]
  },
  {
   "cell_type": "code",
   "execution_count": 3,
   "metadata": {},
   "outputs": [
    {
     "name": "stdout",
     "output_type": "stream",
     "text": [
      "[name: \"/cpu:0\"\n",
      "device_type: \"CPU\"\n",
      "memory_limit: 268435456\n",
      "locality {\n",
      "}\n",
      "incarnation: 18038805448716932199\n",
      ", name: \"/gpu:0\"\n",
      "device_type: \"GPU\"\n",
      "memory_limit: 357302272\n",
      "locality {\n",
      "  bus_id: 1\n",
      "}\n",
      "incarnation: 14155259172496927718\n",
      "physical_device_desc: \"device: 0, name: Tesla K80, pci bus id: 0000:00:04.0\"\n",
      "]\n"
     ]
    }
   ],
   "source": [
    "from tensorflow.python.client import device_lib\n",
    "print(device_lib.list_local_devices())"
   ]
  },
  {
   "cell_type": "markdown",
   "metadata": {},
   "source": [
    "## Dataset\n",
    "We begin by investigating the dataset that will be used to train and evaluate your pipeline.  The most common datasets used for machine translation are from [WMT](http://www.statmt.org/).  However, that will take a long time to train a neural network on.  We'll be using a dataset we created for this project that contains a small vocabulary.  You'll be able to train your model in a reasonable time with this dataset.\n",
    "### Load Data\n",
    "The data is located in `data/small_vocab_en` and `data/small_vocab_fr`. The `small_vocab_en` file contains English sentences with their French translations in the `small_vocab_fr` file. Load the English and French data from these files from running the cell below."
   ]
  },
  {
   "cell_type": "code",
   "execution_count": 4,
   "metadata": {},
   "outputs": [
    {
     "name": "stdout",
     "output_type": "stream",
     "text": [
      "Dataset Loaded\n"
     ]
    }
   ],
   "source": [
    "# Load English data\n",
    "english_sentences = helper.load_data('data/small_vocab_en')\n",
    "# Load French data\n",
    "french_sentences = helper.load_data('data/small_vocab_fr')\n",
    "\n",
    "print('Dataset Loaded')"
   ]
  },
  {
   "cell_type": "markdown",
   "metadata": {},
   "source": [
    "### Files\n",
    "Each line in `small_vocab_en` contains an English sentence with the respective translation in each line of `small_vocab_fr`.  View the first two lines from each file."
   ]
  },
  {
   "cell_type": "code",
   "execution_count": 5,
   "metadata": {},
   "outputs": [
    {
     "name": "stdout",
     "output_type": "stream",
     "text": [
      "small_vocab_en Line 1:  new jersey is sometimes quiet during autumn , and it is snowy in april .\n",
      "small_vocab_fr Line 1:  new jersey est parfois calme pendant l' automne , et il est neigeux en avril .\n",
      "small_vocab_en Line 2:  the united states is usually chilly during july , and it is usually freezing in november .\n",
      "small_vocab_fr Line 2:  les états-unis est généralement froid en juillet , et il gèle habituellement en novembre .\n"
     ]
    }
   ],
   "source": [
    "for sample_i in range(2):\n",
    "    print('small_vocab_en Line {}:  {}'.format(sample_i + 1, english_sentences[sample_i]))\n",
    "    print('small_vocab_fr Line {}:  {}'.format(sample_i + 1, french_sentences[sample_i]))"
   ]
  },
  {
   "cell_type": "markdown",
   "metadata": {},
   "source": [
    "From looking at the sentences, you can see they have been preprocessed already.  The puncuations have been delimited using spaces. All the text have been converted to lowercase.  This should save you some time, but the text requires more preprocessing.\n",
    "### Vocabulary\n",
    "The complexity of the problem is determined by the complexity of the vocabulary.  A more complex vocabulary is a more complex problem.  Let's look at the complexity of the dataset we'll be working with."
   ]
  },
  {
   "cell_type": "code",
   "execution_count": 6,
   "metadata": {},
   "outputs": [
    {
     "name": "stdout",
     "output_type": "stream",
     "text": [
      "1823250 English words.\n",
      "227 unique English words.\n",
      "10 Most common words in the English dataset:\n",
      "\"is\" \",\" \".\" \"in\" \"it\" \"during\" \"the\" \"but\" \"and\" \"sometimes\"\n",
      "\n",
      "1961295 French words.\n",
      "355 unique French words.\n",
      "10 Most common words in the French dataset:\n",
      "\"est\" \".\" \",\" \"en\" \"il\" \"les\" \"mais\" \"et\" \"la\" \"parfois\"\n"
     ]
    }
   ],
   "source": [
    "english_words_counter = collections.Counter([word for sentence in english_sentences for word in sentence.split()])\n",
    "french_words_counter = collections.Counter([word for sentence in french_sentences for word in sentence.split()])\n",
    "\n",
    "print('{} English words.'.format(len([word for sentence in english_sentences for word in sentence.split()])))\n",
    "print('{} unique English words.'.format(len(english_words_counter)))\n",
    "print('10 Most common words in the English dataset:')\n",
    "print('\"' + '\" \"'.join(list(zip(*english_words_counter.most_common(10)))[0]) + '\"')\n",
    "print()\n",
    "print('{} French words.'.format(len([word for sentence in french_sentences for word in sentence.split()])))\n",
    "print('{} unique French words.'.format(len(french_words_counter)))\n",
    "print('10 Most common words in the French dataset:')\n",
    "print('\"' + '\" \"'.join(list(zip(*french_words_counter.most_common(10)))[0]) + '\"')"
   ]
  },
  {
   "cell_type": "markdown",
   "metadata": {},
   "source": [
    "For comparison, _Alice's Adventures in Wonderland_ contains 2,766 unique words of a total of 15,500 words.\n",
    "## Preprocess\n",
    "For this project, you won't use text data as input to your model. Instead, you'll convert the text into sequences of integers using the following preprocess methods:\n",
    "1. Tokenize the words into ids\n",
    "2. Add padding to make all the sequences the same length.\n",
    "\n",
    "Time to start preprocessing the data...\n",
    "### Tokenize \n",
    "For a neural network to predict on text data, it first has to be turned into data it can understand. Text data like \"dog\" is a sequence of ASCII character encodings.  Since a neural network is a series of multiplication and addition operations, the input data needs to be number(s).\n",
    "\n",
    "We can turn each character into a number or each word into a number.  These are called character and word ids, respectively.  Character ids are used for character level models that generate text predictions for each character.  A word level model uses word ids that generate text predictions for each word.  Word level models tend to learn better, since they are lower in complexity, so we'll use those.\n",
    "\n",
    "Turn each sentence into a sequence of words ids using Keras's [`Tokenizer`](https://keras.io/preprocessing/text/#tokenizer) function. Use this function to tokenize `english_sentences` and `french_sentences` in the cell below.\n",
    "\n",
    "Running the cell will run `tokenize` on sample data and show output for debugging."
   ]
  },
  {
   "cell_type": "code",
   "execution_count": 12,
   "metadata": {},
   "outputs": [
    {
     "name": "stdout",
     "output_type": "stream",
     "text": [
      "{'the': 1, 'quick': 2, 'a': 3, 'brown': 4, 'fox': 5, 'jumps': 6, 'over': 7, 'lazy': 8, 'dog': 9, 'by': 10, 'jove': 11, 'my': 12, 'study': 13, 'of': 14, 'lexicography': 15, 'won': 16, 'prize': 17, 'this': 18, 'is': 19, 'short': 20, 'sentence': 21}\n",
      "\n",
      "Sequence 1 in x\n",
      "  Input:  The quick brown fox jumps over the lazy dog .\n",
      "  Output: [1, 2, 4, 5, 6, 7, 1, 8, 9]\n",
      "Sequence 2 in x\n",
      "  Input:  By Jove , my quick study of lexicography won a prize .\n",
      "  Output: [10, 11, 12, 2, 13, 14, 15, 16, 3, 17]\n",
      "Sequence 3 in x\n",
      "  Input:  This is a short sentence .\n",
      "  Output: [18, 19, 3, 20, 21]\n"
     ]
    }
   ],
   "source": [
    "def tokenize(x):\n",
    "    \"\"\"\n",
    "    Tokenize x\n",
    "    :param x: List of sentences/strings to be tokenized\n",
    "    :return: Tuple of (tokenized x data, tokenizer used to tokenize x)\n",
    "    \"\"\"\n",
    "    # TODO: Implement\n",
    "    \n",
    "    # Initializing the tokenizer\n",
    "    x_tokenized = Tokenizer()\n",
    "    \n",
    "    # Fitting the tokenizer to our text\n",
    "    x_tokenized.fit_on_texts(x)\n",
    "    \n",
    "    return x_tokenized.texts_to_sequences(x), x_tokenized\n",
    "\n",
    "tests.test_tokenize(tokenize)\n",
    "\n",
    "\n",
    "# Tokenize Example output\n",
    "text_sentences = [\n",
    "    'The quick brown fox jumps over the lazy dog .',\n",
    "    'By Jove , my quick study of lexicography won a prize .',\n",
    "    'This is a short sentence .']\n",
    "text_tokenized, text_tokenizer = tokenize(text_sentences)\n",
    "print(text_tokenizer.word_index)\n",
    "print()\n",
    "for sample_i, (sent, token_sent) in enumerate(zip(text_sentences, text_tokenized)):\n",
    "    print('Sequence {} in x'.format(sample_i + 1))\n",
    "    print('  Input:  {}'.format(sent))\n",
    "    print('  Output: {}'.format(token_sent))"
   ]
  },
  {
   "cell_type": "markdown",
   "metadata": {},
   "source": [
    "### Padding\n",
    "When batching the sequence of word ids together, each sequence needs to be the same length.  Since sentences are dynamic in length, we can add padding to the end of the sequences to make them the same length.\n",
    "\n",
    "Make sure all the English sequences have the same length and all the French sequences have the same length by adding padding to the **end** of each sequence using Keras's [`pad_sequences`](https://keras.io/preprocessing/sequence/#pad_sequences) function."
   ]
  },
  {
   "cell_type": "code",
   "execution_count": 13,
   "metadata": {},
   "outputs": [
    {
     "name": "stdout",
     "output_type": "stream",
     "text": [
      "Sequence 1 in x\n",
      "  Input:  [1 2 4 5 6 7 1 8 9]\n",
      "  Output: [1 2 4 5 6 7 1 8 9 0]\n",
      "Sequence 2 in x\n",
      "  Input:  [10 11 12  2 13 14 15 16  3 17]\n",
      "  Output: [10 11 12  2 13 14 15 16  3 17]\n",
      "Sequence 3 in x\n",
      "  Input:  [18 19  3 20 21]\n",
      "  Output: [18 19  3 20 21  0  0  0  0  0]\n"
     ]
    }
   ],
   "source": [
    "def pad(x, length=None):\n",
    "    \"\"\"\n",
    "    Pad x\n",
    "    :param x: List of sequences.\n",
    "    :param length: Length to pad the sequence to.  If None, use length of longest sequence in x.\n",
    "    :return: Padded numpy array of sequences\n",
    "    \"\"\"\n",
    "    # TODO: Implement\n",
    "    if length is None:\n",
    "        length = max([len(sentence) for sentence in x])\n",
    "    return pad_sequences(sequences = x, maxlen = length, padding = \"post\")\n",
    "        \n",
    "    \n",
    "tests.test_pad(pad)\n",
    "\n",
    "# Pad Tokenized output\n",
    "test_pad = pad(text_tokenized)\n",
    "for sample_i, (token_sent, pad_sent) in enumerate(zip(text_tokenized, test_pad)):\n",
    "    print('Sequence {} in x'.format(sample_i + 1))\n",
    "    print('  Input:  {}'.format(np.array(token_sent)))\n",
    "    print('  Output: {}'.format(pad_sent))"
   ]
  },
  {
   "cell_type": "markdown",
   "metadata": {},
   "source": [
    "### Preprocess Pipeline\n",
    "Your focus for this project is to build neural network architecture, so we won't ask you to create a preprocess pipeline.  Instead, we've provided you with the implementation of the `preprocess` function."
   ]
  },
  {
   "cell_type": "code",
   "execution_count": 15,
   "metadata": {},
   "outputs": [
    {
     "name": "stdout",
     "output_type": "stream",
     "text": [
      "Data Preprocessed\n",
      "Max English sentence length: 15\n",
      "Max French sentence length: 21\n",
      "English vocabulary size: 199\n",
      "French vocabulary size: 344\n"
     ]
    }
   ],
   "source": [
    "def preprocess(x, y):\n",
    "    \"\"\"\n",
    "    Preprocess x and y\n",
    "    :param x: Feature List of sentences\n",
    "    :param y: Label List of sentences\n",
    "    :return: Tuple of (Preprocessed x, Preprocessed y, x tokenizer, y tokenizer)\n",
    "    \"\"\"\n",
    "    preprocess_x, x_tk = tokenize(x)\n",
    "    preprocess_y, y_tk = tokenize(y)\n",
    "\n",
    "    preprocess_x = pad(preprocess_x)\n",
    "    preprocess_y = pad(preprocess_y)\n",
    "\n",
    "    # Keras's sparse_categorical_crossentropy function requires the labels to be in 3 dimensions\n",
    "    preprocess_y = preprocess_y.reshape(*preprocess_y.shape, 1)\n",
    "\n",
    "    return preprocess_x, preprocess_y, x_tk, y_tk\n",
    "\n",
    "preproc_english_sentences, preproc_french_sentences, english_tokenizer, french_tokenizer =\\\n",
    "    preprocess(english_sentences, french_sentences)\n",
    "    \n",
    "max_english_sequence_length = preproc_english_sentences.shape[1]\n",
    "max_french_sequence_length = preproc_french_sentences.shape[1]\n",
    "english_vocab_size = len(english_tokenizer.word_index)\n",
    "french_vocab_size = len(french_tokenizer.word_index)\n",
    "\n",
    "print('Data Preprocessed')\n",
    "print(\"Max English sentence length:\", max_english_sequence_length)\n",
    "print(\"Max French sentence length:\", max_french_sequence_length)\n",
    "print(\"English vocabulary size:\", english_vocab_size)\n",
    "print(\"French vocabulary size:\", french_vocab_size)"
   ]
  },
  {
   "cell_type": "markdown",
   "metadata": {},
   "source": [
    "## Models\n",
    "In this section, you will experiment with various neural network architectures.\n",
    "You will begin by training four relatively simple architectures.\n",
    "- Model 1 is a simple RNN\n",
    "- Model 2 is a RNN with Embedding\n",
    "- Model 3 is a Bidirectional RNN\n",
    "- Model 4 is an optional Encoder-Decoder RNN\n",
    "\n",
    "After experimenting with the four simple architectures, you will construct a deeper architecture that is designed to outperform all four models.\n",
    "### Ids Back to Text\n",
    "The neural network will be translating the input to words ids, which isn't the final form we want.  We want the French translation.  The function `logits_to_text` will bridge the gab between the logits from the neural network to the French translation.  You'll be using this function to better understand the output of the neural network."
   ]
  },
  {
   "cell_type": "code",
   "execution_count": 16,
   "metadata": {},
   "outputs": [
    {
     "name": "stdout",
     "output_type": "stream",
     "text": [
      "`logits_to_text` function loaded.\n"
     ]
    }
   ],
   "source": [
    "def logits_to_text(logits, tokenizer):\n",
    "    \"\"\"\n",
    "    Turn logits from a neural network into text using the tokenizer\n",
    "    :param logits: Logits from a neural network\n",
    "    :param tokenizer: Keras Tokenizer fit on the labels\n",
    "    :return: String that represents the text of the logits\n",
    "    \"\"\"\n",
    "    index_to_words = {id: word for word, id in tokenizer.word_index.items()}\n",
    "    index_to_words[0] = '<PAD>'\n",
    "\n",
    "    return ' '.join([index_to_words[prediction] for prediction in np.argmax(logits, 1)])\n",
    "\n",
    "print('`logits_to_text` function loaded.')"
   ]
  },
  {
   "cell_type": "markdown",
   "metadata": {},
   "source": [
    "### Model 1: RNN\n",
    "![RNN](images/rnn.png)\n",
    "A basic RNN model is a good baseline for sequence data.  In this model, you'll build a RNN that translates English to French."
   ]
  },
  {
   "cell_type": "code",
   "execution_count": 21,
   "metadata": {},
   "outputs": [
    {
     "name": "stdout",
     "output_type": "stream",
     "text": [
      "Train on 110288 samples, validate on 27573 samples\n",
      "Epoch 1/10\n",
      "110288/110288 [==============================] - 66s 597us/step - loss: 1.2063 - acc: 0.6459 - val_loss: 0.9416 - val_acc: 0.6782\n",
      "Epoch 2/10\n",
      "110288/110288 [==============================] - 65s 593us/step - loss: 0.8348 - acc: 0.7160 - val_loss: 0.7362 - val_acc: 0.7493\n",
      "Epoch 3/10\n",
      "110288/110288 [==============================] - 65s 589us/step - loss: 0.6598 - acc: 0.7820 - val_loss: 0.6208 - val_acc: 0.7950\n",
      "Epoch 4/10\n",
      "110288/110288 [==============================] - 65s 592us/step - loss: 0.5919 - acc: 0.8024 - val_loss: 0.5394 - val_acc: 0.8186\n",
      "Epoch 5/10\n",
      "110288/110288 [==============================] - 65s 590us/step - loss: 0.5251 - acc: 0.8246 - val_loss: 0.6779 - val_acc: 0.7800\n",
      "Epoch 6/10\n",
      "110288/110288 [==============================] - 65s 591us/step - loss: 0.5225 - acc: 0.8227 - val_loss: 0.5380 - val_acc: 0.8103\n",
      "Epoch 7/10\n",
      "110288/110288 [==============================] - 65s 587us/step - loss: 0.4774 - acc: 0.8393 - val_loss: 0.4931 - val_acc: 0.8378\n",
      "Epoch 8/10\n",
      "110288/110288 [==============================] - 65s 590us/step - loss: 0.4507 - acc: 0.8475 - val_loss: 0.4266 - val_acc: 0.8607\n",
      "Epoch 9/10\n",
      "110288/110288 [==============================] - 65s 588us/step - loss: 0.4410 - acc: 0.8514 - val_loss: 0.4122 - val_acc: 0.8627\n",
      "Epoch 10/10\n",
      "110288/110288 [==============================] - 65s 587us/step - loss: 0.4254 - acc: 0.8564 - val_loss: 0.3771 - val_acc: 0.8747\n",
      "new jersey est parfois calme au mois automne l' automne et il en neigeux en <PAD> <PAD> <PAD> <PAD> <PAD> <PAD>\n"
     ]
    }
   ],
   "source": [
    "def simple_model(input_shape, output_sequence_length, english_vocab_size, french_vocab_size):\n",
    "    \"\"\"\n",
    "    Build and train a basic RNN on x and y\n",
    "    :param input_shape: Tuple of input shape\n",
    "    :param output_sequence_length: Length of output sequence\n",
    "    :param english_vocab_size: Number of unique English words in the dataset\n",
    "    :param french_vocab_size: Number of unique French words in the dataset\n",
    "    :return: Keras model built, but not trained\n",
    "    \"\"\"\n",
    "    # TODO: Build the layers\n",
    "    # Hyperparameters\n",
    "    learning_rate = 1e-3\n",
    "    \n",
    "    # Building the model\n",
    "    \n",
    "    # Input sequence\n",
    "    input_sequence = Input(shape = input_shape[1:])\n",
    "    \n",
    "    # Adding the 1st layer - GRU Layer\n",
    "    x = GRU(units = 512, return_sequences = True)(input_sequence)\n",
    "    \n",
    "    # Adding the 2nd layer - GRU Layer\n",
    "    x = GRU(units = 512, return_sequences = True)(input_sequence)\n",
    "\n",
    "    # Adding the 3rd layer - Fully Connected Layer\n",
    "    logits = Dense(units = french_vocab_size, activation = \"softmax\")(x)\n",
    "    \n",
    "    # Making the model\n",
    "    model = Model(inputs = input_sequence, outputs = logits)\n",
    "    \n",
    "    # Compiling the model\n",
    "    model.compile(loss = sparse_categorical_crossentropy,\n",
    "                  optimizer = Adam(learning_rate),\n",
    "                  metrics = ['accuracy'])\n",
    "    return model\n",
    "\n",
    "tests.test_simple_model(simple_model)\n",
    "\n",
    "\n",
    "# Reshaping the input to work with a basic RNN\n",
    "tmp_x = pad(preproc_english_sentences, max_french_sequence_length)\n",
    "tmp_x = tmp_x.reshape((-1, preproc_french_sentences.shape[-2], 1))\n",
    "\n",
    "\n",
    "# Initializing the model\n",
    "simple_rnn_model = simple_model(tmp_x.shape,\n",
    "                                max_french_sequence_length,\n",
    "                                len(english_tokenizer.word_index) + 1,\n",
    "                                len(french_tokenizer.word_index) + 1)\n",
    "\n",
    "# Fitting the model to the dataset\n",
    "simple_rnn_model.fit(tmp_x, preproc_french_sentences, batch_size = 64, epochs = 10, validation_split = 0.2)\n",
    "\n",
    "# Print prediction(s)\n",
    "print(logits_to_text(simple_rnn_model.predict(tmp_x[:1])[0], french_tokenizer))"
   ]
  },
  {
   "cell_type": "code",
   "execution_count": 35,
   "metadata": {},
   "outputs": [
    {
     "name": "stdout",
     "output_type": "stream",
     "text": [
      "Original English sentence: \n",
      " new jersey is sometimes quiet during autumn , and it is snowy in april .\n",
      "\n",
      "Predicted sentece: \n",
      " new jersey est parfois calme au mois automne l' automne et il en neigeux en <PAD> <PAD> <PAD> <PAD> <PAD> <PAD>\n",
      "\n",
      "Original French sentence: \n",
      " new jersey est parfois calme pendant l' automne , et il est neigeux en avril .\n"
     ]
    }
   ],
   "source": [
    "print(\"Original English sentence: \\n\", english_sentences[0])\n",
    "\n",
    "print(\"\\nPredicted sentece: \\n\", logits_to_text(simple_rnn_model.predict(tmp_x[:1])[0], french_tokenizer))\n",
    "\n",
    "print(\"\\nOriginal French sentence: \\n\", french_sentences[0])"
   ]
  },
  {
   "cell_type": "markdown",
   "metadata": {},
   "source": [
    "### Model 2: Embedding\n",
    "![RNN](images/embedding.png)\n",
    "You've turned the words into ids, but there's a better representation of a word.  This is called word embeddings.  An embedding is a vector representation of the word that is close to similar words in n-dimensional space, where the n represents the size of the embedding vectors.\n",
    "\n",
    "In this model, you'll create a RNN model using embedding."
   ]
  },
  {
   "cell_type": "code",
   "execution_count": 16,
   "metadata": {},
   "outputs": [
    {
     "name": "stdout",
     "output_type": "stream",
     "text": [
      "Max length:  54\n"
     ]
    }
   ],
   "source": [
    "# Getting the max length\n",
    "def max_length(x):\n",
    "    length = max([len(sentence) for sentence in x])\n",
    "    return length\n",
    "\n",
    "max_len = max_length(text_tokenized)\n",
    "print(\"Max length: \", max_len)"
   ]
  },
  {
   "cell_type": "code",
   "execution_count": 20,
   "metadata": {},
   "outputs": [
    {
     "name": "stdout",
     "output_type": "stream",
     "text": [
      "Train on 110288 samples, validate on 27573 samples\n",
      "Epoch 1/10\n",
      "110288/110288 [==============================] - 104s 943us/step - loss: 0.7882 - acc: 0.7927 - val_loss: 0.3246 - val_acc: 0.8909\n",
      "Epoch 2/10\n",
      "110288/110288 [==============================] - 103s 934us/step - loss: 0.2737 - acc: 0.9074 - val_loss: 0.2507 - val_acc: 0.9151\n",
      "Epoch 3/10\n",
      "110288/110288 [==============================] - 103s 934us/step - loss: 0.2231 - acc: 0.9232 - val_loss: 0.2280 - val_acc: 0.9237\n",
      "Epoch 4/10\n",
      "110288/110288 [==============================] - 103s 934us/step - loss: 0.2008 - acc: 0.9298 - val_loss: 0.2029 - val_acc: 0.9303\n",
      "Epoch 5/10\n",
      "110288/110288 [==============================] - 103s 933us/step - loss: 0.1896 - acc: 0.9331 - val_loss: 0.2043 - val_acc: 0.9302\n",
      "Epoch 6/10\n",
      "110288/110288 [==============================] - 103s 934us/step - loss: 0.1812 - acc: 0.9353 - val_loss: 0.1895 - val_acc: 0.9339\n",
      "Epoch 7/10\n",
      "110288/110288 [==============================] - 103s 934us/step - loss: 0.1739 - acc: 0.9373 - val_loss: 0.1874 - val_acc: 0.9357\n",
      "Epoch 8/10\n",
      "110288/110288 [==============================] - 103s 934us/step - loss: 0.1707 - acc: 0.9381 - val_loss: 0.1890 - val_acc: 0.9353\n",
      "Epoch 9/10\n",
      "110288/110288 [==============================] - 103s 933us/step - loss: 0.1669 - acc: 0.9392 - val_loss: 0.1904 - val_acc: 0.9349\n",
      "Epoch 10/10\n",
      "110288/110288 [==============================] - 103s 934us/step - loss: 0.1642 - acc: 0.9399 - val_loss: 0.1936 - val_acc: 0.9340\n",
      "new jersey est parfois calme en l' automne et il est neigeux en avril avril <PAD> <PAD> <PAD> <PAD> <PAD> <PAD>\n"
     ]
    }
   ],
   "source": [
    "def embed_model(input_shape, output_sequence_length, english_vocab_size, french_vocab_size):\n",
    "    \"\"\"\n",
    "    Build and train a RNN model using word embedding on x and y\n",
    "    :param input_shape: Tuple of input shape\n",
    "    :param output_sequence_length: Length of output sequence\n",
    "    :param english_vocab_size: Number of unique English words in the dataset\n",
    "    :param french_vocab_size: Number of unique French words in the dataset\n",
    "    :return: Keras model built, but not trained\n",
    "    \"\"\"\n",
    "    # Hyperparameters\n",
    "    learning_rate = 1e-3\n",
    "    embedding_size = 300\n",
    "    GRU_units = 512\n",
    "    FCL_units = french_vocab_size*4\n",
    "    global epochs\n",
    "    global batch_size\n",
    "    epochs = 10\n",
    "    batch_size = 128\n",
    "\n",
    "    # Making the model\n",
    "    # 1. Input sequence\n",
    "    input_sequence = Input(shape = input_shape[1:])\n",
    "    \n",
    "    # 2. Embedding layer\n",
    "    embedding_layer = Embedding(embedding_size, english_vocab_size)(input_sequence)\n",
    "    \n",
    "    # 3. Adding the 1st layer - GRU Layer\n",
    "    x = GRU(units = GRU_units, return_sequences = True)(embedding_layer)\n",
    "    \n",
    "    # 4. Adding the 2st layer - GRU Layer\n",
    "    x = GRU(units = GRU_units, return_sequences = True)(x)\n",
    "    \n",
    "    # 5. Adding the 3nd layer - Fully Connected Layer\n",
    "    x = Dense(units = FCL_units, activation = 'relu')(x)\n",
    "    \n",
    "    # 6. Adding the output layer\n",
    "    logits = Dense(units = french_vocab_size, activation = \"softmax\")(x)\n",
    "    \n",
    "    # Making the model\n",
    "    model = Model(inputs = input_sequence, outputs = logits)\n",
    "    \n",
    "    # Compiling the model\n",
    "    model.compile(loss = sparse_categorical_crossentropy,\n",
    "                  optimizer = Adam(learning_rate),\n",
    "                  metrics = ['accuracy'])\n",
    "    return model\n",
    "\n",
    "tests.test_embed_model(embed_model)\n",
    "\n",
    "\n",
    "\n",
    "# Reshaping the input to work with a embeded RNN\n",
    "tmp_x = pad(preproc_english_sentences, preproc_french_sentences.shape[1])\n",
    "\n",
    "# Initializing the model\n",
    "embeded_model = embed_model(input_shape = tmp_x.shape,\n",
    "                            output_sequence_length = max_french_sequence_length,\n",
    "                            english_vocab_size = len(english_tokenizer.word_index) + 1,\n",
    "                            french_vocab_size = len(french_tokenizer.word_index) + 1)\n",
    "\n",
    "# Fitting the model to the dataset\n",
    "embeded_model.fit(tmp_x, preproc_french_sentences, batch_size = batch_size, epochs = epochs, validation_split = 0.2)\n",
    "\n",
    "# Print prediction(s)\n",
    "print(logits_to_text(embeded_model.predict(tmp_x[:1])[0], french_tokenizer))"
   ]
  },
  {
   "cell_type": "code",
   "execution_count": 57,
   "metadata": {},
   "outputs": [
    {
     "name": "stdout",
     "output_type": "stream",
     "text": [
      "Original English sentence: \n",
      " new jersey is sometimes quiet during autumn , and it is snowy in april .\n",
      "\n",
      "Predicted sentece: \n",
      " new jersey est parfois calme en l' automne et il est neigeux en avril avril <PAD> <PAD> <PAD> <PAD> <PAD> <PAD>\n",
      "\n",
      "Original French sentence: \n",
      " new jersey est parfois calme pendant l' automne , et il est neigeux en avril .\n"
     ]
    }
   ],
   "source": [
    "print(\"Original English sentence: \\n\", english_sentences[0])\n",
    "\n",
    "print(\"\\nPredicted sentece: \\n\", logits_to_text(embeded_model.predict(tmp_x[:1])[0], french_tokenizer))\n",
    "\n",
    "print(\"\\nOriginal French sentence: \\n\", french_sentences[0])"
   ]
  },
  {
   "cell_type": "markdown",
   "metadata": {},
   "source": [
    "### Model 3: Bidirectional RNNs\n",
    "\n",
    "![RNN](images/bidirectional.png)\n",
    "One restriction of a RNN is that it can't see the future input, only the past.  This is where bidirectional recurrent neural networks come in.  They are able to see the future data."
   ]
  },
  {
   "cell_type": "code",
   "execution_count": 19,
   "metadata": {},
   "outputs": [
    {
     "name": "stdout",
     "output_type": "stream",
     "text": [
      "Train on 110288 samples, validate on 27573 samples\n",
      "Epoch 1/10\n",
      "110288/110288 [==============================] - 198s 2ms/step - loss: 1.0278 - acc: 0.6882 - val_loss: 0.7402 - val_acc: 0.7415\n",
      "Epoch 2/10\n",
      "110288/110288 [==============================] - 197s 2ms/step - loss: 0.6005 - acc: 0.7869 - val_loss: 0.5445 - val_acc: 0.8004\n",
      "Epoch 3/10\n",
      "110288/110288 [==============================] - 197s 2ms/step - loss: 0.4574 - acc: 0.8344 - val_loss: 0.5028 - val_acc: 0.8163\n",
      "Epoch 4/10\n",
      "110288/110288 [==============================] - 197s 2ms/step - loss: 0.3939 - acc: 0.8571 - val_loss: 0.3192 - val_acc: 0.8804\n",
      "Epoch 5/10\n",
      "110288/110288 [==============================] - 197s 2ms/step - loss: 0.3345 - acc: 0.8780 - val_loss: 0.3405 - val_acc: 0.8768\n",
      "Epoch 6/10\n",
      "110288/110288 [==============================] - 197s 2ms/step - loss: 0.3457 - acc: 0.8745 - val_loss: 0.2451 - val_acc: 0.9135\n",
      "Epoch 7/10\n",
      "110288/110288 [==============================] - 197s 2ms/step - loss: 0.3080 - acc: 0.8892 - val_loss: 0.2482 - val_acc: 0.9128\n",
      "Epoch 8/10\n",
      "110288/110288 [==============================] - 197s 2ms/step - loss: 0.2901 - acc: 0.8944 - val_loss: 0.3441 - val_acc: 0.8614\n",
      "Epoch 9/10\n",
      "110288/110288 [==============================] - 197s 2ms/step - loss: 0.2745 - acc: 0.9006 - val_loss: 0.2140 - val_acc: 0.9221\n",
      "Epoch 10/10\n",
      "110288/110288 [==============================] - 197s 2ms/step - loss: 0.2404 - acc: 0.9132 - val_loss: 0.2421 - val_acc: 0.9101\n",
      "new jersey est parfois calme pendant l' automne et il est neigeux en avril <PAD> <PAD> <PAD> <PAD> <PAD> <PAD> <PAD>\n"
     ]
    }
   ],
   "source": [
    "def bd_model(input_shape, output_sequence_length, english_vocab_size, french_vocab_size):\n",
    "    \"\"\"\n",
    "    Build and train a bidirectional RNN model on x and y\n",
    "    :param input_shape: Tuple of input shape\n",
    "    :param output_sequence_length: Length of output sequence\n",
    "    :param english_vocab_size: Number of unique English words in the dataset\n",
    "    :param french_vocab_size: Number of unique French words in the dataset\n",
    "    :return: Keras model built, but not trained\n",
    "    \"\"\"\n",
    "    # Hyperparameters\n",
    "    learning_rate = 1e-3\n",
    "    embedding_size = 300\n",
    "    GRU_units = 512\n",
    "    FCL_units = french_vocab_size*4\n",
    "    global epochs\n",
    "    global batch_size\n",
    "    epochs = 10\n",
    "    batch_size = 128\n",
    "\n",
    "    # Making the model\n",
    "    # 1. Input sequence\n",
    "    input_sequence = Input(shape = input_shape[1:])\n",
    "    \n",
    "    # 2. Adding the 1st layer - GRU Layer\n",
    "    x = Bidirectional(GRU(units = GRU_units, return_sequences = True))(input_sequence)\n",
    "    \n",
    "    # 3. Adding the 2st layer - GRU Layer\n",
    "    x = Bidirectional(GRU(units = GRU_units, return_sequences = True))(x)\n",
    "    \n",
    "    # 4. Adding the 3nd layer - Fully Connected Layer\n",
    "    x = TimeDistributed(Dense(units = FCL_units, activation = 'relu'))(x)\n",
    "    \n",
    "    # 5. Adding the output layer\n",
    "    logits = Dense(units = french_vocab_size, activation = \"softmax\")(x)\n",
    "    \n",
    "    # Making the model\n",
    "    model = Model(inputs = input_sequence, outputs = logits)\n",
    "    \n",
    "    # Compiling the model\n",
    "    model.compile(loss = sparse_categorical_crossentropy,\n",
    "                  optimizer = Adam(learning_rate),\n",
    "                  metrics = ['accuracy'])\n",
    "    return model\n",
    "\n",
    "tests.test_bd_model(bd_model)\n",
    "\n",
    "\n",
    "\n",
    "# Reshaping the input\n",
    "tmp_x = pad(preproc_english_sentences, max_french_sequence_length)\n",
    "tmp_x = tmp_x.reshape((-1, preproc_french_sentences.shape[-2], 1))\n",
    "\n",
    "# Initializing the model\n",
    "bidirectional_model = bd_model(input_shape = tmp_x.shape,\n",
    "                               output_sequence_length = max_french_sequence_length,\n",
    "                               english_vocab_size = len(english_tokenizer.word_index) + 1,\n",
    "                               french_vocab_size = len(french_tokenizer.word_index) + 1)\n",
    "\n",
    "# Fitting the model to dataset\n",
    "bidirectional_model.fit(tmp_x, preproc_french_sentences, batch_size = batch_size, epochs = epochs, validation_split = 0.2)\n",
    "\n",
    "# Print prediction(s)\n",
    "print(logits_to_text(bidirectional_model.predict(tmp_x[:1])[0], french_tokenizer))"
   ]
  },
  {
   "cell_type": "code",
   "execution_count": 39,
   "metadata": {},
   "outputs": [
    {
     "name": "stdout",
     "output_type": "stream",
     "text": [
      "Original English sentence: \n",
      " new jersey is sometimes quiet during autumn , and it is snowy in april .\n",
      "\n",
      "Predicted sentece: \n",
      " new jersey est parfois calme pendant l' automne et il est neigeux en avril <PAD> <PAD> <PAD> <PAD> <PAD> <PAD> <PAD>\n",
      "\n",
      "Original French sentence: \n",
      " new jersey est parfois calme pendant l' automne , et il est neigeux en avril .\n"
     ]
    }
   ],
   "source": [
    "print(\"Original English sentence: \\n\", english_sentences[0])\n",
    "\n",
    "print(\"\\nPredicted sentece: \\n\", logits_to_text(bidirectional_model.predict(tmp_x[:1])[0], french_tokenizer))\n",
    "\n",
    "print(\"\\nOriginal French sentence: \\n\", french_sentences[0])"
   ]
  },
  {
   "cell_type": "markdown",
   "metadata": {},
   "source": [
    "### Model 4: Encoder-Decoder\n",
    "Time to look at encoder-decoder models.  This model is made up of an encoder and decoder. The encoder creates a matrix representation of the sentence.  The decoder takes this matrix as input and predicts the translation as output.\n",
    "\n",
    "Create an encoder-decoder model in the cell below."
   ]
  },
  {
   "cell_type": "code",
   "execution_count": 56,
   "metadata": {},
   "outputs": [
    {
     "name": "stdout",
     "output_type": "stream",
     "text": [
      "Train on 110288 samples, validate on 27573 samples\n",
      "Epoch 1/10\n",
      "110288/110288 [==============================] - 97s 882us/step - loss: 1.7082 - acc: 0.5732 - val_loss: 1.3142 - val_acc: 0.6331\n",
      "Epoch 2/10\n",
      "110288/110288 [==============================] - 95s 864us/step - loss: 1.1857 - acc: 0.6562 - val_loss: 1.0834 - val_acc: 0.6722\n",
      "Epoch 3/10\n",
      "110288/110288 [==============================] - 95s 863us/step - loss: 1.0383 - acc: 0.6828 - val_loss: 0.9669 - val_acc: 0.7002\n",
      "Epoch 4/10\n",
      "110288/110288 [==============================] - 95s 861us/step - loss: 0.8778 - acc: 0.7182 - val_loss: 0.7878 - val_acc: 0.7401\n",
      "Epoch 5/10\n",
      "110288/110288 [==============================] - 95s 861us/step - loss: 0.7446 - acc: 0.7456 - val_loss: 0.6660 - val_acc: 0.7658\n",
      "Epoch 6/10\n",
      "110288/110288 [==============================] - 95s 861us/step - loss: 0.6470 - acc: 0.7662 - val_loss: 0.5735 - val_acc: 0.7891\n",
      "Epoch 7/10\n",
      "110288/110288 [==============================] - 95s 862us/step - loss: 0.5684 - acc: 0.7892 - val_loss: 0.6094 - val_acc: 0.7813\n",
      "Epoch 8/10\n",
      "110288/110288 [==============================] - 95s 863us/step - loss: 0.5270 - acc: 0.8023 - val_loss: 0.5442 - val_acc: 0.7938\n",
      "Epoch 9/10\n",
      "110288/110288 [==============================] - 95s 864us/step - loss: 0.4800 - acc: 0.8175 - val_loss: 0.4258 - val_acc: 0.8364\n",
      "Epoch 10/10\n",
      "110288/110288 [==============================] - 95s 863us/step - loss: 0.4427 - acc: 0.8300 - val_loss: 0.4228 - val_acc: 0.8424\n",
      "new jersey est relaxant parfois au cours de l' automne et il est neigeux en avril <PAD> <PAD> <PAD> <PAD> <PAD>\n"
     ]
    }
   ],
   "source": [
    "def encdec_model(input_shape, output_sequence_length, english_vocab_size, french_vocab_size):\n",
    "    \"\"\"\n",
    "    Build and train an encoder-decoder model on x and y\n",
    "    :param input_shape: Tuple of input shape\n",
    "    :param output_sequence_length: Length of output sequence\n",
    "    :param english_vocab_size: Number of unique English words in the dataset\n",
    "    :param french_vocab_size: Number of unique French words in the dataset\n",
    "    :return: Keras model built, but not trained\n",
    "    \"\"\"\n",
    "    # Hyperparameters\n",
    "    learning_rate = 1e-3\n",
    "    embedding_size = 300\n",
    "    GRU_units = 512\n",
    "    FCL_units = french_vocab_size*4\n",
    "    global epochs\n",
    "    global batch_size\n",
    "    epochs = 10\n",
    "    batch_size = 128\n",
    "\n",
    "    # Making the model\n",
    "    # 1. Input sequence\n",
    "    input_sequence = Input(shape = input_shape[1:])\n",
    "    \n",
    "    # 2. Adding the 1st layer - GRU Layer\n",
    "    encoder = GRU(units = GRU_units, return_sequences = False)(input_sequence)\n",
    "    \n",
    "    # Fiting the fixed-sized 2D output of the encoder to the 3D input of the decoder\n",
    "    repeat_vector = RepeatVector(output_sequence_length)(encoder)\n",
    "    \n",
    "    # 3. Adding the 2st layer - GRU Layer\n",
    "    decoder = GRU(units = GRU_units, return_sequences = True)(repeat_vector)\n",
    "    \n",
    "    # 4. Adding the 3nd layer - Fully Connected Layer\n",
    "    fully_connected_layer = Dense(units = FCL_units, activation = 'relu')(decoder)\n",
    "    \n",
    "    # 5. Adding the output layer\n",
    "    logits = TimeDistributed(Dense(units = french_vocab_size, activation = \"softmax\"))(fully_connected_layer)\n",
    "    \n",
    "    # Making the model\n",
    "    model = Model(inputs = input_sequence, outputs = logits)\n",
    "    \n",
    "    # Compiling the model\n",
    "    model.compile(loss = sparse_categorical_crossentropy,\n",
    "                  optimizer = Adam(learning_rate),\n",
    "                  metrics = ['accuracy'])\n",
    "    return model\n",
    "\n",
    "\n",
    "tests.test_encdec_model(encdec_model)\n",
    "    \n",
    "# Reshaping the input\n",
    "tmp_x = pad(preproc_english_sentences, max_french_sequence_length)\n",
    "tmp_x = tmp_x.reshape((-1, preproc_french_sentences.shape[-2], 1))\n",
    "\n",
    "# Initializing the model\n",
    "encoded_decoded_model = encdec_model(input_shape = tmp_x.shape,\n",
    "                                     output_sequence_length = max_french_sequence_length,\n",
    "                                     english_vocab_size = len(english_tokenizer.word_index) + 1,\n",
    "                                     french_vocab_size = len(french_tokenizer.word_index) + 1)\n",
    "\n",
    "# Training the model\n",
    "encoded_decoded_model.fit(tmp_x, preproc_french_sentences, batch_size = batch_size, epochs = epochs, validation_split = 0.2)\n",
    "\n",
    "# Print prediction(s)\n",
    "print(logits_to_text(encoded_decoded_model.predict(tmp_x[:1])[0], french_tokenizer))"
   ]
  },
  {
   "cell_type": "code",
   "execution_count": 58,
   "metadata": {},
   "outputs": [
    {
     "name": "stdout",
     "output_type": "stream",
     "text": [
      "Original English sentence: \n",
      " new jersey is sometimes quiet during autumn , and it is snowy in april .\n",
      "\n",
      "Predicted sentece: \n",
      " new jersey est relaxant parfois au cours de l' automne et il est neigeux en avril <PAD> <PAD> <PAD> <PAD> <PAD>\n",
      "\n",
      "Original French sentence: \n",
      " new jersey est parfois calme pendant l' automne , et il est neigeux en avril .\n"
     ]
    }
   ],
   "source": [
    "print(\"Original English sentence: \\n\", english_sentences[0])\n",
    "\n",
    "print(\"\\nPredicted sentece: \\n\", logits_to_text(encoded_decoded_model.predict(tmp_x[:1])[0], french_tokenizer))\n",
    "\n",
    "print(\"\\nOriginal French sentence: \\n\", french_sentences[0])"
   ]
  },
  {
   "cell_type": "markdown",
   "metadata": {},
   "source": [
    "### Model 5: Custom Model\n",
    "Use everything you learned from the previous models to create a model that incorporates embedding and a bidirectional rnn into one model."
   ]
  },
  {
   "cell_type": "code",
   "execution_count": 60,
   "metadata": {},
   "outputs": [
    {
     "name": "stdout",
     "output_type": "stream",
     "text": [
      "Final Model Loaded\n"
     ]
    }
   ],
   "source": [
    "def model_final(input_shape, output_sequence_length, english_vocab_size, french_vocab_size):\n",
    "    \"\"\"\n",
    "    Build and train a model that incorporates embedding, encoder-decoder, and bidirectional RNN on x and y\n",
    "    :param input_shape: Tuple of input shape\n",
    "    :param output_sequence_length: Length of output sequence\n",
    "    :param english_vocab_size: Number of unique English words in the dataset\n",
    "    :param french_vocab_size: Number of unique French words in the dataset\n",
    "    :return: Keras model built, but not trained\n",
    "    \"\"\"\n",
    "    # Hyperparameters\n",
    "    learning_rate = 1e-3\n",
    "    embedding_size = 300\n",
    "    GRU_units_num = 512\n",
    "    FCL_units_num = french_vocab_size*4\n",
    "    global epochs\n",
    "    global batch_size\n",
    "    epochs = 10\n",
    "    batch_size = 128\n",
    "    \n",
    "    # Making the model\n",
    "    # 1. Input sequence\n",
    "    input_sequence = Input(shape = input_shape[1:])\n",
    "    \n",
    "    # 2. Embedding layer\n",
    "    embedding_layer = Embedding(embedding_size, english_vocab_size)(input_sequence)\n",
    "\n",
    "    # 3. Adding the 1st layer - GRU Layer\n",
    "    encoder = Bidirectional(GRU(units = GRU_units_num, return_sequences = False))(embedding_layer)\n",
    "    \n",
    "    # Fiting the fixed-sized 2D output of the encoder to the 3D input of the decoder\n",
    "    repeat_vector = RepeatVector(output_sequence_length)(encoder)\n",
    "    \n",
    "    # 4. Adding the 2st layer - GRU Layer\n",
    "    decoder = Bidirectional(GRU(units = GRU_units_num, return_sequences = True))(repeat_vector)\n",
    "    \n",
    "    # 5. Adding the 3nd layer - Fully Connected Layer\n",
    "    fully_connected_layer = TimeDistributed(Dense(units = FCL_units_num, activation = 'relu'))(decoder)\n",
    "    \n",
    "    # 6. Adding the output layer\n",
    "    logits = TimeDistributed(Dense(units = french_vocab_size, activation = \"softmax\"))(fully_connected_layer)\n",
    "    \n",
    "    # Making the model\n",
    "    model = Model(inputs = input_sequence, outputs = logits)\n",
    "    \n",
    "    # Compiling the model\n",
    "    model.compile(loss = sparse_categorical_crossentropy,\n",
    "                  optimizer = Adam(learning_rate),\n",
    "                  metrics = ['accuracy'])\n",
    "    return model\n",
    "\n",
    "\n",
    "tests.test_model_final(model_final)\n",
    "\n",
    "\n",
    "print('Final Model Loaded')"
   ]
  },
  {
   "cell_type": "markdown",
   "metadata": {},
   "source": [
    "## Prediction"
   ]
  },
  {
   "cell_type": "code",
   "execution_count": 62,
   "metadata": {},
   "outputs": [
    {
     "name": "stdout",
     "output_type": "stream",
     "text": [
      "Train on 110288 samples, validate on 27573 samples\n",
      "Epoch 1/10\n",
      "110288/110288 [==============================] - 222s 2ms/step - loss: 1.2475 - acc: 0.6825 - val_loss: 0.8321 - val_acc: 0.7656\n",
      "Epoch 2/10\n",
      "110288/110288 [==============================] - 219s 2ms/step - loss: 0.5152 - acc: 0.8490 - val_loss: 0.3361 - val_acc: 0.8975\n",
      "Epoch 3/10\n",
      "110288/110288 [==============================] - 219s 2ms/step - loss: 0.2450 - acc: 0.9247 - val_loss: 0.2047 - val_acc: 0.9381\n",
      "Epoch 4/10\n",
      "110288/110288 [==============================] - 219s 2ms/step - loss: 0.1610 - acc: 0.9497 - val_loss: 0.1546 - val_acc: 0.9526\n",
      "Epoch 5/10\n",
      "110288/110288 [==============================] - 219s 2ms/step - loss: 0.1261 - acc: 0.9609 - val_loss: 0.1383 - val_acc: 0.9581\n",
      "Epoch 6/10\n",
      "110288/110288 [==============================] - 219s 2ms/step - loss: 0.1094 - acc: 0.9663 - val_loss: 0.1193 - val_acc: 0.9637\n",
      "Epoch 7/10\n",
      "110288/110288 [==============================] - 219s 2ms/step - loss: 0.0921 - acc: 0.9719 - val_loss: 0.1268 - val_acc: 0.9634\n",
      "Epoch 8/10\n",
      "110288/110288 [==============================] - 219s 2ms/step - loss: 0.0811 - acc: 0.9753 - val_loss: 0.0939 - val_acc: 0.9719\n",
      "Epoch 9/10\n",
      "110288/110288 [==============================] - 219s 2ms/step - loss: 0.0775 - acc: 0.9768 - val_loss: 0.0894 - val_acc: 0.9735\n",
      "Epoch 10/10\n",
      "110288/110288 [==============================] - 219s 2ms/step - loss: 0.0614 - acc: 0.9811 - val_loss: 0.0776 - val_acc: 0.9776\n",
      "Sample 1:\n",
      "il a vu un vieux camion jaune <PAD> <PAD> <PAD> <PAD> <PAD> <PAD> <PAD> <PAD> <PAD> <PAD> <PAD> <PAD> <PAD> <PAD>\n",
      "Il a vu un vieux camion jaune\n",
      "Sample 2:\n",
      "new jersey est parfois calme pendant l' automne et il est neigeux en avril <PAD> <PAD> <PAD> <PAD> <PAD> <PAD> <PAD>\n",
      "new jersey est parfois calme pendant l' automne et il est neigeux en avril <PAD> <PAD> <PAD> <PAD> <PAD> <PAD> <PAD>\n"
     ]
    }
   ],
   "source": [
    "def final_predictions(x, y, x_tk, y_tk):\n",
    "    \"\"\"\n",
    "    Gets predictions using the final model\n",
    "    :param x: Preprocessed English data\n",
    "    :param y: Preprocessed French data\n",
    "    :param x_tk: English tokenizer\n",
    "    :param y_tk: French tokenizer\n",
    "    \"\"\"\n",
    "    # Hyperparamters\n",
    "    epochs = 10\n",
    "    batch_size = 128\n",
    "    \n",
    "    # Reshaping the input to work with a embeded RNN\n",
    "    x = pad(x, y.shape[1])\n",
    "\n",
    "    # Initializing the model\n",
    "    model = model_final(input_shape = x.shape,\n",
    "                        output_sequence_length = y.shape[1],\n",
    "                        english_vocab_size = len(x_tk.word_index) + 1,\n",
    "                        french_vocab_size = len(y_tk.word_index) + 1)\n",
    "\n",
    "    # Fitting the model to data\n",
    "    model.fit(x, y, batch_size = batch_size, epochs = epochs, validation_split = 0.2)\n",
    "\n",
    "                                                         \n",
    "    ## DON'T EDIT ANYTHING BELOW THIS LINE\n",
    "    y_id_to_word = {value: key for key, value in y_tk.word_index.items()}\n",
    "    y_id_to_word[0] = '<PAD>'\n",
    "\n",
    "    sentence = 'he saw a old yellow truck'\n",
    "    sentence = [x_tk.word_index[word] for word in sentence.split()]\n",
    "    sentence = pad_sequences([sentence], maxlen=x.shape[-1], padding='post')\n",
    "    sentences = np.array([sentence[0], x[0]])\n",
    "    predictions = model.predict(sentences, len(sentences))\n",
    "\n",
    "    print('Sample 1:')\n",
    "    print(' '.join([y_id_to_word[np.argmax(x)] for x in predictions[0]]))\n",
    "    print('Il a vu un vieux camion jaune')\n",
    "    print('Sample 2:')\n",
    "    print(' '.join([y_id_to_word[np.argmax(x)] for x in predictions[1]]))\n",
    "    print(' '.join([y_id_to_word[np.max(x)] for x in y[0]]))\n",
    "\n",
    "\n",
    "final_predictions(preproc_english_sentences, preproc_french_sentences, english_tokenizer, french_tokenizer)"
   ]
  },
  {
   "cell_type": "markdown",
   "metadata": {},
   "source": [
    "### Generate the html\n",
    "\n",
    "**Save your notebook before running the next cell to generate the HTML output.** Then submit your project."
   ]
  },
  {
   "cell_type": "code",
   "execution_count": 64,
   "metadata": {},
   "outputs": [
    {
     "data": {
      "text/plain": [
       "['[NbConvertApp] Converting notebook machine_translation.ipynb to html',\n",
       " '[NbConvertApp] Writing 366197 bytes to machine_translation.html']"
      ]
     },
     "execution_count": 64,
     "metadata": {},
     "output_type": "execute_result"
    }
   ],
   "source": [
    "# Save before you run this cell!\n",
    "!!jupyter nbconvert *.ipynb"
   ]
  },
  {
   "cell_type": "markdown",
   "metadata": {},
   "source": [
    "## Optional Enhancements\n",
    "\n",
    "This project focuses on learning various network architectures for machine translation, but we don't evaluate the models according to best practices by splitting the data into separate test & training sets -- so the model accuracy is overstated. Use the [`sklearn.model_selection.train_test_split()`](http://scikit-learn.org/stable/modules/generated/sklearn.model_selection.train_test_split.html) function to create separate training & test datasets, then retrain each of the models using only the training set and evaluate the prediction accuracy using the hold out test set. Does the \"best\" model change?"
   ]
  }
 ],
 "metadata": {
  "kernelspec": {
   "display_name": "Python [default]",
   "language": "python",
   "name": "python3"
  },
  "language_info": {
   "codemirror_mode": {
    "name": "ipython",
    "version": 3
   },
   "file_extension": ".py",
   "mimetype": "text/x-python",
   "name": "python",
   "nbconvert_exporter": "python",
   "pygments_lexer": "ipython3",
   "version": "3.6.3"
  }
 },
 "nbformat": 4,
 "nbformat_minor": 1
}
