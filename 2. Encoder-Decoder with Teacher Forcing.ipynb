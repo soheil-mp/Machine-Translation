{
 "cells": [
  {
   "cell_type": "markdown",
   "metadata": {},
   "source": [
    "<h1 style=\"text-align:center;\">Machine Translation</h1>\n",
    "<h3 style=\"text-align:center;\">Encoder-Decoder with Teacher Forcing</h3>"
   ]
  },
  {
   "cell_type": "markdown",
   "metadata": {},
   "source": [
    "<br>\n",
    "\n",
    "## Initial Deployment\n",
    "\n",
    "---"
   ]
  },
  {
   "cell_type": "code",
   "execution_count": 1,
   "metadata": {},
   "outputs": [],
   "source": [
    "# Import the libraries\n",
    "import nltk, re, tqdm, keras\n",
    "import numpy as np\n",
    "import pandas as pd\n",
    "import tensorflow as tf\n",
    "import matplotlib.pyplot as plt\n",
    "%matplotlib inline"
   ]
  },
  {
   "cell_type": "markdown",
   "metadata": {},
   "source": [
    "<br>\n",
    "\n",
    "## Load Dataset\n",
    "\n",
    "---"
   ]
  },
  {
   "cell_type": "code",
   "execution_count": 2,
   "metadata": {},
   "outputs": [
    {
     "name": "stdout",
     "output_type": "stream",
     "text": [
      "English: \n",
      " ['new jersey is sometimes quiet during autumn , and it is snowy in april .', 'the united states is usually chilly during july , and it is usually freezing in november .']\n",
      "\n",
      "French: \n",
      " [\"new jersey est parfois calme pendant l' automne , et il est neigeux en avril .\", 'les états-unis est généralement froid en juillet , et il gèle habituellement en novembre .']\n"
     ]
    }
   ],
   "source": [
    "# Load the english dataset\n",
    "with open(\"./dataset/en.txt\", encoding='utf-8') as f:\n",
    "    en = f.read().split(\"\\n\")\n",
    "\n",
    "# Load the french dataset\n",
    "with open(\"./dataset/fr.txt\", encoding='utf-8') as f:\n",
    "    fr = f.read().split(\"\\n\")\n",
    "\n",
    "# Report\n",
    "print(\"English: \\n\", en[:2])\n",
    "print(\"\\nFrench: \\n\", fr[:2])"
   ]
  },
  {
   "cell_type": "markdown",
   "metadata": {},
   "source": [
    "<br>\n",
    "\n",
    "## Text Processing & Feature Extraction\n",
    "\n",
    "---"
   ]
  },
  {
   "cell_type": "code",
   "execution_count": 3,
   "metadata": {},
   "outputs": [],
   "source": [
    "# Function for preprocessing the texts\n",
    "def text_preprocessing(text):\n",
    "\n",
    "    # Lowercase\n",
    "    text = text.lower()\n",
    "\n",
    "    # Remove unnecessary characters\n",
    "    text = re.sub(r\"[/.,|?><;:±!@#$%^&*()_+=-]\", \" \", text)\n",
    "\n",
    "    # Remove extra empty spaces\n",
    "    text = \" \".join(text.split())\n",
    "\n",
    "    return text"
   ]
  },
  {
   "cell_type": "code",
   "execution_count": 4,
   "metadata": {},
   "outputs": [
    {
     "name": "stderr",
     "output_type": "stream",
     "text": [
      "100%|\u001b[34m███████████████████████████████████████████████████\u001b[0m| 137861/137861 [00:00<00:00, 410220.30it/s]\u001b[0m\n",
      "100%|\u001b[34m███████████████████████████████████████████████████\u001b[0m| 137861/137861 [00:00<00:00, 342350.05it/s]\u001b[0m"
     ]
    },
    {
     "name": "stdout",
     "output_type": "stream",
     "text": [
      "English: \n",
      " ['new jersey is sometimes quiet during autumn and it is snowy in april'\n",
      " 'the united states is usually chilly during july and it is usually freezing in november']\n",
      "\n",
      "French: \n",
      " [\"new jersey est parfois calme pendant l' automne et il est neigeux en avril\"\n",
      " 'les états unis est généralement froid en juillet et il gèle habituellement en novembre']\n"
     ]
    },
    {
     "name": "stderr",
     "output_type": "stream",
     "text": [
      "\n"
     ]
    }
   ],
   "source": [
    "# Preprocess the texts\n",
    "en = np.array([text_preprocessing(i) for i in tqdm.tqdm(en, ncols=100, colour=\"blue\")])\n",
    "fr = np.array([text_preprocessing(i) for i in tqdm.tqdm(fr, ncols=100, colour=\"blue\")])\n",
    "\n",
    "# Report\n",
    "print(\"English: \\n\", en[:2])\n",
    "print(\"\\nFrench: \\n\", fr[:2])"
   ]
  },
  {
   "cell_type": "code",
   "execution_count": 5,
   "metadata": {},
   "outputs": [],
   "source": [
    "# Function for creating Word2Int and Int2Word\n",
    "def prepare_word_dictionay(list_of_texts, language):\n",
    "\n",
    "    # Unique tokens\n",
    "    text = \" \".join(list_of_texts.ravel()).lower()                  # Convert list of strings into one string\n",
    "    tokens = nltk.tokenize.word_tokenize(text, language=language)   # Tokenize\n",
    "    unique_tokens = np.unique(tokens)                               # Unique tokens\n",
    "\n",
    "    # Initialize Word2Int\n",
    "    word2int = {}\n",
    "\n",
    "    # Add necessary tags  \n",
    "    word2int[\"<SOS>\"] = 1        # Start-of-sequence <SOS> tag\n",
    "    word2int[\"<EOS>\"] = 2        # End-of-sequence <EOS> tag\n",
    "    word2int[\"<UNK>\"] = 3        # Unknown <UNK> tag\n",
    "\n",
    "    # Loop over unique tokens\n",
    "    for i_token in tqdm.tqdm(unique_tokens, ncols=100, colour=\"blue\"):\n",
    "\n",
    "        # Add to Word2Int\n",
    "        word2int[i_token] = max(word2int.values())+1\n",
    "\n",
    "    # Make Int2Word\n",
    "    int2word = {idx: word for word, idx in word2int.items()}\n",
    "\n",
    "    return word2int, int2word"
   ]
  },
  {
   "cell_type": "code",
   "execution_count": 6,
   "metadata": {},
   "outputs": [
    {
     "name": "stderr",
     "output_type": "stream",
     "text": [
      "100%|\u001b[34m█████████████████████████████████████████████████████████████████████\u001b[0m| 197/197 [00:00<?, ?it/s]\u001b[0m\n",
      "100%|\u001b[34m█████████████████████████████████████████████████████████\u001b[0m| 345/345 [00:00<00:00, 344286.20it/s]\u001b[0m\n"
     ]
    }
   ],
   "source": [
    "# Create word2int and int2word\n",
    "word2int_en, int2word_en = prepare_word_dictionay(list_of_texts=en, language=\"english\")\n",
    "word2int_fr, int2word_fr = prepare_word_dictionay(list_of_texts=fr, language=\"french\")"
   ]
  },
  {
   "cell_type": "code",
   "execution_count": 7,
   "metadata": {},
   "outputs": [],
   "source": [
    "# Label encoding function; For converting words to numerical values\n",
    "def label_encoding(text, word2int, language):\n",
    "\n",
    "    # Tokenize\n",
    "    tokens = nltk.tokenize.word_tokenize(text, language=language)\n",
    "\n",
    "    # Add staring/ending tag\n",
    "    tokens.insert(0, \"<SOS>\")\n",
    "    tokens.insert(len(tokens), \"<EOS>\")\n",
    "\n",
    "    # Initialize a list\n",
    "    encoded_tokens = []\n",
    "\n",
    "    # Loop over tokens\n",
    "    for i in tokens:\n",
    "\n",
    "        # Append idx if it exist\n",
    "        try: encoded_tokens.append(word2int[i])\n",
    "\n",
    "        # Append <UNK> if it doesn't exist\n",
    "        except: encoded_tokens.append(word2int[\"<UNK>\"])\n",
    "\n",
    "    return encoded_tokens\n",
    "\n",
    "\n",
    "# Label decoding function; For converting numerical values to words\n",
    "def label_decoding(tokens, int2word):\n",
    "\n",
    "    # Initialize a list\n",
    "    decoded_tokens = []\n",
    "\n",
    "    # Loop over tokens\n",
    "    for i in tokens:\n",
    "\n",
    "        # Append word if it exist\n",
    "        try: decoded_tokens.append(int2word[i])\n",
    "\n",
    "        # Append <UNK> if it doesn't exist\n",
    "        except: decoded_tokens.append(\"<UNK>\")\n",
    "\n",
    "    return decoded_tokens"
   ]
  },
  {
   "cell_type": "code",
   "execution_count": 8,
   "metadata": {},
   "outputs": [
    {
     "name": "stderr",
     "output_type": "stream",
     "text": [
      "100%|\u001b[34m████████████████████████████████████████████████████\u001b[0m| 137861/137861 [00:10<00:00, 12705.15it/s]\u001b[0m\n",
      "100%|\u001b[34m████████████████████████████████████████████████████\u001b[0m| 137861/137861 [00:11<00:00, 12407.72it/s]\u001b[0m"
     ]
    },
    {
     "name": "stdout",
     "output_type": "stream",
     "text": [
      "English: \n",
      " [[1, 123, 92, 89, 158, 141, 53, 16, 7, 90, 89, 157, 87, 12, 2]]\n",
      "\n",
      "French: \n",
      " [[1, 209, 154, 109, 229, 53, 232, 157, 4, 32, 110, 145, 109, 208, 101, 37, 2]]\n"
     ]
    },
    {
     "name": "stderr",
     "output_type": "stream",
     "text": [
      "\n"
     ]
    }
   ],
   "source": [
    "# Label encode the texts\n",
    "en_label_encoded = [label_encoding(i, language=\"english\", word2int=word2int_en) for i in tqdm.tqdm(en, ncols=100, colour=\"blue\", total=en.shape[0])]\n",
    "fr_label_encoded = [label_encoding(i, language=\"french\", word2int=word2int_fr) for i in tqdm.tqdm(fr, ncols=100, colour=\"blue\", total=fr.shape[0])]\n",
    "\n",
    "# Report\n",
    "print(\"English: \\n\", en_label_encoded[:1])\n",
    "print(\"\\nFrench: \\n\", fr_label_encoded[:1])"
   ]
  },
  {
   "cell_type": "code",
   "execution_count": 9,
   "metadata": {},
   "outputs": [],
   "source": [
    "# Function for padding the sequence\n",
    "def padding(label_encoded_seq, max_len):\n",
    "\n",
    "    # Pad the sequences\n",
    "    padded_seq = tf.keras.preprocessing.sequence.pad_sequences(sequences=label_encoded_seq, maxlen=max_len, \n",
    "                                                               padding=\"post\", truncating=\"post\")\n",
    "\n",
    "    return padded_seq"
   ]
  },
  {
   "cell_type": "code",
   "execution_count": 10,
   "metadata": {},
   "outputs": [
    {
     "name": "stdout",
     "output_type": "stream",
     "text": [
      "Shape of int tokens EN:  (137861, 25)\n",
      "Shape of int tokens FR:  (137861, 25)\n"
     ]
    }
   ],
   "source": [
    "# Maximum length for padding\n",
    "max_len = max(max([len(i) for i in en_label_encoded]), max([len(i) for i in fr_label_encoded]))\n",
    "\n",
    "# Pad the sequences\n",
    "en_label_encoded = padding(en_label_encoded, max_len) \n",
    "fr_label_encoded = padding(fr_label_encoded, max_len) \n",
    "\n",
    "# Report\n",
    "print(\"Shape of int tokens EN: \", en_label_encoded.shape)\n",
    "print(\"Shape of int tokens FR: \", fr_label_encoded.shape)"
   ]
  },
  {
   "cell_type": "code",
   "execution_count": 11,
   "metadata": {},
   "outputs": [],
   "source": [
    "# One-hot encoding; Function for converting numerical values to binary vectors\n",
    "def one_hot_encoding(label_encoded_seq, length):\n",
    "\n",
    "    # Initialize a list for one hot encoded\n",
    "    one_hot_encoded = []\n",
    "    \n",
    "    # Loop over each token in the sequence\n",
    "    for i_token in label_encoded_seq:\n",
    "\n",
    "        # Initialize zero vector\n",
    "        #token = np.zeros(shape=length)\n",
    "        token = [0 for _ in range(length)]\n",
    "        \n",
    "        # Set one\n",
    "        token[i_token] = 1\n",
    "\n",
    "        # Append to the list\n",
    "        one_hot_encoded.append(token)\n",
    "\n",
    "    #return np.array(one_hot_encoded)\n",
    "    return one_hot_encoded\n",
    "\n",
    "\n",
    "# Function for one hot decoding\n",
    "def one_hot_decoding(tokens):\n",
    "\n",
    "    # Initialize a list for one hot decoded\n",
    "    one_hot_decoded = []\n",
    "        \n",
    "    # Loop over each token in the sequence\n",
    "    for i_token in tokens:\n",
    "\n",
    "        # Append to the list\n",
    "        one_hot_decoded.append(np.argmax(i_token))\n",
    "\n",
    "    #return np.array(one_hot_decoded)\n",
    "    return one_hot_decoded"
   ]
  },
  {
   "cell_type": "code",
   "execution_count": 12,
   "metadata": {},
   "outputs": [
    {
     "name": "stderr",
     "output_type": "stream",
     "text": [
      "100%|\u001b[34m█████████████████████████████████████████████████████\u001b[0m| 137861/137861 [00:32<00:00, 4246.57it/s]\u001b[0m\n",
      "100%|\u001b[34m█████████████████████████████████████████████████████\u001b[0m| 137861/137861 [01:05<00:00, 2089.37it/s]\u001b[0m\n"
     ]
    },
    {
     "name": "stdout",
     "output_type": "stream",
     "text": [
      "Shape of int tokens EN:  (137861, 25, 201)\n",
      "Shape of int tokens FR:  (137861, 25, 349)\n"
     ]
    }
   ],
   "source": [
    "# One-hot encoding\n",
    "en_one_hot_encoded = np.array([one_hot_encoding(i, length=len(word2int_en)+1) for i in tqdm.tqdm(en_label_encoded, ncols=100, colour=\"blue\")])\n",
    "fr_one_hot_encoded = np.array([one_hot_encoding(i, length=len(word2int_fr)+1) for i in tqdm.tqdm(fr_label_encoded, ncols=100, colour=\"blue\")])\n",
    "\n",
    "# Report\n",
    "print(\"Shape of int tokens EN: \", en_one_hot_encoded.shape)\n",
    "print(\"Shape of int tokens FR: \", fr_one_hot_encoded.shape)"
   ]
  },
  {
   "cell_type": "code",
   "execution_count": 13,
   "metadata": {},
   "outputs": [],
   "source": [
    "# Function for splitting the dataset into training/testing set\n",
    "def split_train_test(x, y, train_ratio=0.95):\n",
    "\n",
    "    # Find the dividing index\n",
    "    #div_idx = int(x.shape[0]*train_ratio)\n",
    "    div_idx = int(len(x)*train_ratio)\n",
    "\n",
    "    # Training set\n",
    "    x_train, y_train = x[:div_idx], y[:div_idx]\n",
    "\n",
    "    # Testing set\n",
    "    x_test, y_test = x[div_idx:], y[div_idx:]\n",
    "\n",
    "    return x_train, y_train, x_test, y_test"
   ]
  },
  {
   "cell_type": "code",
   "execution_count": 14,
   "metadata": {},
   "outputs": [
    {
     "name": "stdout",
     "output_type": "stream",
     "text": [
      "x-train shape:  (130967, 25, 201)\n",
      "y-train Shape:  (130967, 25, 349)\n",
      "x-test Shape:   (6894, 25, 201)\n",
      "y-test Shape:   (6894, 25, 349)\n"
     ]
    }
   ],
   "source": [
    "# Split the dataset into training and testing set\n",
    "x_train, y_train, x_test, y_test = split_train_test(x=en_one_hot_encoded, y=fr_one_hot_encoded, train_ratio=0.95)\n",
    "\n",
    "# Report\n",
    "print(\"x-train shape: \", x_train.shape) \n",
    "print(\"y-train Shape: \", y_train.shape)\n",
    "print(\"x-test Shape:  \", x_test.shape)\n",
    "print(\"y-test Shape:  \", y_test.shape)"
   ]
  },
  {
   "cell_type": "markdown",
   "metadata": {},
   "source": [
    "<br>\n",
    "\n",
    "## Model Construction and Training\n",
    "\n",
    "---"
   ]
  },
  {
   "cell_type": "code",
   "execution_count": 15,
   "metadata": {},
   "outputs": [
    {
     "name": "stdout",
     "output_type": "stream",
     "text": [
      "Encoder Input Data - (130967, 25, 201): \n",
      "[[0 1 0 ... 0 0 0]\n",
      " [0 0 0 ... 0 0 0]\n",
      " [0 0 0 ... 0 0 0]\n",
      " ...\n",
      " [1 0 0 ... 0 0 0]\n",
      " [1 0 0 ... 0 0 0]\n",
      " [1 0 0 ... 0 0 0]]\n"
     ]
    }
   ],
   "source": [
    "# Encoder input data\n",
    "encoder_input_data  = x_train\n",
    "\n",
    "# Report\n",
    "print(f\"Encoder Input Data - {encoder_input_data.shape}: \")\n",
    "print(encoder_input_data[0])"
   ]
  },
  {
   "cell_type": "code",
   "execution_count": 16,
   "metadata": {},
   "outputs": [
    {
     "name": "stdout",
     "output_type": "stream",
     "text": [
      "\n",
      "Decoder Input Data - (130967, 25, 349): \n",
      "[[0 1 0 ... 0 0 0]\n",
      " [0 0 0 ... 0 0 0]\n",
      " [0 0 0 ... 0 0 0]\n",
      " ...\n",
      " [1 0 0 ... 0 0 0]\n",
      " [1 0 0 ... 0 0 0]\n",
      " [1 0 0 ... 0 0 0]]\n"
     ]
    }
   ],
   "source": [
    "# Decoder input data\n",
    "decoder_input_data  = y_train\n",
    "\n",
    "# Report\n",
    "print(f\"\\nDecoder Input Data - {decoder_input_data.shape}: \")\n",
    "print(decoder_input_data[0])"
   ]
  },
  {
   "cell_type": "code",
   "execution_count": 34,
   "metadata": {},
   "outputs": [
    {
     "name": "stderr",
     "output_type": "stream",
     "text": [
      "100%|\u001b[34m█████████████████████████████████████████████████████\u001b[0m| 130967/130967 [01:45<00:00, 1243.54it/s]\u001b[0m\n"
     ]
    },
    {
     "name": "stdout",
     "output_type": "stream",
     "text": [
      "\n",
      "Decoder Output Data - (130967, 25, 349): \n",
      "[[0 0 0 ... 0 0 0]\n",
      " [0 0 0 ... 0 0 0]\n",
      " [0 0 0 ... 0 0 0]\n",
      " ...\n",
      " [1 0 0 ... 0 0 0]\n",
      " [1 0 0 ... 0 0 0]\n",
      " [1 0 0 ... 0 0 0]]\n"
     ]
    }
   ],
   "source": [
    "# Decoder output data\n",
    "decoder_output_data = [np.append(i[1:], [0]) for i in fr_label_encoded]      # Shift tokens by 1\n",
    "decoder_output_data = decoder_output_data[:x_train.shape[0]]                 # Same size as x_train\n",
    "decoder_output_data = np.array([one_hot_encoding(i, length=len(word2int_fr)+1) for i in tqdm.tqdm(decoder_output_data, ncols=100, colour=\"blue\")])\n",
    "\n",
    "# Report\n",
    "print(f\"\\nDecoder Output Data - {decoder_output_data.shape}: \")\n",
    "print(decoder_output_data[0])"
   ]
  },
  {
   "cell_type": "code",
   "execution_count": 35,
   "metadata": {},
   "outputs": [],
   "source": [
    "# Hyperparameters\n",
    "num_encoder_tokens = len(word2int_en)+1\n",
    "num_decoder_tokens = len(word2int_fr)+1\n",
    "latent_dim = 512"
   ]
  },
  {
   "cell_type": "code",
   "execution_count": 36,
   "metadata": {},
   "outputs": [],
   "source": [
    "# Encoder input\n",
    "encoder_inputs = tf.keras.layers.Input(shape=(None, num_encoder_tokens), \n",
    "                                       name=\"encoder input\")\n",
    "\n",
    "# Encoder LSTM\n",
    "encoder = tf.keras.layers.LSTM(latent_dim,                 # latent_dim represents the dimensionality of context vector\n",
    "                               return_sequences=False, \n",
    "                               return_state=True, \n",
    "                               name=\"encoder_LSTM\") \n",
    "\n",
    "# Feed input to LSTM\n",
    "encoder_outputs, state_h, state_c = encoder(encoder_inputs)\n",
    "\n",
    "# Context Vector (i.e. last hidden states and cell states of encoder)\n",
    "context_vector = [state_h, state_c]"
   ]
  },
  {
   "cell_type": "code",
   "execution_count": 37,
   "metadata": {},
   "outputs": [],
   "source": [
    "# Decoder input\n",
    "decoder_inputs = tf.keras.layers.Input(shape=(None, num_decoder_tokens), \n",
    "                                       name=\"decoder input\")\n",
    "\n",
    "# Decoder LSTM\n",
    "decoder_lstm = tf.keras.layers.LSTM(latent_dim, \n",
    "                                    return_sequences=True, \n",
    "                                    return_state=True, \n",
    "                                    name=\"decoder_LSTM\")\n",
    "\n",
    "# Feed input to LSTM\n",
    "decoder_outputs, _, _ = decoder_lstm(decoder_inputs,\n",
    "                                     initial_state=context_vector)    # Initialize states with Context Vecotr"
   ]
  },
  {
   "cell_type": "code",
   "execution_count": 38,
   "metadata": {},
   "outputs": [],
   "source": [
    "# Output\n",
    "decoder_dense = tf.keras.layers.Dense(num_decoder_tokens,         #num_decoder_tokens,   # TODO: The problem should be here\n",
    "                                      activation='softmax', \n",
    "                                      name=\"output\")\n",
    "\n",
    "# Feed decoder to output\n",
    "decoder_outputs = decoder_dense(decoder_outputs)"
   ]
  },
  {
   "cell_type": "code",
   "execution_count": 39,
   "metadata": {},
   "outputs": [
    {
     "name": "stdout",
     "output_type": "stream",
     "text": [
      "Model: \"model_1\"\n",
      "__________________________________________________________________________________________________\n",
      " Layer (type)                   Output Shape         Param #     Connected to                     \n",
      "==================================================================================================\n",
      " encoder input (InputLayer)     [(None, None, 201)]  0           []                               \n",
      "                                                                                                  \n",
      " decoder input (InputLayer)     [(None, None, 349)]  0           []                               \n",
      "                                                                                                  \n",
      " encoder_LSTM (LSTM)            [(None, 512),        1462272     ['encoder input[0][0]']          \n",
      "                                 (None, 512),                                                     \n",
      "                                 (None, 512)]                                                     \n",
      "                                                                                                  \n",
      " decoder_LSTM (LSTM)            [(None, None, 512),  1765376     ['decoder input[0][0]',          \n",
      "                                 (None, 512),                     'encoder_LSTM[0][1]',           \n",
      "                                 (None, 512)]                     'encoder_LSTM[0][2]']           \n",
      "                                                                                                  \n",
      " output (Dense)                 (None, None, 349)    179037      ['decoder_LSTM[0][0]']           \n",
      "                                                                                                  \n",
      "==================================================================================================\n",
      "Total params: 3,406,685\n",
      "Trainable params: 3,406,685\n",
      "Non-trainable params: 0\n",
      "__________________________________________________________________________________________________\n",
      "None\n"
     ]
    },
    {
     "data": {
      "image/png": "[encoded data removed]",
      "text/plain": [
       "<IPython.core.display.Image object>"
      ]
     },
     "execution_count": 39,
     "metadata": {},
     "output_type": "execute_result"
    }
   ],
   "source": [
    "# Model\n",
    "model = tf.keras.Model([encoder_inputs, decoder_inputs], decoder_outputs)\n",
    "\n",
    "# Compile the model\n",
    "model.compile(optimizer='adam', loss='categorical_crossentropy', metrics=[\"accuracy\"])\n",
    "\n",
    "# Summary\n",
    "print(model.summary())\n",
    "\n",
    "# Plot the model\n",
    "keras.utils.vis_utils.plot_model(model)"
   ]
  },
  {
   "cell_type": "code",
   "execution_count": 40,
   "metadata": {},
   "outputs": [
    {
     "name": "stdout",
     "output_type": "stream",
     "text": [
      "Epoch 1/10\n",
      "819/819 [==============================] - 95s 107ms/step - loss: 0.8977 - accuracy: 0.7547 - val_loss: 0.4544 - val_accuracy: 0.8421\n",
      "Epoch 2/10\n",
      "819/819 [==============================] - 85s 103ms/step - loss: 0.3771 - accuracy: 0.8672 - val_loss: 0.3049 - val_accuracy: 0.8933\n",
      "Epoch 3/10\n",
      "819/819 [==============================] - 85s 103ms/step - loss: 0.2040 - accuracy: 0.9304 - val_loss: 0.1090 - val_accuracy: 0.9645\n",
      "Epoch 4/10\n",
      "819/819 [==============================] - 85s 103ms/step - loss: 0.0543 - accuracy: 0.9839 - val_loss: 0.0373 - val_accuracy: 0.9886\n",
      "Epoch 5/10\n",
      "819/819 [==============================] - 85s 104ms/step - loss: 0.0316 - accuracy: 0.9901 - val_loss: 0.0352 - val_accuracy: 0.9888\n",
      "Epoch 6/10\n",
      "819/819 [==============================] - 85s 103ms/step - loss: 0.0207 - accuracy: 0.9935 - val_loss: 0.0301 - val_accuracy: 0.9901\n",
      "Epoch 7/10\n",
      "819/819 [==============================] - 84s 103ms/step - loss: 0.0179 - accuracy: 0.9943 - val_loss: 0.0189 - val_accuracy: 0.9939\n",
      "Epoch 8/10\n",
      "819/819 [==============================] - 85s 103ms/step - loss: 0.0151 - accuracy: 0.9951 - val_loss: 0.0189 - val_accuracy: 0.9939\n",
      "Epoch 9/10\n",
      "819/819 [==============================] - 85s 103ms/step - loss: 0.0129 - accuracy: 0.9958 - val_loss: 0.0145 - val_accuracy: 0.9955\n",
      "Epoch 10/10\n",
      "819/819 [==============================] - 84s 103ms/step - loss: 0.0119 - accuracy: 0.9960 - val_loss: 0.0136 - val_accuracy: 0.9957\n"
     ]
    },
    {
     "data": {
      "text/plain": [
       "<keras.callbacks.History at 0x14b40b6c160>"
      ]
     },
     "execution_count": 40,
     "metadata": {},
     "output_type": "execute_result"
    }
   ],
   "source": [
    "# Train the model\n",
    "model.fit([encoder_input_data, decoder_input_data],\n",
    "           decoder_output_data,\n",
    "           epochs=10,\n",
    "           batch_size=128,\n",
    "           validation_split=0.2)"
   ]
  },
  {
   "cell_type": "code",
   "execution_count": 43,
   "metadata": {},
   "outputs": [],
   "source": [
    "# Save the model\n",
    "model.save(\"./saved models/model_2.h5\")"
   ]
  },
  {
   "cell_type": "code",
   "execution_count": 44,
   "metadata": {},
   "outputs": [
    {
     "name": "stdout",
     "output_type": "stream",
     "text": [
      "Model got loaded.\n"
     ]
    }
   ],
   "source": [
    "# Load the model\n",
    "model = tf.keras.models.load_model(\"./saved models/model_2.h5\")\n",
    "print(\"Model got loaded.\")"
   ]
  },
  {
   "cell_type": "markdown",
   "metadata": {},
   "source": [
    "<br>\n",
    "\n",
    "## Inference\n",
    "\n",
    "---"
   ]
  },
  {
   "cell_type": "code",
   "execution_count": 45,
   "metadata": {},
   "outputs": [
    {
     "name": "stdout",
     "output_type": "stream",
     "text": [
      "Model: \"model_2\"\n",
      "_________________________________________________________________\n",
      " Layer (type)                Output Shape              Param #   \n",
      "=================================================================\n",
      " encoder input (InputLayer)  [(None, None, 201)]       0         \n",
      "                                                                 \n",
      " encoder_LSTM (LSTM)         [(None, 512),             1462272   \n",
      "                              (None, 512),                       \n",
      "                              (None, 512)]                       \n",
      "                                                                 \n",
      "=================================================================\n",
      "Total params: 1,462,272\n",
      "Trainable params: 1,462,272\n",
      "Non-trainable params: 0\n",
      "_________________________________________________________________\n"
     ]
    }
   ],
   "source": [
    "# Encoder input\n",
    "encoder_inputs = tf.keras.layers.Input(shape=(None, num_encoder_tokens), \n",
    "                                       name=\"encoder input\")\n",
    "\n",
    "# Feed input to LSTM\n",
    "encoder_outputs, state_h, state_c = encoder(encoder_inputs)\n",
    "\n",
    "# Context Vector (i.e. last hidden states and cell states of encoder)\n",
    "context_vector = [state_h, state_c]\n",
    "\n",
    "# Encoder model\n",
    "encoder_model = tf.keras.Model(encoder_inputs, context_vector)\n",
    "\n",
    "# Report\n",
    "encoder_model.summary()"
   ]
  },
  {
   "cell_type": "code",
   "execution_count": 46,
   "metadata": {},
   "outputs": [],
   "source": [
    "# Input - hidden state\n",
    "decoder_state_input_h = keras.layers.Input(shape=(latent_dim,), name=\"hidden state input\")\n",
    "\n",
    "# Input - cell state\n",
    "decoder_state_input_c = keras.layers.Input(shape=(latent_dim,), name=\"cell state input\")\n",
    "\n",
    "# Save the inputs\n",
    "decoder_states_inputs = [decoder_state_input_h, decoder_state_input_c]\n",
    "\n",
    "# Decoder LSTM\n",
    "decoder_outputs, state_h, state_c = decoder_lstm(decoder_inputs, initial_state=decoder_states_inputs)\n",
    "\n",
    "# Save the states\n",
    "decoder_states = [state_h, state_c]"
   ]
  },
  {
   "cell_type": "code",
   "execution_count": 47,
   "metadata": {},
   "outputs": [
    {
     "name": "stdout",
     "output_type": "stream",
     "text": [
      "Model: \"model_3\"\n",
      "__________________________________________________________________________________________________\n",
      " Layer (type)                   Output Shape         Param #     Connected to                     \n",
      "==================================================================================================\n",
      " decoder input (InputLayer)     [(None, None, 349)]  0           []                               \n",
      "                                                                                                  \n",
      " hidden state input (InputLayer  [(None, 512)]       0           []                               \n",
      " )                                                                                                \n",
      "                                                                                                  \n",
      " cell state input (InputLayer)  [(None, 512)]        0           []                               \n",
      "                                                                                                  \n",
      " decoder_LSTM (LSTM)            [(None, None, 512),  1765376     ['decoder input[0][0]',          \n",
      "                                 (None, 512),                     'hidden state input[0][0]',     \n",
      "                                 (None, 512)]                     'cell state input[0][0]']       \n",
      "                                                                                                  \n",
      " output (Dense)                 (None, None, 349)    179037      ['decoder_LSTM[1][0]']           \n",
      "                                                                                                  \n",
      "==================================================================================================\n",
      "Total params: 1,944,413\n",
      "Trainable params: 1,944,413\n",
      "Non-trainable params: 0\n",
      "__________________________________________________________________________________________________\n"
     ]
    }
   ],
   "source": [
    "# Output dense\n",
    "decoder_outputs = decoder_dense(decoder_outputs)\n",
    "\n",
    "# Construct model\n",
    "decoder_model = tf.keras.Model([decoder_inputs] + decoder_states_inputs, [decoder_outputs] + decoder_states)\n",
    "\n",
    "# Report\n",
    "decoder_model.summary()"
   ]
  },
  {
   "cell_type": "code",
   "execution_count": 48,
   "metadata": {},
   "outputs": [],
   "source": [
    "def decode_sequence(input_seq):\n",
    "    \n",
    "    # Encoder prediction (get context vector)\n",
    "    states_value = encoder_model.predict(input_seq)\n",
    "\n",
    "    # Initialize the target sequence with zeros - shape of (1, 1, NUM_DECODER_TOKEN)\n",
    "    target_seq = np.zeros(shape=(1, 1, num_decoder_tokens))\n",
    "\n",
    "    # Populate the first character of target sequence with the start character.\n",
    "    target_seq[0, 0, 0] = word2int_en[\"<SOS>\"]\n",
    "\n",
    "    # Initialize the maximum decoder length\n",
    "    max_decoder_length = decoder_output_data.shape[-1]\n",
    "\n",
    "    # Initialize the stop condition\n",
    "    stop_condition = False\n",
    "\n",
    "    # Initialize the decoded sentence\n",
    "    decoded_sentence = []\n",
    "\n",
    "    # While stop condition is false\n",
    "    while not stop_condition:\n",
    "\n",
    "        # Decoder prediction\n",
    "        output_tokens, h, c = decoder_model.predict([target_seq] + states_value)\n",
    "\n",
    "        # Find the maximum index value\n",
    "        sampled_token_index = np.argmax(output_tokens[0, -1, :])\n",
    "\n",
    "        # Add the predicted int to output sequence\n",
    "        decoded_sentence.append(sampled_token_index) \n",
    "\n",
    "        # Exit condition\n",
    "        #   1. Hitting maximum length\n",
    "        #   2. Finding stop character\n",
    "        if (sampled_token_index==word2int_en[\"<EOS>\"]) or (len(decoded_sentence)==max_decoder_length):\n",
    "\n",
    "            # Set stop condition to true\n",
    "            stop_condition = True\n",
    "\n",
    "        # Update the target sequence (of length 1).\n",
    "        target_seq = np.zeros(shape=(1, 1, num_decoder_tokens))\n",
    "        target_seq[0, 0, sampled_token_index] = 1.\n",
    "\n",
    "        # Update states (context vector) \n",
    "        states_value = [h, c]\n",
    "\n",
    "    return decoded_sentence, target_seq"
   ]
  },
  {
   "cell_type": "code",
   "execution_count": 49,
   "metadata": {},
   "outputs": [],
   "source": [
    "# Function for inference\n",
    "def inference(model, text):\n",
    "\n",
    "    # Label encode\n",
    "    encoded = label_encoding(text, word2int_en, \"english\")\n",
    "\n",
    "    # Padding\n",
    "    encoded = padding([encoded], max_len)[0]\n",
    "\n",
    "    # One hot encoding\n",
    "    encoded = one_hot_encoding(encoded, length=len(word2int_en)+1)\n",
    "\n",
    "    # Expand first dimension\n",
    "    encoded = np.expand_dims(encoded, 0)\n",
    "\n",
    "    # Predict\n",
    "    prediction, _ = decode_sequence(encoded)\n",
    "\n",
    "    # Label decoding\n",
    "    decoded = \" \".join(label_decoding(prediction, int2word_fr))\n",
    "\n",
    "    # Remove tags\n",
    "    for i_token in [\"<SOS>\", \"<EOS>\", \"<UNK>\"]: decoded = decoded.replace(i_token, \"\").strip()\n",
    "\n",
    "    return decoded"
   ]
  },
  {
   "cell_type": "code",
   "execution_count": 50,
   "metadata": {},
   "outputs": [
    {
     "name": "stdout",
     "output_type": "stream",
     "text": [
      "INPUT:        new jersey is sometimes quiet during autumn and it is snowy in april\n",
      "PREDICTION:   new jersey est parfois calme pendant l ' automne et il est neigeux en avril\n",
      "TRUE OUTPUT:  new jersey est parfois calme pendant l' automne et il est neigeux en avril\n"
     ]
    }
   ],
   "source": [
    "# Predict a sentence\n",
    "input_text = \"new jersey is sometimes quiet during autumn and it is snowy in april\"\n",
    "prediction = inference(model=model, text=input_text)\n",
    "true_output = \"new jersey est parfois calme pendant l' automne et il est neigeux en avril\"\n",
    "\n",
    "# Report\n",
    "print(\"INPUT:       \", input_text)\n",
    "print(\"PREDICTION:  \", prediction)\n",
    "print(\"TRUE OUTPUT: \", true_output)"
   ]
  },
  {
   "cell_type": "markdown",
   "metadata": {},
   "source": [
    "<br>\n",
    "\n",
    "## Evaluation\n",
    "\n",
    "---"
   ]
  },
  {
   "cell_type": "code",
   "execution_count": null,
   "metadata": {},
   "outputs": [],
   "source": []
  },
  {
   "cell_type": "code",
   "execution_count": null,
   "metadata": {},
   "outputs": [],
   "source": []
  },
  {
   "cell_type": "code",
   "execution_count": null,
   "metadata": {},
   "outputs": [],
   "source": []
  },
  {
   "cell_type": "markdown",
   "metadata": {},
   "source": [
    "#### THE END"
   ]
  }
 ],
 "metadata": {
  "interpreter": {
   "hash": "4bf5a16b79f3cb90985e3628257d567fbd7649cb1685a1c31906a530b639e1e3"
  },
  "kernelspec": {
   "display_name": "Python 3.8.13 ('prime')",
   "language": "python",
   "name": "python3"
  },
  "language_info": {
   "codemirror_mode": {
    "name": "ipython",
    "version": 3
   },
   "file_extension": ".py",
   "mimetype": "text/x-python",
   "name": "python",
   "nbconvert_exporter": "python",
   "pygments_lexer": "ipython3",
   "version": "3.8.13"
  },
  "orig_nbformat": 4
 },
 "nbformat": 4,
 "nbformat_minor": 2
}
