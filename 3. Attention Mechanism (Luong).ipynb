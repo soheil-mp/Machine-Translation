{
 "cells": [
  {
   "cell_type": "markdown",
   "metadata": {},
   "source": [
    "<h1 style=\"text-align:center;\">Machine Translation</h1>\n",
    "<h3 style=\"text-align:center;\">Encoder-Decoder (Vanilla)</h3>"
   ]
  },
  {
   "cell_type": "markdown",
   "metadata": {},
   "source": [
    "<br>\n",
    "\n",
    "## Initial Deployment\n",
    "\n",
    "---"
   ]
  },
  {
   "cell_type": "code",
   "execution_count": 1,
   "metadata": {},
   "outputs": [],
   "source": [
    "# Import the libraries\n",
    "import nltk, re, tqdm, keras\n",
    "import numpy as np\n",
    "import pandas as pd\n",
    "import tensorflow as tf\n",
    "import matplotlib.pyplot as plt\n",
    "%matplotlib inline"
   ]
  },
  {
   "cell_type": "markdown",
   "metadata": {},
   "source": [
    "<br>\n",
    "\n",
    "## Load Dataset\n",
    "\n",
    "---"
   ]
  },
  {
   "cell_type": "code",
   "execution_count": 2,
   "metadata": {},
   "outputs": [
    {
     "name": "stdout",
     "output_type": "stream",
     "text": [
      "English: \n",
      " ['new jersey is sometimes quiet during autumn , and it is snowy in april .', 'the united states is usually chilly during july , and it is usually freezing in november .']\n",
      "\n",
      "French: \n",
      " [\"new jersey est parfois calme pendant l' automne , et il est neigeux en avril .\", 'les états-unis est généralement froid en juillet , et il gèle habituellement en novembre .']\n"
     ]
    }
   ],
   "source": [
    "# Load the english dataset\n",
    "with open(\"./dataset/en.txt\", encoding='utf-8') as f:\n",
    "    en = f.read().split(\"\\n\")\n",
    "\n",
    "# Load the french dataset\n",
    "with open(\"./dataset/fr.txt\", encoding='utf-8') as f:\n",
    "    fr = f.read().split(\"\\n\")\n",
    "\n",
    "# Report\n",
    "print(\"English: \\n\", en[:2])\n",
    "print(\"\\nFrench: \\n\", fr[:2])"
   ]
  },
  {
   "cell_type": "markdown",
   "metadata": {},
   "source": [
    "<br>\n",
    "\n",
    "## Text Processing & Feature Extraction\n",
    "\n",
    "---"
   ]
  },
  {
   "cell_type": "code",
   "execution_count": 3,
   "metadata": {},
   "outputs": [],
   "source": [
    "# Function for preprocessing the texts\n",
    "def text_preprocessing(text):\n",
    "\n",
    "    # Lowercase\n",
    "    text = text.lower()\n",
    "\n",
    "    # Remove unnecessary characters\n",
    "    text = re.sub(r\"[/.,|?><;:±!@#$%^&*()_+=-]\", \" \", text)\n",
    "\n",
    "    # Remove extra empty spaces\n",
    "    text = \" \".join(text.split())\n",
    "\n",
    "    return text"
   ]
  },
  {
   "cell_type": "code",
   "execution_count": 4,
   "metadata": {},
   "outputs": [
    {
     "name": "stderr",
     "output_type": "stream",
     "text": [
      "100%|\u001b[34m███████████████████████████████████████████████████\u001b[0m| 137861/137861 [00:00<00:00, 309286.85it/s]\u001b[0m\n",
      "100%|\u001b[34m███████████████████████████████████████████████████\u001b[0m| 137861/137861 [00:00<00:00, 255117.49it/s]\u001b[0m\n"
     ]
    },
    {
     "name": "stdout",
     "output_type": "stream",
     "text": [
      "English: \n",
      " ['new jersey is sometimes quiet during autumn and it is snowy in april'\n",
      " 'the united states is usually chilly during july and it is usually freezing in november']\n",
      "\n",
      "French: \n",
      " [\"new jersey est parfois calme pendant l' automne et il est neigeux en avril\"\n",
      " 'les états unis est généralement froid en juillet et il gèle habituellement en novembre']\n"
     ]
    }
   ],
   "source": [
    "# Preprocess the texts\n",
    "en = np.array([text_preprocessing(i) for i in tqdm.tqdm(en, ncols=100, colour=\"blue\")])\n",
    "fr = np.array([text_preprocessing(i) for i in tqdm.tqdm(fr, ncols=100, colour=\"blue\")])\n",
    "\n",
    "# Report\n",
    "print(\"English: \\n\", en[:2])\n",
    "print(\"\\nFrench: \\n\", fr[:2])"
   ]
  },
  {
   "cell_type": "code",
   "execution_count": 5,
   "metadata": {},
   "outputs": [],
   "source": [
    "# Function for creating Word2Int and Int2Word\n",
    "def prepare_word_dictionay(list_of_texts, language):\n",
    "\n",
    "    # Unique tokens\n",
    "    text = \" \".join(list_of_texts.ravel()).lower()                  # Convert list of strings into one string\n",
    "    tokens = nltk.tokenize.word_tokenize(text, language=language)   # Tokenize\n",
    "    unique_tokens = np.unique(tokens)                               # Unique tokens\n",
    "\n",
    "    # Initialize Word2Int\n",
    "    word2int = {}\n",
    "\n",
    "    # Add necessary tags  \n",
    "    word2int[\"<SOS>\"] = 1        # Start-of-sequence <SOS> tag\n",
    "    word2int[\"<EOS>\"] = 2        # End-of-sequence <EOS> tag\n",
    "    word2int[\"<UNK>\"] = 3        # Unknown <UNK> tag\n",
    "\n",
    "    # Loop over unique tokens\n",
    "    for i_token in tqdm.tqdm(unique_tokens, ncols=100, colour=\"blue\"):\n",
    "\n",
    "        # Add to Word2Int\n",
    "        word2int[i_token] = max(word2int.values())+1\n",
    "\n",
    "    # Make Int2Word\n",
    "    int2word = {idx: word for word, idx in word2int.items()}\n",
    "\n",
    "    return word2int, int2word"
   ]
  },
  {
   "cell_type": "code",
   "execution_count": 6,
   "metadata": {},
   "outputs": [
    {
     "name": "stderr",
     "output_type": "stream",
     "text": [
      "100%|\u001b[34m█████████████████████████████████████████████████████████\u001b[0m| 197/197 [00:00<00:00, 199632.25it/s]\u001b[0m\n",
      "100%|\u001b[34m█████████████████████████████████████████████████████████\u001b[0m| 345/345 [00:00<00:00, 176704.71it/s]\u001b[0m\n"
     ]
    }
   ],
   "source": [
    "# Create word2int and int2word\n",
    "word2int_en, int2word_en = prepare_word_dictionay(list_of_texts=en, language=\"english\")\n",
    "word2int_fr, int2word_fr = prepare_word_dictionay(list_of_texts=fr, language=\"french\")"
   ]
  },
  {
   "cell_type": "code",
   "execution_count": 7,
   "metadata": {},
   "outputs": [],
   "source": [
    "# Label encoding function; For converting words to numerical values\n",
    "def label_encoding(text, word2int, language):\n",
    "\n",
    "    # Tokenize\n",
    "    tokens = nltk.tokenize.word_tokenize(text, language=language)\n",
    "\n",
    "    # Add staring/ending tag\n",
    "    tokens.insert(0, \"<SOS>\")\n",
    "    tokens.insert(len(tokens), \"<EOS>\")\n",
    "\n",
    "    # Initialize a list\n",
    "    encoded_tokens = []\n",
    "\n",
    "    # Loop over tokens\n",
    "    for i in tokens:\n",
    "\n",
    "        # Append idx if it exist\n",
    "        try: encoded_tokens.append(word2int[i])\n",
    "\n",
    "        # Append <UNK> if it doesn't exist\n",
    "        except: encoded_tokens.append(word2int[\"<UNK>\"])\n",
    "\n",
    "    return encoded_tokens\n",
    "\n",
    "\n",
    "# Label decoding function; For converting numerical values to words\n",
    "def label_decoding(tokens, int2word):\n",
    "\n",
    "    # Initialize a list\n",
    "    decoded_tokens = []\n",
    "\n",
    "    # Loop over tokens\n",
    "    for i in tokens:\n",
    "\n",
    "        # Append word if it exist\n",
    "        try: decoded_tokens.append(int2word[i])\n",
    "\n",
    "        # Append <UNK> if it doesn't exist\n",
    "        except: decoded_tokens.append(\"<UNK>\")\n",
    "\n",
    "    return decoded_tokens"
   ]
  },
  {
   "cell_type": "code",
   "execution_count": 8,
   "metadata": {},
   "outputs": [
    {
     "name": "stderr",
     "output_type": "stream",
     "text": [
      "100%|\u001b[34m█████████████████████████████████████████████████████\u001b[0m| 137861/137861 [00:15<00:00, 9168.19it/s]\u001b[0m\n",
      "100%|\u001b[34m█████████████████████████████████████████████████████\u001b[0m| 137861/137861 [00:15<00:00, 9158.90it/s]\u001b[0m"
     ]
    },
    {
     "name": "stdout",
     "output_type": "stream",
     "text": [
      "English: \n",
      " [[1, 123, 92, 89, 158, 141, 53, 16, 7, 90, 89, 157, 87, 12, 2]]\n",
      "\n",
      "French: \n",
      " [[1, 209, 154, 109, 229, 53, 232, 157, 4, 32, 110, 145, 109, 208, 101, 37, 2]]\n"
     ]
    },
    {
     "name": "stderr",
     "output_type": "stream",
     "text": [
      "\n"
     ]
    }
   ],
   "source": [
    "# Label encode the texts\n",
    "en_label_encoded = [label_encoding(i, language=\"english\", word2int=word2int_en) for i in tqdm.tqdm(en, ncols=100, colour=\"blue\", total=en.shape[0])]\n",
    "fr_label_encoded = [label_encoding(i, language=\"french\", word2int=word2int_fr) for i in tqdm.tqdm(fr, ncols=100, colour=\"blue\", total=fr.shape[0])]\n",
    "\n",
    "# Report\n",
    "print(\"English: \\n\", en_label_encoded[:1])\n",
    "print(\"\\nFrench: \\n\", fr_label_encoded[:1])"
   ]
  },
  {
   "cell_type": "code",
   "execution_count": 9,
   "metadata": {},
   "outputs": [],
   "source": [
    "# Function for padding the sequence\n",
    "def padding(label_encoded_seq, max_len):\n",
    "\n",
    "    # Pad the sequences\n",
    "    padded_seq = tf.keras.preprocessing.sequence.pad_sequences(sequences=label_encoded_seq, maxlen=max_len, \n",
    "                                                               padding=\"post\", truncating=\"post\")\n",
    "\n",
    "    return padded_seq"
   ]
  },
  {
   "cell_type": "code",
   "execution_count": 10,
   "metadata": {},
   "outputs": [
    {
     "name": "stdout",
     "output_type": "stream",
     "text": [
      "Shape of int tokens EN:  (137861, 25)\n",
      "Shape of int tokens FR:  (137861, 25)\n"
     ]
    }
   ],
   "source": [
    "# Maximum length for padding\n",
    "max_len = max(max([len(i) for i in en_label_encoded]), max([len(i) for i in fr_label_encoded]))\n",
    "\n",
    "# Pad the sequences\n",
    "en_label_encoded = padding(en_label_encoded, max_len) \n",
    "fr_label_encoded = padding(fr_label_encoded, max_len) \n",
    "\n",
    "# Report\n",
    "print(\"Shape of int tokens EN: \", en_label_encoded.shape)\n",
    "print(\"Shape of int tokens FR: \", fr_label_encoded.shape)"
   ]
  },
  {
   "cell_type": "code",
   "execution_count": 11,
   "metadata": {},
   "outputs": [],
   "source": [
    "# One-hot encoding; Function for converting numerical values to binary vectors\n",
    "def one_hot_encoding(label_encoded_seq, length):\n",
    "\n",
    "    # Initialize a list for one hot encoded\n",
    "    one_hot_encoded = []\n",
    "    \n",
    "    # Loop over each token in the sequence\n",
    "    for i_token in label_encoded_seq:\n",
    "\n",
    "        # Initialize zero vector\n",
    "        #token = np.zeros(shape=length)\n",
    "        token = [0 for _ in range(length)]\n",
    "        \n",
    "        # Set one\n",
    "        token[i_token] = 1\n",
    "\n",
    "        # Append to the list\n",
    "        one_hot_encoded.append(token)\n",
    "\n",
    "    #return np.array(one_hot_encoded)\n",
    "    return one_hot_encoded\n",
    "\n",
    "\n",
    "# Function for one hot decoding\n",
    "def one_hot_decoding(tokens):\n",
    "\n",
    "    # Initialize a list for one hot decoded\n",
    "    one_hot_decoded = []\n",
    "        \n",
    "    # Loop over each token in the sequence\n",
    "    for i_token in tokens:\n",
    "\n",
    "        # Append to the list\n",
    "        one_hot_decoded.append(np.argmax(i_token))\n",
    "\n",
    "    #return np.array(one_hot_decoded)\n",
    "    return one_hot_decoded"
   ]
  },
  {
   "cell_type": "code",
   "execution_count": 12,
   "metadata": {},
   "outputs": [
    {
     "name": "stderr",
     "output_type": "stream",
     "text": [
      "100%|\u001b[34m█████████████████████████████████████████████████████\u001b[0m| 137861/137861 [00:54<00:00, 2516.91it/s]\u001b[0m\n",
      "100%|\u001b[34m█████████████████████████████████████████████████████\u001b[0m| 137861/137861 [01:27<00:00, 1583.42it/s]\u001b[0m\n"
     ]
    },
    {
     "name": "stdout",
     "output_type": "stream",
     "text": [
      "Shape of int tokens EN:  (137861, 25, 201)\n",
      "Shape of int tokens FR:  (137861, 25, 349)\n"
     ]
    }
   ],
   "source": [
    "# One-hot encoding\n",
    "en_one_hot_encoded = np.array([one_hot_encoding(i, length=len(word2int_en)+1) for i in tqdm.tqdm(en_label_encoded, ncols=100, colour=\"blue\")])\n",
    "fr_one_hot_encoded = np.array([one_hot_encoding(i, length=len(word2int_fr)+1) for i in tqdm.tqdm(fr_label_encoded, ncols=100, colour=\"blue\")])\n",
    "\n",
    "# Report\n",
    "print(\"Shape of int tokens EN: \", en_one_hot_encoded.shape)\n",
    "print(\"Shape of int tokens FR: \", fr_one_hot_encoded.shape)"
   ]
  },
  {
   "cell_type": "code",
   "execution_count": 13,
   "metadata": {},
   "outputs": [],
   "source": [
    "# Function for splitting the dataset into training/testing set\n",
    "def split_train_test(x, y, train_ratio=0.95):\n",
    "\n",
    "    # Find the dividing index\n",
    "    #div_idx = int(x.shape[0]*train_ratio)\n",
    "    div_idx = int(len(x)*train_ratio)\n",
    "\n",
    "    # Training set\n",
    "    x_train, y_train = x[:div_idx], y[:div_idx]\n",
    "\n",
    "    # Testing set\n",
    "    x_test, y_test = x[div_idx:], y[div_idx:]\n",
    "\n",
    "    return x_train, y_train, x_test, y_test"
   ]
  },
  {
   "cell_type": "code",
   "execution_count": 14,
   "metadata": {},
   "outputs": [
    {
     "name": "stdout",
     "output_type": "stream",
     "text": [
      "x-train shape:  (130967, 25, 201)\n",
      "y-train Shape:  (130967, 25, 349)\n",
      "x-test Shape:   (6894, 25, 201)\n",
      "y-test Shape:   (6894, 25, 349)\n"
     ]
    }
   ],
   "source": [
    "# Split the dataset into training and testing set\n",
    "x_train, y_train, x_test, y_test = split_train_test(x=en_one_hot_encoded, y=fr_one_hot_encoded, train_ratio=0.95)\n",
    "\n",
    "# Report\n",
    "print(\"x-train shape: \", x_train.shape) \n",
    "print(\"y-train Shape: \", y_train.shape)\n",
    "print(\"x-test Shape:  \", x_test.shape)\n",
    "print(\"y-test Shape:  \", y_test.shape)"
   ]
  },
  {
   "cell_type": "markdown",
   "metadata": {},
   "source": [
    "<br>\n",
    "\n",
    "## Model Construction and Training\n",
    "\n",
    "---"
   ]
  },
  {
   "cell_type": "code",
   "execution_count": 15,
   "metadata": {},
   "outputs": [
    {
     "name": "stdout",
     "output_type": "stream",
     "text": [
      "Encoder Input Data - (130967, 25, 201): \n",
      "[[0 1 0 ... 0 0 0]\n",
      " [0 0 0 ... 0 0 0]\n",
      " [0 0 0 ... 0 0 0]\n",
      " ...\n",
      " [1 0 0 ... 0 0 0]\n",
      " [1 0 0 ... 0 0 0]\n",
      " [1 0 0 ... 0 0 0]]\n"
     ]
    }
   ],
   "source": [
    "# Encoder data\n",
    "encoder_data  = x_train\n",
    "print(f\"Encoder Input Data - {encoder_data.shape}: \")\n",
    "print(encoder_data[0])"
   ]
  },
  {
   "cell_type": "code",
   "execution_count": 16,
   "metadata": {},
   "outputs": [
    {
     "name": "stdout",
     "output_type": "stream",
     "text": [
      "\n",
      "Decoder Input Data - (130967, 25, 349): \n",
      "[[0 1 0 ... 0 0 0]\n",
      " [0 0 0 ... 0 0 0]\n",
      " [0 0 0 ... 0 0 0]\n",
      " ...\n",
      " [1 0 0 ... 0 0 0]\n",
      " [1 0 0 ... 0 0 0]\n",
      " [1 0 0 ... 0 0 0]]\n"
     ]
    }
   ],
   "source": [
    "# Decoder data\n",
    "decoder_data  = y_train\n",
    "print(f\"\\nDecoder Input Data - {decoder_data.shape}: \")\n",
    "print(decoder_data[0])"
   ]
  },
  {
   "cell_type": "code",
   "execution_count": 17,
   "metadata": {},
   "outputs": [],
   "source": [
    "# Hyperparameters\n",
    "embedding_dim = 256\n",
    "units = 1024\n",
    "num_encoder_tokens = x_train.shape[-1]    # 203 \n",
    "num_decoder_tokens = y_train.shape[-1]    # 348 \n",
    "n_repeat_vector = max_len\n",
    "latent_dim = 512"
   ]
  },
  {
   "cell_type": "code",
   "execution_count": 18,
   "metadata": {},
   "outputs": [
    {
     "name": "stdout",
     "output_type": "stream",
     "text": [
      "Model: \"model\"\n",
      "__________________________________________________________________________________________________\n",
      " Layer (type)                   Output Shape         Param #     Connected to                     \n",
      "==================================================================================================\n",
      " encoder_input (InputLayer)     [(None, None, 201)]  0           []                               \n",
      "                                                                                                  \n",
      " encoder_LSTM (LSTM)            [(None, None, 512),  1462272     ['encoder_input[0][0]']          \n",
      "                                 (None, 512),                                                     \n",
      "                                 (None, 512)]                                                     \n",
      "                                                                                                  \n",
      " decoder_LSTM (LSTM)            (None, None, 512)    2099200     ['encoder_LSTM[0][0]',           \n",
      "                                                                  'encoder_LSTM[0][1]',           \n",
      "                                                                  'encoder_LSTM[0][2]']           \n",
      "                                                                                                  \n",
      " attention_layer (Attention)    ((None, None, 512),  0           ['encoder_LSTM[0][0]',           \n",
      "                                 (None, None, None)               'decoder_LSTM[0][0]']           \n",
      "                                )                                                                 \n",
      "                                                                                                  \n",
      " concat_layer (Concatenate)     (None, None, 1024)   0           ['decoder_LSTM[0][0]',           \n",
      "                                                                  'attention_layer[0][0]']        \n",
      "                                                                                                  \n",
      " output (TimeDistributed)       (None, None, 349)    357725      ['concat_layer[0][0]']           \n",
      "                                                                                                  \n",
      "==================================================================================================\n",
      "Total params: 3,919,197\n",
      "Trainable params: 3,919,197\n",
      "Non-trainable params: 0\n",
      "__________________________________________________________________________________________________\n"
     ]
    },
    {
     "data": {
      "image/png": "[encoded data removed]",
      "text/plain": [
       "<IPython.core.display.Image object>"
      ]
     },
     "execution_count": 18,
     "metadata": {},
     "output_type": "execute_result"
    }
   ],
   "source": [
    "###########\n",
    "# ENCODER #\n",
    "###########\n",
    "\n",
    "# Encoder input\n",
    "encoder_inputs = keras.layers.Input(shape=(None, num_encoder_tokens), name=\"encoder_input\")\n",
    "\n",
    "# Squeeze a dimension\n",
    "#encoder_inputs = tf.squeeze(encoder_inputs, axis=1, name=\"encoder_input_squeezed\")\n",
    "\n",
    "# Embedding layer (i.e. convert tokens into vectors) \n",
    "#encoder_embedding = tf.keras.layers.Embedding(num_encoder_tokens, embedding_dim)(encoder_inputs)\n",
    "\n",
    "# LSTM layer\n",
    "all_hidden_states_enc, state_h_enc, state_c_enc = keras.layers.LSTM(latent_dim, \n",
    "                                                                    return_sequences=True, \n",
    "                                                                    return_state=True, \n",
    "                                                                    name=\"encoder_LSTM\")(encoder_inputs, initial_state=None)\n",
    "\n",
    "\n",
    "###########\n",
    "# DECODER #\n",
    "###########\n",
    "\n",
    "# Decoder - LSTM layer\n",
    "all_hidden_states_decoder = tf.keras.layers.LSTM(units=latent_dim, \n",
    "                                                 return_sequences=True, \n",
    "                                                 return_state=False,\n",
    "                                                 name=\"decoder_LSTM\")(all_hidden_states_enc, initial_state=[state_h_enc, state_c_enc])\n",
    "\n",
    "\n",
    "############################\n",
    "# ADDITIVE ATTENTION LAYER #\n",
    "############################\n",
    "\n",
    "# Dot-product attention layer\n",
    "attn_out, attn_states = keras.layers.Attention(name='attention_layer')([all_hidden_states_enc, all_hidden_states_decoder], return_attention_scores=True)\n",
    "\n",
    "# Concatenate attention input and decoder output\n",
    "decoder_concat_input = keras.layers.Concatenate(axis=-1, name='concat_layer')([all_hidden_states_decoder, attn_out])\n",
    "\n",
    "\n",
    "##########\n",
    "# OUTPUT #\n",
    "##########\n",
    "\n",
    "# Dense layer\n",
    "dense = keras.layers.Dense(num_decoder_tokens, activation='softmax', name='softmax_layer')\n",
    "\n",
    "# Time-distributed layer\n",
    "dense_time = keras.layers.TimeDistributed(dense, name='output')\n",
    "\n",
    "# Feed data\n",
    "out = dense_time(decoder_concat_input)\n",
    "\n",
    "\n",
    "#########\n",
    "# MODEL #\n",
    "#########\n",
    "\n",
    "# Define the model\n",
    "model = keras.Model(inputs=encoder_inputs, outputs=out)\n",
    "\n",
    "# Compile the model\n",
    "model.compile(optimizer='adam', loss='categorical_crossentropy', metrics=[\"accuracy\"])\n",
    "\n",
    "# Report\n",
    "model.summary()\n",
    "keras.utils.vis_utils.plot_model(model)"
   ]
  },
  {
   "cell_type": "code",
   "execution_count": 19,
   "metadata": {},
   "outputs": [
    {
     "name": "stdout",
     "output_type": "stream",
     "text": [
      "Epoch 1/10\n",
      "819/819 [==============================] - 24s 25ms/step - loss: 0.9477 - accuracy: 0.7540 - val_loss: 0.4659 - val_accuracy: 0.8659\n",
      "Epoch 2/10\n",
      "819/819 [==============================] - 19s 23ms/step - loss: 0.3383 - accuracy: 0.8983 - val_loss: 0.2452 - val_accuracy: 0.9252\n",
      "Epoch 3/10\n",
      "819/819 [==============================] - 19s 23ms/step - loss: 0.2075 - accuracy: 0.9342 - val_loss: 0.1676 - val_accuracy: 0.9473\n",
      "Epoch 4/10\n",
      "819/819 [==============================] - 19s 23ms/step - loss: 0.1489 - accuracy: 0.9517 - val_loss: 0.1614 - val_accuracy: 0.9504\n",
      "Epoch 5/10\n",
      "819/819 [==============================] - 19s 23ms/step - loss: 0.1167 - accuracy: 0.9616 - val_loss: 0.1133 - val_accuracy: 0.9636\n",
      "Epoch 6/10\n",
      "819/819 [==============================] - 19s 23ms/step - loss: 0.0974 - accuracy: 0.9680 - val_loss: 0.0977 - val_accuracy: 0.9690\n",
      "Epoch 7/10\n",
      "819/819 [==============================] - 19s 23ms/step - loss: 0.0804 - accuracy: 0.9734 - val_loss: 0.0899 - val_accuracy: 0.9707\n",
      "Epoch 8/10\n",
      "819/819 [==============================] - 19s 23ms/step - loss: 0.0697 - accuracy: 0.9769 - val_loss: 0.0841 - val_accuracy: 0.9729\n",
      "Epoch 9/10\n",
      "819/819 [==============================] - 19s 23ms/step - loss: 0.0626 - accuracy: 0.9791 - val_loss: 0.0675 - val_accuracy: 0.9780\n",
      "Epoch 10/10\n",
      "819/819 [==============================] - 19s 23ms/step - loss: 0.0546 - accuracy: 0.9819 - val_loss: 0.0701 - val_accuracy: 0.9778\n"
     ]
    },
    {
     "data": {
      "text/plain": [
       "<keras.callbacks.History at 0x22edcddd070>"
      ]
     },
     "execution_count": 19,
     "metadata": {},
     "output_type": "execute_result"
    }
   ],
   "source": [
    "# Train the model\n",
    "model.fit(encoder_data,\n",
    "          decoder_data,\n",
    "           epochs=10,\n",
    "           batch_size=128,\n",
    "           validation_split=0.2)"
   ]
  },
  {
   "cell_type": "code",
   "execution_count": 20,
   "metadata": {},
   "outputs": [],
   "source": [
    "# Save the model\n",
    "model.save(\"./saved models/model_4.h5\")"
   ]
  },
  {
   "cell_type": "code",
   "execution_count": 21,
   "metadata": {},
   "outputs": [
    {
     "name": "stdout",
     "output_type": "stream",
     "text": [
      "Model got loaded.\n"
     ]
    }
   ],
   "source": [
    "# Load the model\n",
    "model = tf.keras.models.load_model(\"./saved models/model_4.h5\")\n",
    "print(\"Model got loaded.\")"
   ]
  },
  {
   "cell_type": "markdown",
   "metadata": {},
   "source": [
    "<br>\n",
    "\n",
    "## Inference\n",
    "\n",
    "---"
   ]
  },
  {
   "cell_type": "code",
   "execution_count": 24,
   "metadata": {},
   "outputs": [],
   "source": [
    "# Function for inference\n",
    "def inference(model, text):\n",
    "\n",
    "    # Label encode\n",
    "    encoded = label_encoding(text, word2int_en, \"english\")\n",
    "\n",
    "    # Padding\n",
    "    encoded = padding([encoded], max_len)[0]\n",
    "\n",
    "    # One hot encoding\n",
    "    encoded = one_hot_encoding(encoded, length=len(word2int_en)+1)\n",
    "\n",
    "    # Expand first dimension\n",
    "    encoded = np.expand_dims(encoded, 0)\n",
    "\n",
    "    # Predict\n",
    "    prediction = model.predict(encoded)[0]\n",
    "\n",
    "    # One-hot decoding\n",
    "    decoded = one_hot_decoding(prediction)\n",
    "\n",
    "    # Label decoding\n",
    "    decoded = \" \".join(label_decoding(decoded, int2word_fr))\n",
    "\n",
    "    # Remove tags\n",
    "    for i_token in [\"<SOS>\", \"<EOS>\", \"<UNK>\"]: decoded = decoded.replace(i_token, \"\").strip()\n",
    "\n",
    "    return decoded"
   ]
  },
  {
   "cell_type": "code",
   "execution_count": 25,
   "metadata": {},
   "outputs": [
    {
     "name": "stdout",
     "output_type": "stream",
     "text": [
      "INPUT:        new jersey is sometimes quiet during autumn and it is snowy in april\n",
      "PREDICTION:   new jersey est parfois calme à l'automne ' automne et neigeux en neigeux en\n",
      "TRUE OUTPUT:  new jersey est parfois calme pendant l' automne et il est neigeux en avril\n"
     ]
    }
   ],
   "source": [
    "# Predict a sentence\n",
    "input_text = \"new jersey is sometimes quiet during autumn and it is snowy in april\"\n",
    "prediction = inference(model=model, text=input_text)\n",
    "true_output = \"new jersey est parfois calme pendant l' automne et il est neigeux en avril\"\n",
    "\n",
    "# Report\n",
    "print(\"INPUT:       \", input_text)\n",
    "print(\"PREDICTION:  \", prediction)\n",
    "print(\"TRUE OUTPUT: \", true_output)"
   ]
  },
  {
   "cell_type": "markdown",
   "metadata": {},
   "source": [
    "<br>\n",
    "\n",
    "## Evaluation\n",
    "\n",
    "---"
   ]
  },
  {
   "cell_type": "code",
   "execution_count": null,
   "metadata": {},
   "outputs": [],
   "source": []
  },
  {
   "cell_type": "code",
   "execution_count": null,
   "metadata": {},
   "outputs": [],
   "source": []
  },
  {
   "cell_type": "code",
   "execution_count": null,
   "metadata": {},
   "outputs": [],
   "source": []
  },
  {
   "cell_type": "markdown",
   "metadata": {},
   "source": [
    "#### THE END"
   ]
  }
 ],
 "metadata": {
  "interpreter": {
   "hash": "4bf5a16b79f3cb90985e3628257d567fbd7649cb1685a1c31906a530b639e1e3"
  },
  "kernelspec": {
   "display_name": "Python 3.8.13 ('prime')",
   "language": "python",
   "name": "python3"
  },
  "language_info": {
   "codemirror_mode": {
    "name": "ipython",
    "version": 3
   },
   "file_extension": ".py",
   "mimetype": "text/x-python",
   "name": "python",
   "nbconvert_exporter": "python",
   "pygments_lexer": "ipython3",
   "version": "3.8.13"
  },
  "orig_nbformat": 4
 },
 "nbformat": 4,
 "nbformat_minor": 2
}
